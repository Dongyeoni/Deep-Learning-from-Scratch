{
 "cells": [
  {
   "cell_type": "markdown",
   "id": "d31dcb99-e5ea-4a17-af7d-3e7119a1ce0e",
   "metadata": {
    "tags": []
   },
   "source": [
    "# Chapter2. 퍼셉트론"
   ]
  },
  {
   "cell_type": "markdown",
   "id": "fe0f22bc-60ac-4cbf-b4b1-39830e61b919",
   "metadata": {
    "tags": []
   },
   "source": [
    "## 2.1 퍼셉트론이란"
   ]
  },
  {
   "cell_type": "markdown",
   "id": "2c48732b-7d63-4eec-bfa9-a6217f1500fd",
   "metadata": {
    "tags": []
   },
   "source": [
    "<img src=\"./images/ss.png\" width=\"200\" height=\"200\"/>\n",
    "[2-1]"
   ]
  },
  {
   "cell_type": "markdown",
   "id": "3929d093-c307-4924-9830-39725f43da20",
   "metadata": {
    "tags": []
   },
   "source": [
    "### 2.3.1 간단한 구현부터"
   ]
  },
  {
   "cell_type": "code",
   "execution_count": 1,
   "id": "86f75e63-1d98-46d2-9129-91212fc033bf",
   "metadata": {
    "tags": []
   },
   "outputs": [],
   "source": [
    "def AND(x1, x2):\n",
    "    w1, w2, theta = 0.5, 0.5, 0.7\n",
    "    tmp = x1*w1 + x2*w2\n",
    "    \n",
    "    if tmp <= theta:\n",
    "        return 0\n",
    "    else :\n",
    "        return 1"
   ]
  },
  {
   "cell_type": "code",
   "execution_count": 2,
   "id": "3d147dd4-b9f0-4141-9a2d-ff103547fb3a",
   "metadata": {
    "tags": []
   },
   "outputs": [
    {
     "name": "stdout",
     "output_type": "stream",
     "text": [
      "0\n",
      "0\n",
      "0\n",
      "1\n"
     ]
    }
   ],
   "source": [
    "print(AND(0,0))\n",
    "print(AND(1,0))\n",
    "print(AND(0,1))\n",
    "print(AND(1,1))"
   ]
  },
  {
   "cell_type": "markdown",
   "id": "2eb0c14a-8bb7-44d4-ac16-2ebad72ab03e",
   "metadata": {},
   "source": [
    "## 2.3.2 가중치와 편향 도입"
   ]
  },
  {
   "cell_type": "code",
   "execution_count": 3,
   "id": "aa3ca7eb-217d-4962-89b1-5f4711f3c7a8",
   "metadata": {
    "tags": []
   },
   "outputs": [],
   "source": [
    "import numpy as np"
   ]
  },
  {
   "cell_type": "code",
   "execution_count": 4,
   "id": "e4cfa4cd-73b2-477c-8e01-c881f50ea02f",
   "metadata": {
    "tags": []
   },
   "outputs": [],
   "source": [
    "x = np.array([0,1])"
   ]
  },
  {
   "cell_type": "code",
   "execution_count": 5,
   "id": "332724f7-5b60-4a2d-b56f-8595ff744378",
   "metadata": {
    "tags": []
   },
   "outputs": [],
   "source": [
    "w = np.array([0.5,0.5])"
   ]
  },
  {
   "cell_type": "code",
   "execution_count": 6,
   "id": "cc38774b-0bff-4af3-aeb7-2a8742a6b0ca",
   "metadata": {
    "tags": []
   },
   "outputs": [],
   "source": [
    "b = -0.7"
   ]
  },
  {
   "cell_type": "code",
   "execution_count": 7,
   "id": "2006e836-2674-43c8-82f2-82437f97287d",
   "metadata": {
    "tags": []
   },
   "outputs": [
    {
     "data": {
      "text/plain": [
       "array([0. , 0.5])"
      ]
     },
     "execution_count": 7,
     "metadata": {},
     "output_type": "execute_result"
    }
   ],
   "source": [
    "w*x"
   ]
  },
  {
   "cell_type": "code",
   "execution_count": 8,
   "id": "ecb26a04-6a51-4310-b00b-c191d287ff02",
   "metadata": {
    "tags": []
   },
   "outputs": [
    {
     "data": {
      "text/plain": [
       "0.5"
      ]
     },
     "execution_count": 8,
     "metadata": {},
     "output_type": "execute_result"
    }
   ],
   "source": [
    "np.sum(w*x)"
   ]
  },
  {
   "cell_type": "code",
   "execution_count": 9,
   "id": "e683522b-f4cf-461b-9b9b-aef90581d63a",
   "metadata": {
    "tags": []
   },
   "outputs": [
    {
     "data": {
      "text/plain": [
       "-0.19999999999999996"
      ]
     },
     "execution_count": 9,
     "metadata": {},
     "output_type": "execute_result"
    }
   ],
   "source": [
    "np.sum(w*x) + b"
   ]
  },
  {
   "cell_type": "code",
   "execution_count": null,
   "id": "7e69c729-40d7-4460-8c2f-0daca62a69c6",
   "metadata": {},
   "outputs": [],
   "source": []
  },
  {
   "cell_type": "markdown",
   "id": "58d543b4-06ae-4fd2-be4d-8d72c50a822b",
   "metadata": {},
   "source": [
    "## 2.3.3 가중치와 편향 구하기"
   ]
  },
  {
   "cell_type": "code",
   "execution_count": 10,
   "id": "4c01a558-3cee-4955-88da-abdaf93a2c44",
   "metadata": {
    "tags": []
   },
   "outputs": [],
   "source": [
    "def AND(x1, x2):\n",
    "    x = np.array([x1, x2])\n",
    "    w = np.array([0.5, 0.5])\n",
    "    b = -0.7\n",
    "    \n",
    "    tmp = np.sum(w*x) + b\n",
    "    if tmp <= 0:\n",
    "        return 0\n",
    "    else :\n",
    "        return 1"
   ]
  },
  {
   "cell_type": "code",
   "execution_count": 11,
   "id": "554fb27d-966c-4a78-a7e5-121d6073138e",
   "metadata": {
    "tags": []
   },
   "outputs": [],
   "source": [
    "def NAND(x1, x2):\n",
    "    x = np.array([x1, x2])\n",
    "    w = np.array([-0.5, -0.5])\n",
    "    b = 0.7\n",
    "    \n",
    "    tmp = np.sum(w*x) + b\n",
    "    if tmp <= 0:\n",
    "        return 0\n",
    "    else :\n",
    "        return 1"
   ]
  },
  {
   "cell_type": "code",
   "execution_count": 12,
   "id": "b758004a-651f-47a0-9e39-f11e0fc9eff4",
   "metadata": {
    "tags": []
   },
   "outputs": [],
   "source": [
    "def OR(x1, x2):\n",
    "    x = np.array([x1, x2])\n",
    "    w = np.array([0.5, 0.5])\n",
    "    b = -0.2\n",
    "    \n",
    "    tmp = np.sum(w*x) + b\n",
    "    if tmp <= 0:\n",
    "        return 0\n",
    "    else :\n",
    "        return 1"
   ]
  },
  {
   "cell_type": "markdown",
   "id": "056197ac-0217-4a6b-8151-a43b274bf278",
   "metadata": {},
   "source": [
    "# 2.4 퍼셉트론의 한계"
   ]
  },
  {
   "cell_type": "markdown",
   "id": "eb2f5421-3c0e-41ae-baab-b790a6db7bc1",
   "metadata": {},
   "source": [
    "## 2.4.1 XOR게이트"
   ]
  },
  {
   "cell_type": "markdown",
   "id": "d8d5c56b-636f-42b8-9ed8-04da50825167",
   "metadata": {
    "tags": []
   },
   "source": [
    "<img src=\"./images/2-8.png\" width=\"200\" height=\"200\"/>\n",
    "[2-8]"
   ]
  },
  {
   "cell_type": "raw",
   "id": "696ef677-cfce-47a2-8e94-ba7d4b0832db",
   "metadata": {},
   "source": [
    "XOR게이트는 직선을 통해 두 영역으로 나눌 수 없음\n",
    "곡선을 통해 비선형 영역을 도입\n",
    "단층 퍼셉트론으로 비선형 영역을 분리할 수 없다"
   ]
  },
  {
   "cell_type": "markdown",
   "id": "e02ec8ab-ebe6-4a58-b81d-6f18035e9ef6",
   "metadata": {},
   "source": [
    "# 2.5 다층 퍼셉트론이 출동한다면"
   ]
  },
  {
   "cell_type": "markdown",
   "id": "214db763-f38d-4ddf-a2f5-7f3d5c301e6c",
   "metadata": {},
   "source": [
    "## 2.5.1 기존 게이트 조합하기"
   ]
  },
  {
   "cell_type": "raw",
   "id": "bf70fe99-2de9-44f1-bcf4-87ed5f28acad",
   "metadata": {},
   "source": [
    "NAND n OR 를 해주면 XOR"
   ]
  },
  {
   "cell_type": "markdown",
   "id": "c7aab828-5e77-4f80-8d95-9e2ac41d0bd3",
   "metadata": {},
   "source": [
    "## 2.5.2 XOR 게이트 구현하기"
   ]
  },
  {
   "cell_type": "code",
   "execution_count": 13,
   "id": "0d687557-629c-47b1-8f7f-c30101333cd1",
   "metadata": {
    "tags": []
   },
   "outputs": [],
   "source": [
    "def XOR(x1, x2):\n",
    "    s1 = NAND(x1, x2)\n",
    "    s2 = OR(x1, x2)\n",
    "    y = AND(s1, s2)\n",
    "    \n",
    "    return y"
   ]
  },
  {
   "cell_type": "code",
   "execution_count": 14,
   "id": "b1020bab-155a-4407-8fa9-27ceb6d214da",
   "metadata": {
    "tags": []
   },
   "outputs": [
    {
     "name": "stdout",
     "output_type": "stream",
     "text": [
      "0\n",
      "1\n",
      "1\n",
      "0\n"
     ]
    }
   ],
   "source": [
    "print(XOR(0,0))\n",
    "print(XOR(1,0))\n",
    "print(XOR(0,1))\n",
    "print(XOR(1,1))"
   ]
  },
  {
   "cell_type": "markdown",
   "id": "9d330470-b562-47da-933d-3259625c3c7c",
   "metadata": {
    "tags": []
   },
   "source": [
    "<img src=\"./images/2-13.png\" width=\"400\" height=\"400\"/>\n",
    "[2-13]"
   ]
  },
  {
   "cell_type": "markdown",
   "id": "47afa643-566f-4c4e-89a8-5d09aa01e5e5",
   "metadata": {},
   "source": [
    "## 2.6 NAND에서 컴퓨터까지"
   ]
  },
  {
   "cell_type": "raw",
   "id": "c4509c3b-31a2-4d5e-874e-2b670405e33b",
   "metadata": {},
   "source": [
    "(신기한 사실1)\n",
    "「The Elements of Computing Systems: Building a Modern Computer from Frist Principles」(The MIT Press, 2005)\n",
    "에 따르면 NAND로 테트리스가 작동하는 컴퓨터를 만들었다."
   ]
  },
  {
   "cell_type": "raw",
   "id": "8d4a99b0-cd17-48f3-9e59-c23ecfa8793b",
   "metadata": {},
   "source": [
    "(신기한 사실2)\n",
    "이론상 2층 퍼셉트론이면 컴퓨터를 만들 수 있다\n"
   ]
  },
  {
   "cell_type": "markdown",
   "id": "54963f4d-7e90-4524-8f71-cd4b20bb85b9",
   "metadata": {},
   "source": [
    "* 비선형인 시그모이드 함수를 활성화 함수로 이용하면 임의의 함수를 표현할 수 있다는 사실이 증명되었다"
   ]
  }
 ],
 "metadata": {
  "kernelspec": {
   "display_name": "Python 3 (ipykernel)",
   "language": "python",
   "name": "python3"
  },
  "language_info": {
   "codemirror_mode": {
    "name": "ipython",
    "version": 3
   },
   "file_extension": ".py",
   "mimetype": "text/x-python",
   "name": "python",
   "nbconvert_exporter": "python",
   "pygments_lexer": "ipython3",
   "version": "3.11.3"
  }
 },
 "nbformat": 4,
 "nbformat_minor": 5
}
