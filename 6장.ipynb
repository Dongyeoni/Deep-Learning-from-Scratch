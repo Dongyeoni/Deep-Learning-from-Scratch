{
 "cells": [
  {
   "cell_type": "markdown",
   "id": "0509b802-8e9c-4acb-afbe-3fcd6b2e6f39",
   "metadata": {},
   "source": [
    "# Chapter6. 학습 관련 기술들"
   ]
  },
  {
   "cell_type": "markdown",
   "id": "581ec7d9-c4a6-4d25-95fd-28429870bbf4",
   "metadata": {},
   "source": [
    "## 6.1 매개변수 갱신"
   ]
  },
  {
   "cell_type": "markdown",
   "id": "6f3df082-19d2-4b15-a449-3cfff75bfb55",
   "metadata": {},
   "source": [
    "* 신경망 학습의 목적 : 손실 함수의 값을 가능한 한 낮추는 매개변수를 찾는 것\n",
    "* 최적화 : 최적 매개변수를 찾는 문제\n",
    "* 확률적 경사 하강법(SGD) 외에 다른 기법들도 존재"
   ]
  },
  {
   "cell_type": "markdown",
   "id": "231b150f-fa4f-4685-b3e6-460b50ecdf60",
   "metadata": {},
   "source": [
    "### 6.1.1 모험가 이야기"
   ]
  },
  {
   "cell_type": "markdown",
   "id": "e6bf2921-e176-4dcb-8faf-06113c07bf41",
   "metadata": {},
   "source": [
    "* 지도를 보지 않고 눈 가리개를 쓴 모험가가 가장 깊고 낮은 골짜기를 찾는 문제와 유사"
   ]
  },
  {
   "cell_type": "markdown",
   "id": "06ffaaa9-7f4c-458a-8c7f-8018f0f3750b",
   "metadata": {},
   "source": [
    "### 6.1.2 확률적 경사 하강법(SGD)"
   ]
  },
  {
   "cell_type": "markdown",
   "id": "a2efe58a-4085-40d4-a14c-88861dbd1a40",
   "metadata": {
    "tags": []
   },
   "source": [
    "<img src=\"./images/6.1.png\" width=\"150\" height=\"150\"/>\n",
    "(6.1)"
   ]
  },
  {
   "cell_type": "code",
   "execution_count": 1,
   "id": "52572c5b-f72b-4cc2-a88b-fb9ea654390a",
   "metadata": {
    "tags": []
   },
   "outputs": [],
   "source": [
    "# SGD 구현"
   ]
  },
  {
   "cell_type": "code",
   "execution_count": 2,
   "id": "bde5f783-56c3-466e-a761-a386cff0c30f",
   "metadata": {
    "tags": []
   },
   "outputs": [],
   "source": [
    "class SGD:\n",
    "    def __init__(self, lr =0.01):\n",
    "        self.lr = lr\n",
    "        \n",
    "    def update(self, params, grads):\n",
    "        for key in params.keys():\n",
    "            params[key] -= self.lr * grads[key]"
   ]
  },
  {
   "cell_type": "code",
   "execution_count": 3,
   "id": "0c138de9-097f-440e-8bc9-b74d0f502c65",
   "metadata": {
    "tags": []
   },
   "outputs": [],
   "source": [
    "# 의사코드"
   ]
  },
  {
   "cell_type": "code",
   "execution_count": null,
   "id": "46bde749-123f-4608-9c28-7ea9bc008f2d",
   "metadata": {},
   "outputs": [],
   "source": [
    "network = TwoLayerNet(...)\n",
    "optimizer = SGD()"
   ]
  },
  {
   "cell_type": "code",
   "execution_count": null,
   "id": "6352369e-df2e-4f54-8f9d-41848e1a7ee3",
   "metadata": {},
   "outputs": [],
   "source": [
    "for i in range(10000):\n",
    "    ...\n",
    "    x_batch, t_batch = get_mini_batch(...)\n",
    "    grads = network.gradient(x_batch, t_batch)\n",
    "    params = network.params\n",
    "    optimizer.update(params, grads)\n",
    "    ...\n",
    "    "
   ]
  },
  {
   "cell_type": "markdown",
   "id": "6ebb1ee4-303d-46dc-8db8-2e01de524fe2",
   "metadata": {},
   "source": [
    "### 6.1.3 SGD의 단점"
   ]
  },
  {
   "cell_type": "markdown",
   "id": "bf3a87e3-160b-45ce-8af5-63d3460ed022",
   "metadata": {},
   "source": [
    "#### (예시) 함수의 최솟값 구하기 문제"
   ]
  },
  {
   "cell_type": "markdown",
   "id": "c2aa195b-b347-4157-884f-77a653aa80c2",
   "metadata": {},
   "source": [
    "<img src=\"./images/6.2.png\" width=\"150\" height=\"150\"/>\n",
    "(6.2)"
   ]
  },
  {
   "cell_type": "markdown",
   "id": "57c96c49-0fd3-468f-8f21-f6babe9c4dfb",
   "metadata": {},
   "source": [
    "<img src=\"./images/6-1.png\" width=\"400\" height=\"400\"/>\n",
    "[6-1]"
   ]
  },
  {
   "cell_type": "markdown",
   "id": "0a98f13f-cf78-4af8-8739-2ecbd15bf902",
   "metadata": {
    "tags": []
   },
   "source": [
    "<img src=\"./images/6-2.png\" width=\"300\" height=\"300\"/>\n",
    "[6-2]"
   ]
  },
  {
   "cell_type": "markdown",
   "id": "6a14c212-d80c-4e3a-8e17-521436a297ec",
   "metadata": {},
   "source": [
    "#### (x, y) = (-7.0, 2.0)에서 시작한다고 가정"
   ]
  },
  {
   "cell_type": "markdown",
   "id": "4b9e534c-5da2-47b3-9966-e3c53c09928c",
   "metadata": {},
   "source": [
    "<img src=\"./images/6-3.png\" width=\"300\" height=\"300\"/>\n",
    "[6-3]"
   ]
  },
  {
   "cell_type": "markdown",
   "id": "adeb9d01-db8a-49c4-9ebf-e732d601fe47",
   "metadata": {},
   "source": [
    "* SGD의 움직임이 비효율적이다\n",
    "* SGD의 단점으로 비등방성(anisotropy) 함수에서 탐색 경로가 비효율적"
   ]
  },
  {
   "cell_type": "markdown",
   "id": "7d1dd8de-12ed-4d50-ad63-ef5ef8048aaf",
   "metadata": {},
   "source": [
    "### 6.1.4 모멘텀"
   ]
  },
  {
   "cell_type": "markdown",
   "id": "3bb3df43-dc5c-40f1-8af9-779d237f4dd1",
   "metadata": {},
   "source": [
    "#### (수식)"
   ]
  },
  {
   "cell_type": "markdown",
   "id": "4cfd3e59-9dec-40ea-9060-62cc30dc5e56",
   "metadata": {},
   "source": [
    "<img src=\"./images/6.3.png\" width=\"150\" height=\"150\"/>\n",
    "(6.3)"
   ]
  },
  {
   "cell_type": "markdown",
   "id": "06c0c7f0-ab0a-4ddc-aa07-85fc0998e8d4",
   "metadata": {
    "tags": []
   },
   "source": [
    "<img src=\"./images/6.4.png\" width=\"100\" height=\"100\"/>\n",
    "(6.4)"
   ]
  },
  {
   "cell_type": "markdown",
   "id": "97d3bd17-0345-40c8-b017-6461d9387382",
   "metadata": {},
   "source": [
    "* $W$ : 갱신할 가중치 매개변수\n",
    "* $\\frac {\\partial L}{\\partial W}$ : W에 대한 손실 함수의 기울기\n",
    "* $\\eta$ : 학습률\n",
    "* $v$ : 속도\n",
    "* $\\alpha v$ : 마찰(저항)의 역할"
   ]
  },
  {
   "cell_type": "code",
   "execution_count": 3,
   "id": "2bc59181-2c86-4dd6-adc0-accfddbe8e05",
   "metadata": {
    "tags": []
   },
   "outputs": [],
   "source": [
    "# 구현"
   ]
  },
  {
   "cell_type": "code",
   "execution_count": 4,
   "id": "ea9615e1-3e48-480a-a436-1fb1782eb9c1",
   "metadata": {
    "tags": []
   },
   "outputs": [],
   "source": [
    "import numpy as np"
   ]
  },
  {
   "cell_type": "code",
   "execution_count": 5,
   "id": "596cfc36-c552-42f3-8d7f-7a31841bd757",
   "metadata": {
    "tags": []
   },
   "outputs": [],
   "source": [
    "class Momentum :\n",
    "    def __init__(self, lr = 0.01, momentum = 0.9):\n",
    "        self.lr = lr\n",
    "        self.momentum = momentum\n",
    "        self.v = None\n",
    "        \n",
    "    def update(self, params, grads):\n",
    "        if self.v is None:\n",
    "            self.v = {}\n",
    "            for key, val in params.items():\n",
    "                self.v[key] = np.zeros_like(val)\n",
    "                \n",
    "        for key in params.keys():\n",
    "            self.v[key] = self.momentum * self.v[key] - self.lr * grads[key]\n",
    "            params[key] += self.v[key]"
   ]
  },
  {
   "cell_type": "markdown",
   "id": "27aa8c5d-65ad-4267-b781-b056f8c9939d",
   "metadata": {},
   "source": [
    "#### (모멘텀의 경로)"
   ]
  },
  {
   "cell_type": "markdown",
   "id": "0986186c-b2d0-48bf-a0ec-c03432eef3a6",
   "metadata": {},
   "source": [
    "<img src=\"./images/6-5.png\" width=\"350\" height=\"350\"/>\n",
    "[6-5]"
   ]
  },
  {
   "cell_type": "markdown",
   "id": "7616c2e4-f26e-42fb-82ad-e780d8474c6f",
   "metadata": {},
   "source": [
    "### 6.1.5 AdaGrad"
   ]
  },
  {
   "cell_type": "markdown",
   "id": "bd9d16ef-7fc7-4aaf-b9af-5c359cdb8ec2",
   "metadata": {},
   "source": [
    "* 학습률 감소(learning rate decay) : 학습을 진행하면서 학습률을 점차 줄여가는 방법"
   ]
  },
  {
   "cell_type": "markdown",
   "id": "32753f4f-66b9-457e-85b5-df46db24db4b",
   "metadata": {},
   "source": [
    "#### (AdaGrad의 수식)"
   ]
  },
  {
   "cell_type": "markdown",
   "id": "05d12858-bfc6-4939-a526-72b00fc84a8a",
   "metadata": {},
   "source": [
    "<img src=\"./images/6.5.png\" width=\"150\" height=\"150\"/>\n",
    "(6.5)"
   ]
  },
  {
   "cell_type": "markdown",
   "id": "b001fc68-9eff-4ea7-8475-705864e2f9d9",
   "metadata": {},
   "source": [
    "<img src=\"./images/6.6.png\" width=\"150\" height=\"150\"/>\n",
    "(6.6)"
   ]
  },
  {
   "cell_type": "markdown",
   "id": "d8f5aaec-5041-4849-9f20-a1f4bb2fb148",
   "metadata": {},
   "source": [
    "* 기울기가 크면 h값이 커짐\n",
    "* 해당 값의 학습률을 낮춰짐"
   ]
  },
  {
   "cell_type": "code",
   "execution_count": 6,
   "id": "d99d4a57-00ca-4471-8d14-73ef8ea81697",
   "metadata": {
    "tags": []
   },
   "outputs": [],
   "source": [
    "# 구현"
   ]
  },
  {
   "cell_type": "code",
   "execution_count": 7,
   "id": "35b71b76-e5b9-4327-904d-63d59e8705c8",
   "metadata": {
    "tags": []
   },
   "outputs": [],
   "source": [
    "class AdaGrad:\n",
    "    def __init__(self, lr = 0.01):\n",
    "        self.lr = lr\n",
    "        self.h = None\n",
    "        \n",
    "    def update(self, params, grads):\n",
    "        if self.h is None:\n",
    "            self.h = {}\n",
    "    \n",
    "            for key.val in params.items():\n",
    "                self.h[key] = np.zeros(val)\n",
    "                \n",
    "        for key in params.keys():\n",
    "            self.h[key] += grads[key] * grads[key]\n",
    "            params[key] -= self.lr * grads[key] / (np.sqrt(self.h[key]) +1e-7) # 1e-7은 h가 0인 경우 나누기 문제를 막아줌"
   ]
  },
  {
   "cell_type": "markdown",
   "id": "104ba34f-0838-438a-a864-354c0972aa67",
   "metadata": {},
   "source": [
    "<img src=\"./images/6-6.png\" width=\"350\" height=\"350\"/>\n",
    "[6-6]"
   ]
  },
  {
   "cell_type": "markdown",
   "id": "c2fd9844-e9d5-46fa-981f-df731d606018",
   "metadata": {},
   "source": [
    "### 6.1.6 Adam"
   ]
  },
  {
   "cell_type": "markdown",
   "id": "936b104d-dd8a-41b0-8204-acb427f73bfa",
   "metadata": {},
   "source": [
    "* 모멘텀 : 공이 그릇을 구르는 듯한 물리 법칙에 따르는 움직임\n",
    "* AdaGrad : 매개변수 원소마다 적응적으로 갱신 정도 조종\n",
    "\n",
    "> Adam : 두 기법 융합"
   ]
  },
  {
   "cell_type": "markdown",
   "id": "f354aa33-e4ac-4ca1-80b8-f93fe8a88477",
   "metadata": {},
   "source": [
    "<img src=\"./images/6-7.png\" width=\"350\" height=\"350\"/>\n",
    "[6-7]"
   ]
  },
  {
   "cell_type": "markdown",
   "id": "9c001d57-c6b1-4b62-87bf-2f32e8c85c54",
   "metadata": {},
   "source": [
    "* Adam의 하이퍼 파라미터\n",
    "    * 학습률 ($\\alpha$)\n",
    "    * 일차 모멘텀용 계수 ($\\beta_1$) (기본값 0.9)\n",
    "    * 이차 모멘텀용 계수 ($\\beta_2$) (기본값 0.999)"
   ]
  },
  {
   "cell_type": "markdown",
   "id": "9c91d06e-bca8-4167-aec6-86963da403af",
   "metadata": {},
   "source": [
    "### 6.1.7 어느 갱신 방법을 이용할 것인가?"
   ]
  },
  {
   "cell_type": "markdown",
   "id": "749c5e72-735b-484b-a7e8-0585c42f524f",
   "metadata": {},
   "source": [
    "<img src=\"./images/6-8.png\" width=\"550\" height=\"550\"/>\n",
    "[6-8]"
   ]
  },
  {
   "cell_type": "markdown",
   "id": "dded41f9-9a36-4d42-8b34-173b0ead8045",
   "metadata": {},
   "source": [
    "* 슬프게도 모든 문제에서 항상 뛰어난 기법은 (아직까지) 없다"
   ]
  },
  {
   "cell_type": "markdown",
   "id": "3dd8ff9e-198d-4cda-bbb3-3d392f39767f",
   "metadata": {},
   "source": [
    "### 6.1.8 MNIST 데이터셋으로 본 갱신 방법 비교"
   ]
  },
  {
   "cell_type": "markdown",
   "id": "9aae75d6-ab38-4728-9f51-c0d8a2509430",
   "metadata": {},
   "source": [
    "<img src=\"./images/6-9.png\" width=\"450\" height=\"450\"/>\n",
    "[6-9] 흑백이라 뭐가 뭔지 모를거같다 ㅋㅋㅋㅋ\n",
    "맨 위에 그래프부터 SGD, 모멘텀, Adam, AdaGrad이다"
   ]
  },
  {
   "cell_type": "code",
   "execution_count": null,
   "id": "4c3bc54b-7f95-4b4f-a59c-51c8541fab2b",
   "metadata": {},
   "outputs": [],
   "source": []
  },
  {
   "cell_type": "markdown",
   "id": "32a5379a-5645-4183-bf54-e90c3633a515",
   "metadata": {},
   "source": [
    "## 6.2 가중치의 초깃값"
   ]
  },
  {
   "cell_type": "markdown",
   "id": "b7f98fc9-653b-449d-9e63-7e927c7f89fe",
   "metadata": {},
   "source": [
    "* 이제 드디어 4.5.1에서 의문으로 두었던 가중치의 초깃값에 대해 다룬다\n",
    "* 당시에는 정규분포를 따르는 난수로, 편향은 0을로 초기화했다."
   ]
  },
  {
   "cell_type": "markdown",
   "id": "8bb59b77-7eaf-4717-9327-7b0e7215887b",
   "metadata": {},
   "source": [
    "### 6.2.1 초깃값을 0으로 하면?"
   ]
  },
  {
   "cell_type": "markdown",
   "id": "4b205b52-fcb4-401c-b5d6-4744618e6fd7",
   "metadata": {},
   "source": [
    "* 가중치 감소 : 가중치 매개변수의 값이 작아지도록 학습하는 방법. \n",
    "    * 가중치 값을 작게 하여 오버피팅이 일어나지 않게 함"
   ]
  },
  {
   "cell_type": "markdown",
   "id": "d3026f60-d0a0-4609-ab26-d640e4b3b32b",
   "metadata": {},
   "source": [
    "#### (가중치의 초깃값을 0으로(혹은 균일한 값) 한다면?)"
   ]
  },
  {
   "cell_type": "markdown",
   "id": "d6f17326-efb7-4c76-bfac-a9e2c6cb9662",
   "metadata": {},
   "source": [
    "* 오차역전파법에서 모든 가중치의 값이 똑같이 갱신되기 때문에 사용하면 안 된다.\n",
    "* 가중치가 고르게 되는 상황을 막으려면(가중치의 대칭적인 구조를 무너뜨리려면) 초깃값을 무작위로 설정해야 한다"
   ]
  },
  {
   "cell_type": "markdown",
   "id": "a88bff94-383f-4870-b309-2a657060642c",
   "metadata": {},
   "source": [
    "### 6.2.2 은닉층의 활성화값 분포"
   ]
  },
  {
   "cell_type": "code",
   "execution_count": 8,
   "id": "2b83ac0e-3ab4-489e-aeac-48b50215aeda",
   "metadata": {},
   "outputs": [],
   "source": [
    "import numpy as np\n",
    "import matplotlib.pyplot as plt"
   ]
  },
  {
   "cell_type": "code",
   "execution_count": 9,
   "id": "f72080ce-3499-415d-8bab-7e331543f399",
   "metadata": {
    "tags": []
   },
   "outputs": [],
   "source": [
    "def sigmoid(x):\n",
    "    return 1 / (1 +np.exp(-x))"
   ]
  },
  {
   "cell_type": "code",
   "execution_count": 10,
   "id": "a648ff73-9743-449a-84aa-fb0e82d896b9",
   "metadata": {
    "tags": []
   },
   "outputs": [],
   "source": [
    "x = np.random.randn(1000, 100) # 1000개의 데이터\n",
    "node_num = 100 # 각 은닉층 노드 수\n",
    "hidden_layer_size = 5 # 5층의 은닉층\n",
    "activations = {} # 활성화 결과값 저장"
   ]
  },
  {
   "cell_type": "code",
   "execution_count": 11,
   "id": "e43ef043-16b0-4d96-aa3c-da900f98fb9a",
   "metadata": {
    "tags": []
   },
   "outputs": [],
   "source": [
    "for i in range(hidden_layer_size):\n",
    "    if i != 0:\n",
    "        x = activations[i-1]\n",
    "    \n",
    "    w = np.random.randn(node_num, node_num) * 1\n",
    "    a = np.dot(x,w)\n",
    "    z = sigmoid(a)\n",
    "    activations[i] = z"
   ]
  },
  {
   "cell_type": "code",
   "execution_count": 12,
   "id": "bb1b4f30-d59f-4f50-ab08-08d61ccac771",
   "metadata": {
    "tags": []
   },
   "outputs": [],
   "source": [
    "#히스토그램 그리기"
   ]
  },
  {
   "cell_type": "code",
   "execution_count": 13,
   "id": "607052fd-278e-496c-a116-d8d0fb150370",
   "metadata": {
    "tags": []
   },
   "outputs": [
    {
     "data": {
      "image/png": "[encoded data removed]",
      "text/plain": [
       "<Figure size 640x480 with 5 Axes>"
      ]
     },
     "metadata": {},
     "output_type": "display_data"
    }
   ],
   "source": [
    "for i, a in activations.items():\n",
    "    plt.subplot(1, len(activations), i+1)\n",
    "    plt.title(str(i+1) + \"-layer\")\n",
    "    plt.hist(a.flatten(), 30, range=(0,1))\n",
    "plt.show()"
   ]
  },
  {
   "cell_type": "markdown",
   "id": "3724adea-673f-41ca-acbe-94d8f73f78d0",
   "metadata": {},
   "source": [
    "* 기울기소실 : 시그모이드 함수는 출력이 0(또는1)에 가까워지면 미분이 0으로 다가가기 때문에 역전파의 기울기 값이 점점 작아지다가 사라진다"
   ]
  },
  {
   "cell_type": "code",
   "execution_count": 14,
   "id": "e2b44877-71db-4284-afff-b02f2c029fbd",
   "metadata": {
    "tags": []
   },
   "outputs": [
    {
     "data": {
      "image/png": "[encoded data removed]",
      "text/plain": [
       "<Figure size 640x480 with 5 Axes>"
      ]
     },
     "metadata": {},
     "output_type": "display_data"
    }
   ],
   "source": [
    "# 가중치 초기값 설정 수정\n",
    "\n",
    "for i in range(hidden_layer_size):\n",
    "    if i != 0:\n",
    "        x = activations[i-1]\n",
    "    \n",
    "    w = np.random.randn(node_num, node_num) * 0.01\n",
    "    a = np.dot(x,w)\n",
    "    z = sigmoid(a)\n",
    "    activations[i] = z\n",
    "\n",
    "for i, a in activations.items():\n",
    "    plt.subplot(1, len(activations), i+1)\n",
    "    plt.title(str(i+1) + \"-layer\")\n",
    "    plt.hist(a.flatten(), 30, range=(0,1))\n",
    "plt.show()"
   ]
  },
  {
   "cell_type": "markdown",
   "id": "c5ff4d49-9011-4fa4-aa35-0a0fa22619db",
   "metadata": {},
   "source": [
    "* 위 방법은 기울기 소실 문제는 해결하지만 활성화값들이 치우쳐있다는 문제가 존재\n",
    "* 각 층의 활성화 값은 적당히 고루 분포되어야 하는데 그래야만 신경망 학습이 효율적으로 이뤄질 수 있다(왜?)"
   ]
  },
  {
   "cell_type": "markdown",
   "id": "db3f93c6-79ad-45c5-90cd-66833a20f032",
   "metadata": {},
   "source": [
    "#### (사비에르 글로로트, 요수아 벤지오 논문 권장 가중치) Xavier 초깃값"
   ]
  },
  {
   "cell_type": "markdown",
   "id": "d92f3c40-6a74-42a3-a9ff-46a614f3932f",
   "metadata": {},
   "source": [
    "* 일반적인 딥러닝 프레임워크들에서 표준적으로 이용 중\n",
    "* 각 층의 활성화값들을 광범위하게 분포시킬 목적으로 가중치의 적절한 분포로 앞 계층의 노드가 $n$개라면 표준편차가 $\\frac{1}{\\sqrt n}$인 분포를 사용하면 된다는 결론을 내림"
   ]
  },
  {
   "cell_type": "markdown",
   "id": "52ba918b-fd19-4c13-9a89-1ec98bef4bee",
   "metadata": {},
   "source": [
    "<img src=\"./images/6-12.png\" width=\"400\" height=\"400\"/>\n",
    "[6-12]"
   ]
  },
  {
   "cell_type": "code",
   "execution_count": 15,
   "id": "07635429-4c38-4cc2-b1f1-ea97a3629640",
   "metadata": {},
   "outputs": [],
   "source": [
    "node_num = 100"
   ]
  },
  {
   "cell_type": "code",
   "execution_count": 16,
   "id": "faa11161-f9f2-425a-8ca9-9ec3e734660b",
   "metadata": {
    "tags": []
   },
   "outputs": [
    {
     "data": {
      "image/png": "[encoded data removed]",
      "text/plain": [
       "<Figure size 640x480 with 5 Axes>"
      ]
     },
     "metadata": {},
     "output_type": "display_data"
    }
   ],
   "source": [
    "# 가중치 초기값 설정 수정\n",
    "\n",
    "for i in range(hidden_layer_size):\n",
    "    if i != 0:\n",
    "        x = activations[i-1]\n",
    "    \n",
    "    w = np.random.randn(node_num, node_num) /np.sqrt(node_num)\n",
    "    a = np.dot(x,w)\n",
    "    z = sigmoid(a)\n",
    "    activations[i] = z\n",
    "\n",
    "for i, a in activations.items():\n",
    "    plt.subplot(1, len(activations), i+1)\n",
    "    plt.title(str(i+1) + \"-layer\")\n",
    "    plt.hist(a.flatten(), 30, range=(0,1))\n",
    "plt.show()"
   ]
  },
  {
   "cell_type": "markdown",
   "id": "a7ed925f-0029-4caa-869c-541622519882",
   "metadata": {},
   "source": [
    "### 6.2.3 ReLU를 사용할 때의 가중치 초깃값"
   ]
  },
  {
   "cell_type": "markdown",
   "id": "bce1f983-5627-493e-b073-792bc097762f",
   "metadata": {
    "tags": []
   },
   "source": [
    "* Xavier 초깃값은 활성화 함수가 선형인 것이 전제\n",
    "* sigmoid와 tanh 함수는 좌우 대칭이라 중앙 부근이 선형이 함수로 볼 수 있다<br>\n",
    "(사실 교재 표현이 잘 이해 안 가는데 좌우 대칭이라는 건... 아마 의미는 정확히는 원점대칭이고(sinmoid는 (0,1/2)), 해당 점의 부근에선 접선을 선형함수로 본다는 의미인 것 같다...)\n",
    "* 분명 활성화함수는 선형함수로 하면 안 되고 비선형함수로 써야한다고 3.2.6에서 언급했다"
   ]
  },
  {
   "cell_type": "markdown",
   "id": "972bc6a7-d61d-43a2-9e52-db6851205c78",
   "metadata": {
    "tags": []
   },
   "source": [
    "#### (참고) 선형함수란?"
   ]
  },
  {
   "cell_type": "markdown",
   "id": "693ad2af-36ed-4a3f-8fe7-01e96a1b8864",
   "metadata": {},
   "source": [
    "$x, x_1, x_2 \\in X, a \\in \\mathbb{R} $에 대해서, 함수 $f : X \\to Y $가 다음의 두 조건을 만족하면 선형이라고 한다\n",
    "\n",
    "$$f(ax) = af(x)$$\n",
    "$$f(x_1+x+2) = f(x_1)+f(x_2)$$"
   ]
  },
  {
   "cell_type": "markdown",
   "id": "2fc2e008-6e6e-4c6c-973a-c0b0ebb0aa8a",
   "metadata": {},
   "source": [
    "#### (ReLU에 특화된 초깃값)\n",
    "* He 초깃값 (카이밍 히의 이름에서 가져옴)\n",
    "* 앞 계층의 노드가 $n$개일 때, 표준편차가 $\\sqrt \\frac{2}{n}$인 정규분포를 사용\n",
    "* ReLU는 음의 영역이 0이라서 더 넓게 분포시키기 위해 2배를 곱한 계수를 사용"
   ]
  },
  {
   "cell_type": "markdown",
   "id": "d15c5761-88e4-4526-a0be-1054c62d8692",
   "metadata": {},
   "source": [
    "##### 활성화 함수로 ReLU를 사용한 경우 가중치 초깃값에 따른 활성화값 분포 변화"
   ]
  },
  {
   "cell_type": "markdown",
   "id": "8eb1589f-b48d-4f4e-b8ed-82271acb070b",
   "metadata": {},
   "source": [
    "<img src=\"./images/6-14.png\" width=\"450\" height=\"450\"/>\n",
    "[6-14]"
   ]
  },
  {
   "cell_type": "markdown",
   "id": "b018b598-14d5-4804-b285-87f8d09e3674",
   "metadata": {
    "tags": []
   },
   "source": [
    "* 첫번째의 경우 대부분 0에 근사하는 작은 값으로 역전파 때 가중치의 기울기가 작아진다는 뜻이며, 실제 학습이 거의 이뤄지지 않음\n",
    "* 두번째의 경우 층이 깊어지면서 치우침이 커짐. 때문에 기울기 소실 문제를 일으킴\n",
    "* 모든 층에서 균일하게 분포하고 있기 때문에 역전파 때에도 적절한 값 나올 것으로 기대"
   ]
  },
  {
   "cell_type": "markdown",
   "id": "0255e700-0f5c-4906-93bd-fb3b1439b87c",
   "metadata": {},
   "source": [
    "### 6.2.4 MNIST 데이터셋으로 본 가중치 초깃값 비교"
   ]
  },
  {
   "cell_type": "markdown",
   "id": "37180cbc-fcd4-4a32-8961-1e7e8f11b99b",
   "metadata": {
    "tags": []
   },
   "source": [
    "<img src=\"./images/6-15.png\" width=\"400\" height=\"400\"/>\n",
    "[6-15]"
   ]
  },
  {
   "cell_type": "markdown",
   "id": "b58fe31c-a2d7-46e0-b892-2a92b4c88596",
   "metadata": {},
   "source": [
    "* std=0.01일 때는 학습이 이뤄지지 않음. 순전파 때 너무 작은 값(0근접)이 흐르기 때문\n",
    "* Xavier와 He는 학습이 이뤄지고 있음\n"
   ]
  },
  {
   "cell_type": "markdown",
   "id": "c0c613ea-3954-41a9-bcdf-0f7eac8381d3",
   "metadata": {},
   "source": [
    "## 6.3 배치 정규화"
   ]
  },
  {
   "cell_type": "markdown",
   "id": "1f9856c4-7be0-4133-b4e3-9546acf481e0",
   "metadata": {},
   "source": [
    "#### (아이디어)\n",
    "* 초깃값을 적절히 설정하여 각 층의 활성화값 분포가 적당히 퍼질 때 학습이 잘 진행된 것처럼, 각 층의 활성화를 적당피 퍼뜨리도록 강제하는 것"
   ]
  },
  {
   "cell_type": "markdown",
   "id": "70572dea-01a1-438a-ac05-ced979fa8eaf",
   "metadata": {},
   "source": [
    "### 6.3.1 배치 정규화 알고리즘"
   ]
  },
  {
   "cell_type": "markdown",
   "id": "e5e29187-b52f-41e1-bbda-5048380d8f1a",
   "metadata": {},
   "source": [
    "#### (배치 정규화가 주목 받는 이유)"
   ]
  },
  {
   "cell_type": "markdown",
   "id": "ea0087de-887e-454d-a331-dabe7679cae1",
   "metadata": {},
   "source": [
    "* 학습 속도 개선\n",
    "* 초깃값에 크게 의존하지 않음\n",
    "* 오버피팅 억제(드롭아웃 등의 필요성 감소)"
   ]
  },
  {
   "cell_type": "markdown",
   "id": "c1d4d1ee-f4a2-4962-9aa9-4d7f0519e5b8",
   "metadata": {},
   "source": [
    "<img src=\"./images/6-16.png\" width=\"450\" height=\"450\"/>\n",
    "[6-16]"
   ]
  },
  {
   "cell_type": "markdown",
   "id": "87aaeaa2-3781-4eec-be83-159fbcb52916",
   "metadata": {},
   "source": [
    "* 배치 정규화 계층을 신경망에 삽입\n",
    "* 미니배치를 단위로 정규화"
   ]
  },
  {
   "cell_type": "markdown",
   "id": "8fd88bb6-5ae5-4d8a-a1b8-860f68e4d93c",
   "metadata": {},
   "source": [
    "* 미니배치 $B = {x_1, x_2, ...,x_m}$이라는 $m$개의 입력 데이터에 대해 평균 $\\mu_B$와 $\\sigma^2_B$는, $\\hat{\\chi _i}$  다음과 같다"
   ]
  },
  {
   "cell_type": "markdown",
   "id": "2102de5c-2780-4e7e-ab05-308667d59def",
   "metadata": {
    "tags": []
   },
   "source": [
    "<img src=\"./images/6.7.png\" width=\"150\" height=\"150\"/>\n",
    "[6.7]"
   ]
  },
  {
   "cell_type": "markdown",
   "id": "3ee7e6f8-c773-4ce4-a44c-6e7e7114f315",
   "metadata": {},
   "source": [
    "<img src=\"./images/6.8.png\" width=\"100\" height=\"100\"/>\n",
    "[6.8]"
   ]
  },
  {
   "cell_type": "markdown",
   "id": "4bc22958-59c3-4606-8f6a-1644e80bc433",
   "metadata": {},
   "source": [
    "* 각 배치 정규화 계층마다 고유한 확대와 이동변환 수행\n",
    "* $\\gamma (=1 시작)$ : 확대 $\\beta(=0시작)$ : 이동"
   ]
  },
  {
   "cell_type": "markdown",
   "id": "21e41980-b58c-499a-bd9a-7bde5f464032",
   "metadata": {},
   "source": [
    "<img src=\"./images/6-17.png\" width=\"500\" height=\"500\"/>\n",
    "[6-17]"
   ]
  },
  {
   "cell_type": "markdown",
   "id": "020f5541-2fd2-4d4b-9d3c-3600048b63ff",
   "metadata": {},
   "source": [
    "[프레드릭 크레저트의 블로그](https://kratzert.github.io/2016/02/12/understanding-the-gradient-flow-through-the-batch-normalization-layer.html) 에서 배치 정규화의 역전파 유도 구체적인 설명 확인가능"
   ]
  },
  {
   "cell_type": "markdown",
   "id": "1d3d63e7-3365-47a2-a66d-8452be426369",
   "metadata": {},
   "source": [
    "### 6.3.2 배치 정규화의 효과"
   ]
  },
  {
   "cell_type": "markdown",
   "id": "45c0af33-b501-4eb9-941b-6926616d57b9",
   "metadata": {},
   "source": [
    "#### 학습 속도를 높인다"
   ]
  },
  {
   "cell_type": "markdown",
   "id": "c3a98b19-e374-41d0-918d-7a9312a3572a",
   "metadata": {},
   "source": [
    "<img src=\"./images/6-18.png\" width=\"400\" height=\"400\"/>\n",
    "[6-18]"
   ]
  },
  {
   "cell_type": "markdown",
   "id": "8a8b8528-6dcd-4d56-86fd-a8892bdb2669",
   "metadata": {},
   "source": [
    "#### (가중치 초깃값의 표준편차를 다양하게 바꿔서 학습한 경우, 실선:배치정규화 점선:배치정규화 X)"
   ]
  },
  {
   "cell_type": "markdown",
   "id": "3d58de2c-ab6e-434e-9e49-187e6a11358e",
   "metadata": {},
   "source": [
    "<img src=\"./images/6-19.png\" width=\"400\" height=\"400\"/>\n",
    "[6-19]"
   ]
  },
  {
   "cell_type": "markdown",
   "id": "5a0e77d7-7c48-47d6-a423-24ae938e0730",
   "metadata": {},
   "source": [
    "* 가중치 초깃값에 크게 의존하지도 않음"
   ]
  },
  {
   "cell_type": "markdown",
   "id": "81806b26-3418-4314-8954-d51efe77e1f5",
   "metadata": {},
   "source": [
    "## 6.4 바른 학습을 위해"
   ]
  },
  {
   "cell_type": "markdown",
   "id": "bd3b1f76-41d4-4816-ae12-2af82c7b0786",
   "metadata": {},
   "source": [
    "* 오버피팅 : 신경망이 훈련 데이터에만 지나치게 적응되어 그 외의 데이터에는 제대로 대응하지 못하는 상태"
   ]
  },
  {
   "cell_type": "markdown",
   "id": "9e019a4b-dca6-469b-bb80-cb04444e1aeb",
   "metadata": {},
   "source": [
    "### 6.4.1 오버피팅"
   ]
  },
  {
   "cell_type": "markdown",
   "id": "d406a387-eaa6-4a0d-a9fa-fb6f48246cf8",
   "metadata": {
    "tags": []
   },
   "source": [
    "#### (오버피팅이 일어나는 주된 이유)"
   ]
  },
  {
   "cell_type": "markdown",
   "id": "bef03ee5-f30d-4213-96c1-a651d5c1cfa2",
   "metadata": {},
   "source": [
    "* 매개변수가 많고 표현력이 높은 모델\n",
    "* 훈련 데이터가 적은 경우"
   ]
  },
  {
   "cell_type": "code",
   "execution_count": 17,
   "id": "9f399205-aae2-480f-a11f-a1e9558afda5",
   "metadata": {
    "tags": []
   },
   "outputs": [],
   "source": [
    "from dataset.mnist import load_mnist"
   ]
  },
  {
   "cell_type": "code",
   "execution_count": 18,
   "id": "d40d7cd2-00ed-4e52-ba32-3fb97eae3179",
   "metadata": {
    "tags": []
   },
   "outputs": [],
   "source": [
    "from common.multi_layer_net import MultiLayerNet"
   ]
  },
  {
   "cell_type": "code",
   "execution_count": 19,
   "id": "7ecc413c-f28c-4dce-8e62-4a0cbc6591ec",
   "metadata": {
    "tags": []
   },
   "outputs": [],
   "source": [
    "from common.optimizer import SGD"
   ]
  },
  {
   "cell_type": "code",
   "execution_count": 20,
   "id": "a9b5c76a-f57e-4d39-928b-7e83b99131ac",
   "metadata": {
    "tags": []
   },
   "outputs": [],
   "source": [
    "(x_train, t_train), (x_test, t_test) = load_mnist(normalize=True)"
   ]
  },
  {
   "cell_type": "code",
   "execution_count": 21,
   "id": "f1f09170-0a7d-49d1-ae14-d3de11ecdbf3",
   "metadata": {
    "tags": []
   },
   "outputs": [],
   "source": [
    "#오버피팅 재현하기 위한 학습 데이터 수 줄임"
   ]
  },
  {
   "cell_type": "code",
   "execution_count": 22,
   "id": "b4cfd7f8-2045-4266-be69-6decffb246ee",
   "metadata": {
    "tags": []
   },
   "outputs": [],
   "source": [
    "x_train = x_train[:300]\n",
    "t_train = t_train[:300]"
   ]
  },
  {
   "cell_type": "code",
   "execution_count": 23,
   "id": "02830c6e-2ed9-40cb-8d96-4b3a8c7a2774",
   "metadata": {
    "tags": []
   },
   "outputs": [],
   "source": [
    "network = MultiLayerNet(input_size=784, hidden_size_list= [100, 100, 100, 100, 100, 100], output_size=10)"
   ]
  },
  {
   "cell_type": "code",
   "execution_count": 24,
   "id": "661bb2bd-6d04-479d-a68a-787099971fcb",
   "metadata": {
    "tags": []
   },
   "outputs": [],
   "source": [
    "optimizer = SGD(lr = 0.01)"
   ]
  },
  {
   "cell_type": "code",
   "execution_count": 25,
   "id": "1816f478-a901-4724-bf42-226b402044d8",
   "metadata": {
    "tags": []
   },
   "outputs": [],
   "source": [
    "max_epochs = 201\n",
    "train_size = x_train.shape[0]\n",
    "batch_size = 100"
   ]
  },
  {
   "cell_type": "code",
   "execution_count": 26,
   "id": "8c3937f0-b3bb-4f38-af77-47176a48efa1",
   "metadata": {
    "tags": []
   },
   "outputs": [],
   "source": [
    "train_loss_list = []\n",
    "train_acc_list = []\n",
    "test_acc_list = []"
   ]
  },
  {
   "cell_type": "code",
   "execution_count": 27,
   "id": "2837cd05-b6f2-44c4-9dc8-de7b1a8efd38",
   "metadata": {
    "tags": []
   },
   "outputs": [],
   "source": [
    "iter_per_epoch = max(train_size / batch_size, 1)\n",
    "epoch_cnt = 0"
   ]
  },
  {
   "cell_type": "code",
   "execution_count": 28,
   "id": "5f0259dc-b332-4746-8011-e41def232152",
   "metadata": {
    "tags": []
   },
   "outputs": [],
   "source": [
    "for i in range(10000000):\n",
    "    batch_mask = np.random.choice(train_size, batch_size)\n",
    "    x_batch = x_train[batch_mask]\n",
    "    t_batch = t_train[batch_mask]\n",
    "    \n",
    "    grads = network.gradient(x_batch, t_batch)\n",
    "    optimizer.update(network.params, grads)\n",
    "    \n",
    "    if i % iter_per_epoch == 0:\n",
    "        train_acc = network.accuracy(x_train, t_train)\n",
    "        test_acc = network.accuracy(x_test, t_test)\n",
    "        train_acc_list.append(train_acc)\n",
    "        test_acc_list.append(test_acc)\n",
    "        \n",
    "        epoch_cnt += 1\n",
    "        if epoch_cnt >= max_epochs:\n",
    "            break"
   ]
  },
  {
   "cell_type": "markdown",
   "id": "1597fb4c-c0b2-49e0-a77a-fed7e9eed65e",
   "metadata": {},
   "source": [
    "<img src=\"./images/6-20.png\" width=\"400\" height=\"400\"/>\n",
    "[6-20]"
   ]
  },
  {
   "cell_type": "markdown",
   "id": "3ce24c25-8a2a-46b2-ac32-da67c63df5d3",
   "metadata": {},
   "source": [
    "### 6.4.2 가중치 감소"
   ]
  },
  {
   "cell_type": "markdown",
   "id": "9250bffb-849f-47b4-87c8-b557d5bd744c",
   "metadata": {},
   "source": [
    "* 가중치 감소 : 학습 과정에서 큰 가중치에 대해 상응하는 큰 페널티를 부과하여 오버피팅을 억제하는 방법"
   ]
  },
  {
   "cell_type": "markdown",
   "id": "1a3831ac-72fe-49fb-b95c-e2910f724fa6",
   "metadata": {},
   "source": [
    "#### (NORM 이란?)\n",
    "* 벡터에서의 길이 혹은 크기를 측정하는 방법"
   ]
  },
  {
   "cell_type": "markdown",
   "id": "f3fc3338-a255-4a0c-a320-de6c1bfd2932",
   "metadata": {},
   "source": [
    "$$L_p = ( \\sum_{i}^{n}\\left| x_i \\right|^p)^\\frac{1}{p}$$\n",
    "* $p$ : 차수, $n$ : 벡터의 요소 개수"
   ]
  },
  {
   "cell_type": "markdown",
   "id": "d604e139-5593-4020-927b-b5751c5d684a",
   "metadata": {},
   "source": [
    "#### (신경망 학습 복습)"
   ]
  },
  {
   "cell_type": "markdown",
   "id": "b906a29b-f456-43f4-9dae-b194a33e37ca",
   "metadata": {
    "tags": []
   },
   "source": [
    "* 신경망 학습 목적 : 손실 함수의 값 줄이기\n",
    "* 이 때 L2 법칙을 손실 함수에 더해본다.\n",
    "* 손실함수가 $L$이고 가중치가 $W$일 때 손실 함수에 L2 법칙을 적용한 식을 $Cost$이라고 하면<br> \n",
    "$Cost = L + \\lambda \\sum_{i=1}^{n} w_i^2 $ 이라고 할 수 있다(L2를 적용한 것을 릿지(Ridge)라고 한다; L1은 랏소(Lasso))\n",
    "\n",
    "미분할 때 깔끔하게 하기 위해\n",
    "$Cost = L + \\frac{1}{2}\\lambda \\sum_{i=1}^{n} w_i^2 $ 로 정리한다\n",
    "\n",
    "* 식을 해석하자면 $\\lambda$ 가 클수록 큰 가중치에 대한 페널티가 커진다"
   ]
  },
  {
   "cell_type": "markdown",
   "id": "40ce65fa-9fe1-4b9b-8100-14dea5b09974",
   "metadata": {},
   "source": [
    "#### (가중치 감소를 이용한 훈련데이터와 시험데이터에 대한 정확도 추이: 6-20과 비교)"
   ]
  },
  {
   "cell_type": "markdown",
   "id": "6a1dc05c-7fa2-4eb1-847e-5c0b449bbf27",
   "metadata": {},
   "source": [
    "<img src=\"./images/6-21.png\" width=\"400\" height=\"400\"/>\n",
    "[6-21]"
   ]
  },
  {
   "cell_type": "markdown",
   "id": "038fb542-4caa-45ba-92d6-b7844bd40c18",
   "metadata": {},
   "source": [
    "### 6.4.3 드롭아웃"
   ]
  },
  {
   "cell_type": "markdown",
   "id": "1829a919-112a-48f1-9f6e-1395b3819d37",
   "metadata": {},
   "source": [
    "* 신경망 모델이 복잡해질수록 가중치 감소만으로는 오버피팅을 억제하기 어렵다"
   ]
  },
  {
   "cell_type": "markdown",
   "id": "164ffeda-6c9a-41fe-8f33-d8a45b471403",
   "metadata": {
    "tags": []
   },
   "source": [
    "* 드롭아웃 : 뉴런을 임의로 삭제하면서 학습하는 방법\n",
    "    * 뉴런을 무직위로 골라 삭제"
   ]
  },
  {
   "cell_type": "markdown",
   "id": "0e98b410-077b-444a-a874-6b7449a6c16b",
   "metadata": {},
   "source": [
    "<img src=\"./images/6-22.png\" width=\"400\" height=\"400\"/>\n",
    "[6-18]"
   ]
  },
  {
   "cell_type": "code",
   "execution_count": 29,
   "id": "68f2723a-ede2-41fa-9796-7b5f573d8c2a",
   "metadata": {
    "tags": []
   },
   "outputs": [],
   "source": [
    "# 드롭아웃 구현"
   ]
  },
  {
   "cell_type": "code",
   "execution_count": 30,
   "id": "cabc4cc3-3280-4574-8e67-a80ba95dfa11",
   "metadata": {
    "tags": []
   },
   "outputs": [],
   "source": [
    "class Dropout :\n",
    "    def __init__(self, dropout_ratio = 0.5):\n",
    "        self.dropout_ratio = dropout_ratio\n",
    "        self.mask = None \n",
    "        \n",
    "    def forward(self, x, train_flg = True):\n",
    "        if train_flg:\n",
    "            self.mask = np.random(*x.shape) > self.dropout_ratio\n",
    "            return x * self.mask\n",
    "        \n",
    "        else :\n",
    "            return x* (1.0 - self.dropout_ratio)\n",
    "    \n",
    "    def backward(self, dout):\n",
    "        return dout * self.mask"
   ]
  },
  {
   "cell_type": "markdown",
   "id": "88782c2d-d680-4f05-a72a-192f1ff036c0",
   "metadata": {},
   "source": [
    "#### (왼쪽 : Dropout 없이 오른쪽 : Dropout 적용 :0.15)"
   ]
  },
  {
   "cell_type": "markdown",
   "id": "45577b2a-03f1-4da4-b568-baf044d6d100",
   "metadata": {},
   "source": [
    "<img src=\"./images/6-23.png\" width=\"500\" height=\"500\"/>\n",
    "[6-23]"
   ]
  },
  {
   "cell_type": "markdown",
   "id": "96754fd9-b184-4d5b-9e8d-9310a55f13e4",
   "metadata": {},
   "source": [
    "* 앙상블 학습 : 개별적으로 학습시킨 여러 모델의 출력을 평균내어 추론하는 방식\n",
    "* 신경망의 경우 같은(비슷한) 구조의 네트워크를 5개 준비해서 따로 학습시키고 5개의 평균을 내어 출력\n",
    "* 드롭아웃은 학습 할 때 뉴런을 무작위로 삭제하는 행위가 매번 다른 모델을 학습시칸다고 생각할 수 있기 때문에 앙상블 학습과 비슷한 효과를 낼 수 있다"
   ]
  },
  {
   "cell_type": "markdown",
   "id": "5107fd5c-b45a-4a95-a8aa-e3f15388c1ff",
   "metadata": {},
   "source": [
    "## 6.5 적절한 하이퍼파라미터 값 찾기"
   ]
  },
  {
   "cell_type": "markdown",
   "id": "12078579-8c98-45fe-8e4a-449d2f0e8043",
   "metadata": {},
   "source": [
    "### 6.5.1 검증 데이터"
   ]
  },
  {
   "cell_type": "markdown",
   "id": "3a6292bf-061f-41de-b9ee-f3415e64276e",
   "metadata": {},
   "source": [
    "* 하이퍼 파라미터의 성능을 평가할 때는 시험 데이터를 사용해서는 안 된다!!\n",
    "    * 시험 데이터를 사용하여 하이퍼파라미터를 조정하면 하이퍼파라미터 값이 시험 데이터에 오버피팅되기 때문\n",
    "    * 검증 데이터 : 하이퍼 파라미터 조정용 데이터    "
   ]
  },
  {
   "cell_type": "markdown",
   "id": "160aec0c-c683-411b-88af-f0ca7db2cefd",
   "metadata": {},
   "source": [
    ">    \n",
    "    훈련 데이터 : 매개변수 학습\n",
    "    검증 데이터 : 하이퍼파라미터 성능 평가\n",
    "    시험 데이터 : 신경망의 범용 성능 평가"
   ]
  },
  {
   "cell_type": "code",
   "execution_count": 31,
   "id": "2135dcb5-738e-4124-ba84-e68439b1a5cd",
   "metadata": {
    "tags": []
   },
   "outputs": [],
   "source": [
    "# MNIST 검증 데이터 분리"
   ]
  },
  {
   "cell_type": "code",
   "execution_count": 32,
   "id": "73c8c9d4-75b8-46a3-8763-cfbc8761148c",
   "metadata": {
    "tags": []
   },
   "outputs": [],
   "source": [
    "from common.util import shuffle_dataset"
   ]
  },
  {
   "cell_type": "code",
   "execution_count": 33,
   "id": "10cc4f03-1d6e-43f2-9770-88fdd12797c9",
   "metadata": {
    "tags": []
   },
   "outputs": [],
   "source": [
    "(x_train, t_train), (x_test, t_test) = load_mnist()"
   ]
  },
  {
   "cell_type": "code",
   "execution_count": 34,
   "id": "97a73f1c-8c97-4f22-809e-a87058ba1053",
   "metadata": {
    "tags": []
   },
   "outputs": [],
   "source": [
    "# 훈련 데이터 셔플\n",
    "x_train, t_train = shuffle_dataset(x_train,t_train)"
   ]
  },
  {
   "cell_type": "code",
   "execution_count": 35,
   "id": "e0b201d2-a0f5-4a85-9342-5014c38df5ab",
   "metadata": {
    "tags": []
   },
   "outputs": [],
   "source": [
    "# 20% 검증 데이터 분할"
   ]
  },
  {
   "cell_type": "code",
   "execution_count": 36,
   "id": "b85e2aa0-394b-438b-bf5c-9a8edacb3bc0",
   "metadata": {
    "tags": []
   },
   "outputs": [],
   "source": [
    "validation_rate = 0.20\n",
    "validation_num = int(x_train.shape[0] * validation_rate)"
   ]
  },
  {
   "cell_type": "code",
   "execution_count": 37,
   "id": "c593292a-b1df-4705-a5cc-caeafd7b725b",
   "metadata": {
    "tags": []
   },
   "outputs": [],
   "source": [
    "x_val = x_train[:validation_num]\n",
    "t_val = t_train[:validation_num]\n",
    "x_train = x_train[validation_num:]\n",
    "t_train = t_train[validation_num:]"
   ]
  },
  {
   "cell_type": "markdown",
   "id": "ea0b6843-130e-4845-b3ea-cecd42338f06",
   "metadata": {},
   "source": [
    "### 6.5.2 하이퍼파라미터 최적화"
   ]
  },
  {
   "cell_type": "markdown",
   "id": "40be244a-be35-4355-b9fa-a3a148f65da8",
   "metadata": {},
   "source": [
    "* 하이퍼파라미터 최적화는 그리드 서치같은 규칙적인 탐색보다는 무작위로 샘플링하여 탐색하는 것이 좋은 결과를 낸다고 한다\n",
    "* 10의 계승 단위로(로그 스케일)이 일반적\n",
    "* 최적화할 때는 딥러닝 학습에 오랜 시간 소요되기 때문에 에폭을 작게 하여 1회 평가 시간을 단축하는 것이 효과적"
   ]
  },
  {
   "cell_type": "markdown",
   "id": "154ae89d-3222-46df-a8c0-d352885d5b03",
   "metadata": {
    "tags": []
   },
   "source": [
    "* 단계\n",
    "    * 0단계 : 하이퍼파라미터 값 범위 설정\n",
    "    * 1단계 : 설정된 범위에서 무작위 추출\n",
    "    * 2단계 : 1단계에서 샘플링한 하이퍼파라미터 값을 사용하여 학습하고 검증 데이터로 평가(에폭은 작게 설정)\n",
    "    * 3단계 : 1단계와 2단계를 특정 횟수(100회 등) 반복하여 정확도의 결과를 보고 하이퍼파라미터의 범위 좁히기"
   ]
  },
  {
   "cell_type": "markdown",
   "id": "8e3e1283-1354-42d4-8309-017954e4f7ea",
   "metadata": {},
   "source": [
    "### 6.5.3 하이퍼파라미터 최적화 구현하기"
   ]
  },
  {
   "cell_type": "code",
   "execution_count": 38,
   "id": "95547246-a6b0-44a7-a5f9-9ef348adf7aa",
   "metadata": {
    "tags": []
   },
   "outputs": [],
   "source": [
    "weight_decay = 10 ** np.random.uniform(-8, -4)"
   ]
  },
  {
   "cell_type": "code",
   "execution_count": 39,
   "id": "d9f97713-efe3-4baa-8a2e-864e42c83c49",
   "metadata": {
    "tags": []
   },
   "outputs": [
    {
     "data": {
      "text/plain": [
       "1.0216770445412273e-08"
      ]
     },
     "execution_count": 39,
     "metadata": {},
     "output_type": "execute_result"
    }
   ],
   "source": [
    "weight_decay"
   ]
  },
  {
   "cell_type": "code",
   "execution_count": 40,
   "id": "6b73ffd6-a5be-4f6e-8d26-342d65297874",
   "metadata": {
    "tags": []
   },
   "outputs": [],
   "source": [
    "lr = 10 ** np.random.uniform(-6,-2)"
   ]
  },
  {
   "cell_type": "code",
   "execution_count": 41,
   "id": "3d1dd021-883b-455f-8834-4c571b09232e",
   "metadata": {
    "tags": []
   },
   "outputs": [
    {
     "data": {
      "text/plain": [
       "3.352015375391174e-06"
      ]
     },
     "execution_count": 41,
     "metadata": {},
     "output_type": "execute_result"
    }
   ],
   "source": [
    "lr"
   ]
  },
  {
   "cell_type": "markdown",
   "id": "83d64d61-4b0d-4dce-9ddc-a35e517c9643",
   "metadata": {},
   "source": [
    "<img src=\"./images/6-24.png\" width=\"400\" height=\"400\"/>\n",
    "[6-24]"
   ]
  },
  {
   "cell_type": "code",
   "execution_count": null,
   "id": "8e7383ce-89f0-44dc-b048-0b6239a61fee",
   "metadata": {},
   "outputs": [],
   "source": []
  },
  {
   "cell_type": "code",
   "execution_count": null,
   "id": "158a6f12-8f68-4d13-a164-283a44036c1b",
   "metadata": {},
   "outputs": [],
   "source": []
  }
 ],
 "metadata": {
  "kernelspec": {
   "display_name": "Python 3 (ipykernel)",
   "language": "python",
   "name": "python3"
  },
  "language_info": {
   "codemirror_mode": {
    "name": "ipython",
    "version": 3
   },
   "file_extension": ".py",
   "mimetype": "text/x-python",
   "name": "python",
   "nbconvert_exporter": "python",
   "pygments_lexer": "ipython3",
   "version": "3.11.3"
  }
 },
 "nbformat": 4,
 "nbformat_minor": 5
}
