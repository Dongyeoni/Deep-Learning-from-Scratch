{
 "cells": [
  {
   "cell_type": "markdown",
   "id": "23939fbd-35f8-42c3-ba6e-9dbf485cf9b7",
   "metadata": {},
   "source": [
    "# Chapter8. 딥러닝"
   ]
  },
  {
   "cell_type": "markdown",
   "id": "eff9c2a4-69f8-4713-bcd9-a5ad5b28ad64",
   "metadata": {},
   "source": [
    "## 8.1 더 깊게"
   ]
  },
  {
   "cell_type": "markdown",
   "id": "904c07fb-49cb-40d8-b319-ad951df4aded",
   "metadata": {},
   "source": [
    "### 8.1.1 더 깊은 신경망으로"
   ]
  },
  {
   "cell_type": "markdown",
   "id": "7d317cef-4315-4d51-a76e-9423b42f9459",
   "metadata": {},
   "source": [
    "<img src=\"./images/8-1.png\" width=\"450\" height=\"450\"/>\n",
    "[8-1]"
   ]
  },
  {
   "cell_type": "markdown",
   "id": "035b37a8-02c8-4c2c-972c-a92c115ab50b",
   "metadata": {},
   "source": [
    "#### (위 신경망의 특징)"
   ]
  },
  {
   "cell_type": "markdown",
   "id": "e0a36b89-3923-4deb-ab3b-2adcce50fdbb",
   "metadata": {},
   "source": [
    "* 합성곱 계층은 모두 3 x 3 크기의 필터를 사용하고, 층이 깊어질수록 채널 수를 늘림\n",
    "* 16, 16, 32, 32, 64, 64로 늘어남\n",
    "* 풀링 계층을 추가하여 중간 데이터 공간 크기를 줄임\n",
    "* 마지막 단 완전연결 계층에서 드롭아웃 계층 사용\n",
    "* 가중치 초깃값으로 He 초깃값 선택하고 Adam을 통해 가중치 매개변수 갱신\n",
    "* 활성화 함수는 ReLU"
   ]
  },
  {
   "cell_type": "markdown",
   "id": "93a8db61-97b5-4dea-87ef-654fb4b57524",
   "metadata": {},
   "source": [
    "### 8.1.2 정확도를 더 높이려면?"
   ]
  },
  {
   "cell_type": "markdown",
   "id": "2bee84e8-8c8e-4c1f-a900-ec56f3e2fb0c",
   "metadata": {},
   "source": [
    "* MNIST 데이터셋에 대한 기법들이 사용하는 CNN들은 그다지 깊지 않음 (합성곱 계층 2개에 완전연결 계층 2개 정도인 신경망)\n",
    "* 손글씨 숫자라는 문제가 단순해서 신경망의 표현력을 극한까지 높일 필요가 없기 때문\n",
    "* 더 복잡한 문제일수록 층을 깊게 해서 정확도를 크게 끌어올릴 수 있음"
   ]
  },
  {
   "cell_type": "markdown",
   "id": "463a9283-220f-4be1-b87a-24eb18491108",
   "metadata": {},
   "source": [
    "#### (데이터 확장 : Data Augmentation)"
   ]
  },
  {
   "cell_type": "markdown",
   "id": "9f6ae551-8301-4730-962f-b4fd97b2086c",
   "metadata": {},
   "source": [
    "* 입력 이미지를 알고리즘을 동원해 인위적으로 확장하는 것\n",
    "* 데이터가 적을 때 효과적인 수단"
   ]
  },
  {
   "cell_type": "markdown",
   "id": "3f236417-4279-4834-9e19-2e9b3d383e3d",
   "metadata": {},
   "source": [
    "<img src=\"./images/8-4.png\" width=\"400\" height=\"400\"/>\n",
    "[8-4]"
   ]
  },
  {
   "cell_type": "markdown",
   "id": "c47d8d47-3cc4-45b1-b218-42837879623e",
   "metadata": {},
   "source": [
    "* 이미지 일부를 잘라내는 crop이나 좌우를 뒤집는 flip 등도 활용\n",
    "* 단 flip은 뒤집었을 경우에도 상관없는 경우에만 쓸 수 있음"
   ]
  },
  {
   "cell_type": "markdown",
   "id": "89d1158f-8748-4f5a-b0d8-b83e8b925a2b",
   "metadata": {},
   "source": [
    "### 8.1.3 깊게 하는 이유"
   ]
  },
  {
   "cell_type": "markdown",
   "id": "9b207d91-3683-454f-84ae-e185ea9bfa55",
   "metadata": {},
   "source": [
    "* 사실 층을 깊게 하는 것에 대한 이론적인 근거가 부족한 상황\n",
    "* 층을 깊게 할 때 신경망의 매개변수 수가 줄어들기 때문에 적은 매개변수로 같은 수준의 표현력을 달성할 수 있음"
   ]
  },
  {
   "cell_type": "markdown",
   "id": "f9b98b55-e7bd-428f-b13c-8fe8cd01ec62",
   "metadata": {},
   "source": [
    "<img src=\"./images/8-5.png\" width=\"400\" height=\"400\"/>\n",
    "[8-5]"
   ]
  },
  {
   "cell_type": "markdown",
   "id": "d27092da-b59d-4c9e-a273-421b18f3859c",
   "metadata": {},
   "source": [
    "<img src=\"./images/8-6.png\" width=\"400\" height=\"400\"/>\n",
    "[8-6]"
   ]
  },
  {
   "cell_type": "markdown",
   "id": "b0a0210a-b4cc-4afa-93e9-04da61c96b99",
   "metadata": {},
   "source": [
    "* 작은 필터를 겹쳐 신경망을 깊게 할 때 장점은 매개변ㅅ누 수를 줄여 넓은 수용 영역을 소화할 수 있음\n",
    "* 층일 깊게 함으로써 학습 데이터의 양을 줄여 학습을 고속으로 수행\n",
    "* 층일 깊게 하면 정보를 계층적으로 전달할 수 있음"
   ]
  },
  {
   "cell_type": "markdown",
   "id": "6248683b-b3e9-45b2-97bf-80c4b4d1ab11",
   "metadata": {},
   "source": [
    "## 8.2 딥러닝의 초기 역사"
   ]
  },
  {
   "cell_type": "markdown",
   "id": "6b7a80fd-99db-4eae-a94f-20e95a921343",
   "metadata": {},
   "source": [
    "### 8.2.1 이미지넷"
   ]
  },
  {
   "cell_type": "markdown",
   "id": "80a49f02-e956-4679-a3e2-e314a02235c2",
   "metadata": {
    "tags": []
   },
   "source": [
    "* 이미지넷 : 100만 장이 넘는 이미지를 담고 있는 데이터셋"
   ]
  },
  {
   "cell_type": "markdown",
   "id": "d283a1ee-0e86-4036-a91a-744aeb839d7f",
   "metadata": {},
   "source": [
    "<img src=\"./images/8-7.png\" width=\"600\" height=\"600\"/>\n",
    "[8-7]"
   ]
  },
  {
   "cell_type": "markdown",
   "id": "da294ecf-778a-40a5-af73-648fe5b5143c",
   "metadata": {},
   "source": [
    "#### ILSVRC 대회 중 분류 시험"
   ]
  },
  {
   "cell_type": "markdown",
   "id": "ebb28f92-6f64-4ae7-b734-79f0b8b52a4c",
   "metadata": {},
   "source": [
    "<img src=\"./images/8-8.png\" width=\"400\" height=\"400\"/>\n",
    "[8-8]"
   ]
  },
  {
   "cell_type": "markdown",
   "id": "14a583ee-1878-431f-aa1d-b48c622f4cec",
   "metadata": {},
   "source": [
    "* 2012년 이후로 선두는 항상 딥러닝"
   ]
  },
  {
   "cell_type": "markdown",
   "id": "9e8545ac-e955-423a-8485-e67679b875fa",
   "metadata": {},
   "source": [
    "### 8.2.2 VGG"
   ]
  },
  {
   "cell_type": "markdown",
   "id": "66733bae-9e16-454d-b77f-2e82c064c78f",
   "metadata": {},
   "source": [
    "<img src=\"./images/8-9.png\" width=\"500\" height=\"500\"/>\n",
    "[8-9]"
   ]
  },
  {
   "cell_type": "markdown",
   "id": "e5c38ef8-a11e-4d8f-a7b5-16b90dcc0b5e",
   "metadata": {},
   "source": [
    "* 층의 깊이에 따라 VGG16, VGG19로 구분\n",
    "* 3 x 3의 필터를 상요한 합성곱 계층을 연속으로 거침\n",
    "* 풀링 계층을 두어 크기를 절반으로 줄이는 처리 반복하고 마지막 완전연결 계층을 통과시켜 결과 출력"
   ]
  },
  {
   "cell_type": "markdown",
   "id": "ebbb9b91-10da-485c-8fc4-412c625d4970",
   "metadata": {},
   "source": [
    "### 8.2.3 GoogLeNet (GoogleNet이 아니다!)"
   ]
  },
  {
   "cell_type": "markdown",
   "id": "e9e9c725-ab51-4cb9-bfd1-50bdd84b23f9",
   "metadata": {},
   "source": [
    "<img src=\"./images/8-10.png\" width=\"500\" height=\"500\"/>\n",
    "[8-10]"
   ]
  },
  {
   "cell_type": "markdown",
   "id": "143a1612-be57-467f-bc23-fb48d56612be",
   "metadata": {},
   "source": [
    "* 세로 방향 깊이 뿐만아니라 가로 방향도 깊다"
   ]
  },
  {
   "cell_type": "markdown",
   "id": "0b4bd8b5-a173-4b81-b97d-d79bb045814d",
   "metadata": {},
   "source": [
    "<img src=\"./images/8-11.png\" width=\"500\" height=\"500\"/>\n",
    "[8-11]"
   ]
  },
  {
   "cell_type": "markdown",
   "id": "786f9965-3894-4c79-8d39-e93a021c9e1b",
   "metadata": {},
   "source": [
    "* 가로 방향 폭을 인셉션 구조라 한다\n",
    "* 크기가 다른 필터와 풀링을 여러 개 적용하여 그 결과를 결합"
   ]
  },
  {
   "cell_type": "markdown",
   "id": "8987b0f2-408b-41d0-9eeb-e1d4e06b2233",
   "metadata": {},
   "source": [
    "### 8.2.4 ResNet"
   ]
  },
  {
   "cell_type": "markdown",
   "id": "11eb1f76-fe69-4ed9-824b-b393dedb62a4",
   "metadata": {},
   "source": [
    "* 마이크로소프트 팀이 개발한 네트워크\n",
    "* 지나치게 층이 깊으면 오히려 성능이 떨어지는 경우도 많기 때문에 이를 해결하기 위해 스킵 연결 도입\n",
    "* 스킵 연결 : 입력 데이터를 합성곱 계층을 건너뛰어 출력에 바로 더하는 구조"
   ]
  },
  {
   "cell_type": "markdown",
   "id": "e42f0dcd-4651-4bd7-8f56-10fdebeed649",
   "metadata": {},
   "source": [
    "<img src=\"./images/8-12.png\" width=\"400\" height=\"400\"/>\n",
    "[8-12]"
   ]
  },
  {
   "cell_type": "markdown",
   "id": "43f58e5b-2c94-409b-847d-f2a4c7f3029c",
   "metadata": {},
   "source": [
    "* VGG 기반으로 스킵 연결 도입하여 층을 깊게 함"
   ]
  },
  {
   "cell_type": "markdown",
   "id": "a52b176c-700b-4339-a24d-3bc413a812e4",
   "metadata": {},
   "source": [
    "<img src=\"./images/8-13.png\" width=\"700\" height=\"700\"/>\n",
    "[8-13]"
   ]
  },
  {
   "cell_type": "code",
   "execution_count": null,
   "id": "560bf0ec-c87b-4506-850a-131822f83696",
   "metadata": {},
   "outputs": [],
   "source": [
    "* ResNet은 합성곱 계층을 2개 층마다 건너뛰면서 층을 깊게 함"
   ]
  },
  {
   "cell_type": "markdown",
   "id": "4b5cf391-41fc-430f-b990-bbc74412afe8",
   "metadata": {},
   "source": [
    "#### (전이학습)"
   ]
  },
  {
   "cell_type": "markdown",
   "id": "f25bc47f-6bb1-485b-a5d1-12f0530a3e59",
   "metadata": {},
   "source": [
    "* 학습된 가중치를 다른 신경망에 복사한 다음, 그 상태로 재학습 수행\n",
    "* 미리 학습된 가중치를 초깃값으로 설정한 후 새로운 데이터셋을 대상으로 재학습(fine tuning)을 수행\n",
    "* 데이터셋이 적을 때 특히 유용"
   ]
  },
  {
   "cell_type": "markdown",
   "id": "d6ff57f5-d8b5-4554-8226-6f63fe476e3e",
   "metadata": {},
   "source": [
    "## 8.3 더 빠르게(딥러닝 고속화)"
   ]
  },
  {
   "cell_type": "code",
   "execution_count": null,
   "id": "8f944e6a-a205-4399-acf2-6fafc6efa65b",
   "metadata": {},
   "outputs": [],
   "source": []
  }
 ],
 "metadata": {
  "kernelspec": {
   "display_name": "Python 3 (ipykernel)",
   "language": "python",
   "name": "python3"
  },
  "language_info": {
   "codemirror_mode": {
    "name": "ipython",
    "version": 3
   },
   "file_extension": ".py",
   "mimetype": "text/x-python",
   "name": "python",
   "nbconvert_exporter": "python",
   "pygments_lexer": "ipython3",
   "version": "3.11.3"
  }
 },
 "nbformat": 4,
 "nbformat_minor": 5
}
