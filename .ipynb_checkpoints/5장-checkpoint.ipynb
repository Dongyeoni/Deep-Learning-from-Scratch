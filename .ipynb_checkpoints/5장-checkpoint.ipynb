{
 "cells": [
  {
   "cell_type": "markdown",
   "id": "4afdea68-8c3d-44dd-abe7-53312dac1abf",
   "metadata": {},
   "source": [
    "# Chapter5. 오차역전파법"
   ]
  },
  {
   "cell_type": "markdown",
   "id": "b0082f5e-a9b4-43bb-ac7b-ea4344063126",
   "metadata": {},
   "source": [
    "(현상황 정리)\n",
    "* 수치 미분의 단점 : 계산 시간이 오래 걸린다"
   ]
  },
  {
   "cell_type": "markdown",
   "id": "7a43e638-c870-4aa5-ae2a-3a6bf8542615",
   "metadata": {},
   "source": [
    "## 5.1 계산 그래프"
   ]
  },
  {
   "cell_type": "markdown",
   "id": "7bd5a940-d05b-4098-81cf-eda8dd39ba22",
   "metadata": {},
   "source": [
    "* 계산 그래프 : 계산 과정을 그래프로 나타낸 것\n",
    "    * 복수의 노드(node)와 에지(edge : 노드 사이의 직선)로 표현"
   ]
  },
  {
   "cell_type": "markdown",
   "id": "e22669e5-52de-4069-ae17-97fedf0913b9",
   "metadata": {},
   "source": [
    "### 5.1.1 계산 그래프로 풀다"
   ]
  },
  {
   "cell_type": "markdown",
   "id": "1ae0e280-ccfe-46fd-959e-65846c65d6d3",
   "metadata": {},
   "source": [
    "#### (문제1) 슈퍼에서 1개에 100원인 사과를 2개 샀을 때 소비세를 10% 낸다면 지불금액은?"
   ]
  },
  {
   "cell_type": "markdown",
   "id": "d54b9911-86ba-4104-80cb-22f97e5190d7",
   "metadata": {},
   "source": [
    "<img src=\"./images/5-1.png\" width=\"400\" height=\"400\"/>\n",
    "[5-1]"
   ]
  },
  {
   "cell_type": "markdown",
   "id": "72f2d1ff-e418-46ec-929a-e3578d0fd401",
   "metadata": {},
   "source": [
    "<img src=\"./images/5-2.png\" width=\"425\" height=\"425\"/>\n",
    "[5-2]"
   ]
  },
  {
   "cell_type": "markdown",
   "id": "6215cbfe-5caf-4b1d-b392-e2c02ceedce4",
   "metadata": {
    "tags": []
   },
   "source": [
    "#### (문제2) 슈퍼에서 1개에 100원인 사과를 2개, 150원인 귤을 3개 샀을 때 소비세를 10% 낸다면 지불금액은?"
   ]
  },
  {
   "cell_type": "markdown",
   "id": "a45218a4-257a-473d-af39-e3d52b69536c",
   "metadata": {},
   "source": [
    "<img src=\"./images/5-3.png\" width=\"500\" height=\"500\"/>\n",
    "[5-3]"
   ]
  },
  {
   "cell_type": "markdown",
   "id": "0023d6cc-a447-495c-b6c8-71db87d0469d",
   "metadata": {},
   "source": [
    "* 순전판 : 계산을 왼쪽에서 오른쪽으로 진행하는 단계\n",
    "* 역전파 : 순전파의 반대 방향으로의 전파"
   ]
  },
  {
   "cell_type": "markdown",
   "id": "cc8aeb64-7df2-4997-88ac-a204431f0c80",
   "metadata": {},
   "source": [
    "### 5.1.2 국소적 계산"
   ]
  },
  {
   "cell_type": "markdown",
   "id": "cc21c9bd-6d26-411a-9753-6a95fc0dbb02",
   "metadata": {},
   "source": [
    "* 전체 계산이 복잡해도 각 단계에서 하는 일은 해당 노드의 국소적 계산뿐이다"
   ]
  },
  {
   "cell_type": "markdown",
   "id": "a8474bf3-f20a-4387-bf4c-60f52233d120",
   "metadata": {},
   "source": [
    "### 5.1.3 왜 계산 그래프로 푸는가?"
   ]
  },
  {
   "cell_type": "markdown",
   "id": "05ba91fb-2cfd-4b23-8880-3ffc6fa123db",
   "metadata": {
    "tags": []
   },
   "source": [
    "#### (장점)\n",
    "* 국소적 계산\n",
    "* 중간 계산 결과를 모두 보관 가능\n",
    "* 역전파를 통해 미분을 효율적으로 계산 가능"
   ]
  },
  {
   "cell_type": "markdown",
   "id": "fb227fd3-7c2d-4b18-8102-786f97ebb810",
   "metadata": {},
   "source": [
    "#### (문제1번 복기하기) 1번 상황에서 사과 가격이 오르면 최종 금액에 끼치는 영향은?"
   ]
  },
  {
   "cell_type": "markdown",
   "id": "89fbe618-3900-4aa5-a259-5362281bb681",
   "metadata": {},
   "source": [
    "<img src=\"./images/5-5.png\" width=\"400\" height=\"400\"/>\n",
    "[5-5]"
   ]
  },
  {
   "cell_type": "markdown",
   "id": "9554e5c3-7476-4700-94aa-ea0eb501dc2e",
   "metadata": {},
   "source": [
    "#### (오른쪽 부터 해석)\n",
    "* 1원 오를 때 소비세 1.1 때문에 1.1원이 오름\n",
    "* 2개의 사과를 구매할 때 이므로 사과의 개수를 곱해서 2.2원이 오름\n",
    "* 1원(=굉장히 미세하다=미분) 오를 때 가격의 변화는 사과 가격에 대한 지불 금액의 미분을 의미함\n",
    "* 역전파의 해석 방법임\n"
   ]
  },
  {
   "cell_type": "markdown",
   "id": "c521cec7-ade0-4b2b-acd2-f628668aaae2",
   "metadata": {},
   "source": [
    "## 5.2 연쇄법칙"
   ]
  },
  {
   "cell_type": "markdown",
   "id": "4b7e4878-1b72-4c5b-9880-ec2c55e0bd26",
   "metadata": {},
   "source": [
    "### 5.2.1 계산 그래프의 역전파"
   ]
  },
  {
   "cell_type": "markdown",
   "id": "efa6176e-c810-4fb1-89b1-2c4b90c71935",
   "metadata": {},
   "source": [
    "<img src=\"./images/5-6.png\" width=\"200\" height=\"200\"/>\n",
    "[5-6]"
   ]
  },
  {
   "cell_type": "markdown",
   "id": "d8ac14ed-a337-4bd2-b350-e9f323d587f3",
   "metadata": {},
   "source": [
    "### 5.2.2 연쇄법칙이란?"
   ]
  },
  {
   "cell_type": "markdown",
   "id": "28fd6a0d-bc89-448f-970e-b3c115be5d1a",
   "metadata": {},
   "source": [
    "#### (예시) &nbsp; $z = (x+y)^2$ 은 다음 두 개의 식으로 구성<br><br>$$z = t^2$$ $$ t= x+y$$"
   ]
  },
  {
   "cell_type": "markdown",
   "id": "8db506f6-8a12-427f-b4c6-3b35458e1cb5",
   "metadata": {},
   "source": [
    "* 연쇄법칙 : 합성 함수의 미분은 합성 함수를 구성하는 각 함수의 미분의 곱으로 나타낼 수 있다"
   ]
  },
  {
   "cell_type": "markdown",
   "id": "fd311ff9-d915-4093-aa05-9c532b49497c",
   "metadata": {},
   "source": [
    "<img src=\"./images/5.2.png\" width=\"100\" height=\"100\"/>\n",
    "(5.2)"
   ]
  },
  {
   "cell_type": "markdown",
   "id": "120a8729-a7f9-41c0-9055-7dcb7f708c77",
   "metadata": {},
   "source": [
    "<img src=\"./images/5.3.png\" width=\"65\" height=\"65\"/>\n",
    "(5.3)"
   ]
  },
  {
   "cell_type": "markdown",
   "id": "c2665bb7-9c72-4e47-931d-e5f4d36e40c5",
   "metadata": {},
   "source": [
    "<img src=\"./images/5.4.png\" width=\"250\" height=\"250\"/>\n",
    "(5.4)"
   ]
  },
  {
   "cell_type": "markdown",
   "id": "1f8a1302-f4f1-4415-ae95-b7a241fc2adc",
   "metadata": {},
   "source": [
    "### 5.2.3 연쇄법칙과 계산 그래프"
   ]
  },
  {
   "cell_type": "markdown",
   "id": "132ac86b-c5b1-41c5-ae8d-0d6d63261070",
   "metadata": {},
   "source": [
    "<img src=\"./images/5-7.png\" width=\"350\" height=\"350\"/>\n",
    "[5-7]"
   ]
  },
  {
   "cell_type": "markdown",
   "id": "ac27af7b-0295-4119-9e9f-d6c10a5ad0e7",
   "metadata": {},
   "source": [
    "<img src=\"./images/5-8.png\" width=\"350\" height=\"350\"/>\n",
    "[5-8]"
   ]
  },
  {
   "cell_type": "markdown",
   "id": "8e7b2671-b25b-4fe4-8e6b-7ba9a0680759",
   "metadata": {},
   "source": [
    "## 5.3 역전파"
   ]
  },
  {
   "cell_type": "markdown",
   "id": "3efc70ec-d6c7-419d-8f90-ae99d953fe2a",
   "metadata": {},
   "source": [
    "### 5.3.1 덧셈 노드의 역전파"
   ]
  },
  {
   "cell_type": "markdown",
   "id": "c5507a83-3c5f-45c5-81f0-2b6f47bc7b1e",
   "metadata": {},
   "source": [
    "#### &nbsp; (예시) $z = x + y$"
   ]
  },
  {
   "cell_type": "markdown",
   "id": "6811fdcd-0927-4159-a1e3-f7b9ea3afd87",
   "metadata": {},
   "source": [
    "<img src=\"./images/5.5.png\" width=\"50\" height=\"50\"/>\n",
    "(5.5)"
   ]
  },
  {
   "cell_type": "markdown",
   "id": "983dd9c6-00d7-4752-8bd9-a5129cde8ca9",
   "metadata": {},
   "source": [
    "<img src=\"./images/5-9.png\" width=\"350\" height=\"350\"/>\n",
    "[5-9]"
   ]
  },
  {
   "cell_type": "markdown",
   "id": "e567739d-2627-45bd-9a09-2ed79aabd4c7",
   "metadata": {},
   "source": [
    "왼쪽 위의 1은 z를 x로 미분한 값이다<br>\n",
    "왼쪽 아래의 1은 z를 y로 미분한 값이다 (5.5참조)\n"
   ]
  },
  {
   "cell_type": "markdown",
   "id": "b46826d2-2244-46dc-9295-8eef5004bfb7",
   "metadata": {},
   "source": [
    "<img src=\"./images/5-10.png\" width=\"350\" height=\"350\"/>\n",
    "[5-10]"
   ]
  },
  {
   "cell_type": "markdown",
   "id": "26c272c0-8d70-44d9-8f52-178b3409c993",
   "metadata": {
    "tags": []
   },
   "source": [
    "<img src=\"./images/5-11.png\" width=\"350\" height=\"350\"/>\n",
    "[5-11]"
   ]
  },
  {
   "cell_type": "markdown",
   "id": "64392f93-5c06-4735-b903-fcfbe9bc1333",
   "metadata": {},
   "source": [
    "### 5.3.2 곱셈 노드의 역전파"
   ]
  },
  {
   "cell_type": "markdown",
   "id": "12121f44-7745-4f18-b860-81ae065642b4",
   "metadata": {},
   "source": [
    "#### &nbsp; (예시) $z = xy$"
   ]
  },
  {
   "cell_type": "markdown",
   "id": "144b4b1d-442f-4a39-8c89-d25a6f6b6ccc",
   "metadata": {},
   "source": [
    "<img src=\"./images/5.6.png\" width=\"50\" height=\"50\"/>\n",
    "(5.6)"
   ]
  },
  {
   "cell_type": "markdown",
   "id": "90e4e436-087e-414d-b8ed-eda72f2a7844",
   "metadata": {
    "tags": []
   },
   "source": [
    "<img src=\"./images/5-12.png\" width=\"350\" height=\"350\"/>\n",
    "[5-12]"
   ]
  },
  {
   "cell_type": "markdown",
   "id": "31fd1efd-5b7d-4c2c-a4ce-8c66367194fb",
   "metadata": {},
   "source": [
    "<img src=\"./images/5-13.png\" width=\"350\" height=\"350\"/>\n",
    "[5-13]"
   ]
  },
  {
   "cell_type": "markdown",
   "id": "d21808aa-f96c-45e9-8857-d9ecd0778559",
   "metadata": {},
   "source": [
    "### 5.3.3 사과 쇼핑의 예"
   ]
  },
  {
   "cell_type": "markdown",
   "id": "3e8664ff-4749-458a-a10b-e4cf169dffe9",
   "metadata": {},
   "source": [
    "<img src=\"./images/5-14.png\" width=\"450\" height=\"450\"/>\n",
    "[5-14]"
   ]
  },
  {
   "cell_type": "markdown",
   "id": "d2fc88a3-898a-47ea-a1f4-c14c517a3906",
   "metadata": {},
   "source": [
    "* 이 문제는 사과의 가격, 사과의 개수, 소비세라는 세 변수가 존재\n",
    "* 각 변수가 최종 금액에 어떤 영향을 주는가의 문제\n",
    "    1. 사과 가격에 대한 지불 금액의 미분\n",
    "    2. 사과 개수에 대한 지불 금액의 미분\n",
    "    3. 소비세에 대한 지불 금액의 미분"
   ]
  },
  {
   "cell_type": "markdown",
   "id": "6292d0b3-4064-4e55-9d8d-77f0986680cc",
   "metadata": {},
   "source": [
    "(풀이) 곱셈의 역전파를 생각한다.\n",
    "* 입력신호를 서로 바꿔서 하류로 전달\n",
    "* 오른쪽부터 첫번째 노드에서\n",
    "    1. 소비세에 대한 미분 : 200 * 1 = 200 // 2. 위쪽 노드 방향 : 1.1 * 1 = 1.1\n",
    "* 오른쪽부터 두번째 노드에서\n",
    "    1. 사과의 개수에 대한 미분 : 1.1 *100 = 110 // 2. 사과 가격에 대한 미분(위쪽 노드 방향) : 1.1 * 2= 2.2"
   ]
  },
  {
   "cell_type": "markdown",
   "id": "3df16c77-eb69-48fc-beee-7e337e8582b1",
   "metadata": {},
   "source": [
    "#### (빈칸채우기)"
   ]
  },
  {
   "cell_type": "markdown",
   "id": "f57dfdf3-46b9-4d4f-a189-04275b9aa213",
   "metadata": {},
   "source": [
    "<img src=\"./images/5-15.png\" width=\"500\" height=\"500\"/>\n",
    "[5-15]"
   ]
  },
  {
   "cell_type": "markdown",
   "id": "afeb7901-2aa5-40ab-a5bd-0c95fb3ede66",
   "metadata": {},
   "source": [
    "## 5.4 단순한 계층 구현하기"
   ]
  },
  {
   "cell_type": "markdown",
   "id": "dc913109-8377-4318-9083-cb544becc530",
   "metadata": {},
   "source": [
    "### 5.4.1 곱셈 계층"
   ]
  },
  {
   "cell_type": "code",
   "execution_count": 1,
   "id": "a6594ea1-9da2-49f9-9171-6e2ada30447c",
   "metadata": {
    "tags": []
   },
   "outputs": [],
   "source": [
    "class MulLayer:\n",
    "    def __init__(self):\n",
    "        self.x = None\n",
    "        self.y = None\n",
    "        \n",
    "    def forward(self, x, y):\n",
    "        self.x = x\n",
    "        self.y = y\n",
    "        out = x * y\n",
    "        \n",
    "        return out\n",
    "    \n",
    "    def backward(self, dout): ## dout 미분\n",
    "        dx = dout * self.y\n",
    "        dy = dout * self.x\n",
    "        \n",
    "        return dx, dy"
   ]
  },
  {
   "cell_type": "markdown",
   "id": "28e0e9d3-16c4-4671-a78e-27f03f708b85",
   "metadata": {},
   "source": [
    "#### (사과 2개 구입 문제 구현)"
   ]
  },
  {
   "cell_type": "markdown",
   "id": "5b82dbe5-a72b-48f8-a025-af341123ec70",
   "metadata": {},
   "source": [
    "<img src=\"./images/5-16.png\" width=\"450\" height=\"450\"/>\n",
    "[5-16]"
   ]
  },
  {
   "cell_type": "code",
   "execution_count": 2,
   "id": "e20eab32-a0a9-4b90-98a3-4b022a226146",
   "metadata": {
    "tags": []
   },
   "outputs": [],
   "source": [
    "apple = 100\n",
    "apple_num = 2\n",
    "tax = 1.1"
   ]
  },
  {
   "cell_type": "code",
   "execution_count": 3,
   "id": "eaac0661-4717-476b-9e33-d48ed8e8392c",
   "metadata": {
    "tags": []
   },
   "outputs": [],
   "source": [
    "# 계층\n",
    "mul_apple_layer = MulLayer()\n",
    "mul_tax_layer = MulLayer()"
   ]
  },
  {
   "cell_type": "code",
   "execution_count": 4,
   "id": "9c59fcda-f1b1-4101-97e8-3db32a724ade",
   "metadata": {
    "tags": []
   },
   "outputs": [],
   "source": [
    "# 순전파\n",
    "apple_price = mul_apple_layer.forward(apple, apple_num)\n",
    "price = mul_tax_layer.forward(apple_price, tax)"
   ]
  },
  {
   "cell_type": "code",
   "execution_count": 5,
   "id": "0db9e4e8-9727-4fae-8034-33c9599eb870",
   "metadata": {
    "tags": []
   },
   "outputs": [
    {
     "name": "stdout",
     "output_type": "stream",
     "text": [
      "220.00000000000003\n"
     ]
    }
   ],
   "source": [
    "print(price)"
   ]
  },
  {
   "cell_type": "code",
   "execution_count": 6,
   "id": "3da468be-62b3-4ef5-b886-23f2c516636b",
   "metadata": {
    "tags": []
   },
   "outputs": [],
   "source": [
    "# 역전파\n",
    "dprice = 1\n",
    "dapple_price, dtax = mul_tax_layer.backward(dprice)\n",
    "dapple, dapple_num = mul_apple_layer.backward(dapple_price)"
   ]
  },
  {
   "cell_type": "code",
   "execution_count": 7,
   "id": "70305c53-b65a-43d9-a8c5-06c32cbb5274",
   "metadata": {
    "tags": []
   },
   "outputs": [
    {
     "name": "stdout",
     "output_type": "stream",
     "text": [
      "2.2 110.00000000000001 200\n"
     ]
    }
   ],
   "source": [
    "print(dapple, dapple_num, dtax)"
   ]
  },
  {
   "cell_type": "markdown",
   "id": "a3d7f7ca-24a6-412e-9ff5-7107a70a0cd8",
   "metadata": {},
   "source": [
    "### 5.4.2 덧셈 계층"
   ]
  },
  {
   "cell_type": "code",
   "execution_count": 8,
   "id": "18e8c033-fd93-407e-99d6-f26a69d0b81f",
   "metadata": {
    "tags": []
   },
   "outputs": [],
   "source": [
    "class AddLayer:\n",
    "    def __init__(self):\n",
    "        pass\n",
    "    \n",
    "    def forward(self, x, y):\n",
    "        out = x + y\n",
    "        return out\n",
    "    \n",
    "    def backward(self, dout):\n",
    "        dx = dout * 1\n",
    "        dy = dout * 1\n",
    "        return dx, dy"
   ]
  },
  {
   "cell_type": "markdown",
   "id": "c0ff8030-febe-4c38-9e9d-639887fdc457",
   "metadata": {},
   "source": [
    "#### (사과 2개 귤 3개 구입 구현)"
   ]
  },
  {
   "cell_type": "markdown",
   "id": "c032dc79-cbd0-4082-abc0-c594145034f6",
   "metadata": {},
   "source": [
    "<img src=\"./images/5-17.png\" width=\"450\" height=\"450\"/>\n",
    "[5-17]"
   ]
  },
  {
   "cell_type": "code",
   "execution_count": 9,
   "id": "f34d7dfb-d33d-4b34-84f3-a018437f13a2",
   "metadata": {
    "tags": []
   },
   "outputs": [],
   "source": [
    "apple = 100\n",
    "apple_num = 2\n",
    "orange = 150\n",
    "orange_num = 3\n",
    "tax = 1.1\n"
   ]
  },
  {
   "cell_type": "code",
   "execution_count": 10,
   "id": "6e58b2fe-cea1-44f8-bd79-5961c3c846f6",
   "metadata": {
    "tags": []
   },
   "outputs": [],
   "source": [
    "# 계층들\n",
    "mul_apple_layer = MulLayer()\n",
    "mul_orange_layer = MulLayer()\n",
    "add_apple_orange_layer = AddLayer()\n",
    "mul_tax_layer = MulLayer()"
   ]
  },
  {
   "cell_type": "code",
   "execution_count": 11,
   "id": "37b2c1ec-7357-43e0-99a0-72f16c398039",
   "metadata": {
    "tags": []
   },
   "outputs": [],
   "source": [
    "# 순전파\n",
    "apple_price = mul_apple_layer.forward(apple, apple_num)\n",
    "orange_price = mul_orange_layer.forward(orange, orange_num)\n",
    "all_price = add_apple_orange_layer.forward(apple_price, orange_price)\n",
    "price = mul_tax_layer.forward(all_price, tax)"
   ]
  },
  {
   "cell_type": "code",
   "execution_count": 12,
   "id": "4750a5ea-7b7c-45fa-973c-c131860ac029",
   "metadata": {
    "tags": []
   },
   "outputs": [],
   "source": [
    "# 역전파\n",
    "dprice = 1\n",
    "dall_price , dtax = mul_tax_layer.backward(dprice)\n",
    "dapple_price, dorange_price = add_apple_orange_layer.backward(dall_price)\n",
    "dorange, dorange_num = mul_orange_layer.backward(dorange_price)\n",
    "dapple, dapple_num = mul_apple_layer.backward(dapple_price)"
   ]
  },
  {
   "cell_type": "code",
   "execution_count": 13,
   "id": "e31681c3-38ef-4350-8974-bce638f5b333",
   "metadata": {
    "tags": []
   },
   "outputs": [
    {
     "name": "stdout",
     "output_type": "stream",
     "text": [
      "715.0000000000001\n",
      "110.00000000000001 2.2 3.3000000000000003 165.0 650\n"
     ]
    }
   ],
   "source": [
    "print(price)\n",
    "print(dapple_num, dapple, dorange, dorange_num, dtax)"
   ]
  },
  {
   "cell_type": "code",
   "execution_count": null,
   "id": "863d826d-6eba-4951-b4a1-f6c9a27bceb0",
   "metadata": {},
   "outputs": [],
   "source": []
  },
  {
   "cell_type": "markdown",
   "id": "c36f7312-c472-4264-aed8-d8150fda3685",
   "metadata": {},
   "source": [
    "## 5.5 활성화 함수 계층 구현하기"
   ]
  },
  {
   "cell_type": "markdown",
   "id": "eab72b32-4922-4f04-a6a4-8e8cca6ffc9b",
   "metadata": {},
   "source": [
    "### 5.5.1 ReLU 계층"
   ]
  },
  {
   "cell_type": "markdown",
   "id": "6b2b8777-74ac-4a94-9050-b1ead6673ca3",
   "metadata": {},
   "source": [
    "<img src=\"./images/5.7.png\" width=\"150\" height=\"150\"/>\n",
    "[5.7]"
   ]
  },
  {
   "cell_type": "markdown",
   "id": "79c0f438-881b-4b88-aab1-fc2956367205",
   "metadata": {
    "tags": []
   },
   "source": [
    "<img src=\"./images/5.8.png\" width=\"175\" height=\"175\"/>\n",
    "[5.8]"
   ]
  },
  {
   "cell_type": "markdown",
   "id": "50eaefd1-74a4-421c-9c96-5dfb17b7bf37",
   "metadata": {},
   "source": [
    "<img src=\"./images/5-18.png\" width=\"450\" height=\"450\"/>\n",
    "[5-18]"
   ]
  },
  {
   "cell_type": "code",
   "execution_count": 14,
   "id": "bb19dd65-a566-401b-b650-0632a3754226",
   "metadata": {
    "tags": []
   },
   "outputs": [],
   "source": [
    "import numpy as np"
   ]
  },
  {
   "cell_type": "code",
   "execution_count": 15,
   "id": "90d59f12-9fa4-49ec-aaa2-c590df5ebcd4",
   "metadata": {
    "tags": []
   },
   "outputs": [],
   "source": [
    "class Relu:\n",
    "    def __init__(self):\n",
    "        self.mask = None\n",
    "    \n",
    "    def forward(self, x):\n",
    "        self.mask = ( x <= 0)\n",
    "        out = x.copy()\n",
    "        out[self.mask] = 0\n",
    "        \n",
    "        return out\n",
    "    \n",
    "    def backward(self, dout):\n",
    "        dout[self.mask] = 0\n",
    "        dx = dout\n",
    "        \n",
    "        return dx"
   ]
  },
  {
   "cell_type": "code",
   "execution_count": 16,
   "id": "4a3cd277-3403-4e0b-bb9e-0dcb24b10f4d",
   "metadata": {
    "tags": []
   },
   "outputs": [],
   "source": [
    "x = np.array([[1.0, -0.5], [-2.0, 3.0]])"
   ]
  },
  {
   "cell_type": "code",
   "execution_count": 17,
   "id": "206e2968-3abb-4e6a-b52f-9974fb889e0d",
   "metadata": {
    "tags": []
   },
   "outputs": [
    {
     "data": {
      "text/plain": [
       "array([[ 1. , -0.5],\n",
       "       [-2. ,  3. ]])"
      ]
     },
     "execution_count": 17,
     "metadata": {},
     "output_type": "execute_result"
    }
   ],
   "source": [
    "x"
   ]
  },
  {
   "cell_type": "code",
   "execution_count": 18,
   "id": "e819f4bd-dd43-406c-a103-c1bc082c19cf",
   "metadata": {
    "tags": []
   },
   "outputs": [],
   "source": [
    "mask = (x <= 0)"
   ]
  },
  {
   "cell_type": "code",
   "execution_count": 19,
   "id": "d63eb9c3-1e20-46a8-8fe7-5ee6006473cc",
   "metadata": {
    "tags": []
   },
   "outputs": [
    {
     "data": {
      "text/plain": [
       "array([[False,  True],\n",
       "       [ True, False]])"
      ]
     },
     "execution_count": 19,
     "metadata": {},
     "output_type": "execute_result"
    }
   ],
   "source": [
    "mask"
   ]
  },
  {
   "cell_type": "markdown",
   "id": "2d2b7bcb-d44f-4400-8e7a-09c39a1417d8",
   "metadata": {},
   "source": [
    "### 5.5.2 Sigmoid 계층"
   ]
  },
  {
   "cell_type": "markdown",
   "id": "59e18862-9265-4081-bce6-b7cefd14ed9e",
   "metadata": {},
   "source": [
    "<img src=\"./images/5-19.png\" width=\"450\" height=\"450\"/>\n",
    "[5-19]"
   ]
  },
  {
   "cell_type": "markdown",
   "id": "b0a52774-ad71-4f79-a1c3-665a015e59e6",
   "metadata": {},
   "source": [
    "#### (1단계) $ y=1/x $ 미분"
   ]
  },
  {
   "cell_type": "markdown",
   "id": "90c44223-9371-4c1c-9d20-daaeee47583e",
   "metadata": {},
   "source": [
    "<img src=\"./images/5.10.png\" width=\"100\" height=\"100\"/>\n",
    "[5.10]"
   ]
  },
  {
   "cell_type": "markdown",
   "id": "5b936313-c4b0-4d8a-adee-aa0b1d99b18e",
   "metadata": {},
   "source": [
    "#### (2단계) +노드 상류 값 여과 없이 하류 내보내기"
   ]
  },
  {
   "cell_type": "markdown",
   "id": "d21423f0-a671-4d52-bc25-63623489cfc2",
   "metadata": {},
   "source": [
    "#### (3단계) $y =exp(x)$ 미분"
   ]
  },
  {
   "cell_type": "markdown",
   "id": "ec8f06b9-9bf6-4344-ae50-e61a508dd309",
   "metadata": {
    "tags": []
   },
   "source": [
    "<img src=\"./images/5.11.png\" width=\"100\" height=\"100\"/>\n",
    "[5.11]"
   ]
  },
  {
   "cell_type": "markdown",
   "id": "ecc7b963-ae72-4ed7-96e5-f3f103438e08",
   "metadata": {},
   "source": [
    "#### (4단계) x노드 순전파 때 값 서로 바꿔 곱"
   ]
  },
  {
   "cell_type": "markdown",
   "id": "f18add0a-2c09-4261-b485-da8da21bfdf1",
   "metadata": {},
   "source": [
    "#### (최종)"
   ]
  },
  {
   "cell_type": "markdown",
   "id": "4fe85b08-5001-43ff-83db-8ab1a0bc400a",
   "metadata": {},
   "source": [
    "<img src=\"./images/5-20.png\" width=\"450\" height=\"450\"/>\n",
    "[5-20]"
   ]
  },
  {
   "cell_type": "markdown",
   "id": "7b4fb2aa-6eea-4c7d-a600-98879f745af1",
   "metadata": {},
   "source": [
    "#### (정리) 간소화"
   ]
  },
  {
   "cell_type": "markdown",
   "id": "108a8405-f95e-4be1-96d8-7aac3ef05efd",
   "metadata": {},
   "source": [
    "<img src=\"./images/5-21.png\" width=\"250\" height=\"250\"/>\n",
    "[5-21]"
   ]
  },
  {
   "cell_type": "markdown",
   "id": "e0d3f401-160a-42c9-88d1-7cb8246bbf30",
   "metadata": {},
   "source": [
    "#### (식) $\\frac{\\partial L}{\\partial y} y^{2} exp(-x)$ 정리 : y의 출력만으로 계산 가능"
   ]
  },
  {
   "cell_type": "markdown",
   "id": "e511c278-6477-4ab5-8eee-00bfb70bc267",
   "metadata": {},
   "source": [
    "<img src=\"./images/5.12.png\" width=\"350\" height=\"350\"/>\n",
    "[5.12]"
   ]
  },
  {
   "cell_type": "markdown",
   "id": "3d4f38d4-7340-407f-a309-c12740f160ee",
   "metadata": {},
   "source": [
    "<img src=\"./images/5-22.png\" width=\"250\" height=\"250\"/>\n",
    "[5-22]"
   ]
  },
  {
   "cell_type": "code",
   "execution_count": 20,
   "id": "4b55709a-bd0c-42f9-8c43-dca9b77a2967",
   "metadata": {
    "tags": []
   },
   "outputs": [],
   "source": [
    "# 구현"
   ]
  },
  {
   "cell_type": "code",
   "execution_count": 21,
   "id": "dfb7d3f7-8acc-425f-94d9-2249ec22bd68",
   "metadata": {
    "tags": []
   },
   "outputs": [],
   "source": [
    "class Sigmoid:\n",
    "    def __init__(self):\n",
    "        self.out = None\n",
    "        \n",
    "    def forward(self, x):\n",
    "        out = 1 / (1 +np.exp(-x))\n",
    "        self.out = out\n",
    "    \n",
    "    def backward(self, dout):\n",
    "        dx = dout * (1.0 - self.out) *self.out\n",
    "        \n",
    "        return dx"
   ]
  },
  {
   "cell_type": "markdown",
   "id": "57bf7c53-c660-444d-b269-820600f79519",
   "metadata": {},
   "source": [
    "## 5.6 Affice/Softmax 계층 구현하기"
   ]
  },
  {
   "cell_type": "markdown",
   "id": "61048a92-a5ca-474e-849f-e249188adaac",
   "metadata": {},
   "source": [
    "### 5.6.1 Affine 계층"
   ]
  },
  {
   "cell_type": "code",
   "execution_count": 22,
   "id": "5f1f000a-4645-4920-8132-d8d457dc31be",
   "metadata": {
    "tags": []
   },
   "outputs": [],
   "source": [
    "# 순전파 계산 예시"
   ]
  },
  {
   "cell_type": "code",
   "execution_count": 23,
   "id": "70bff0ac-53fc-441d-a56e-9396a23685cc",
   "metadata": {
    "tags": []
   },
   "outputs": [],
   "source": [
    "X = np.random.rand(2)\n",
    "W = np.random.rand(2,3)\n",
    "B = np.random.rand(3)"
   ]
  },
  {
   "cell_type": "code",
   "execution_count": 24,
   "id": "d546c410-f785-43d2-8942-f5b73a00406d",
   "metadata": {
    "tags": []
   },
   "outputs": [
    {
     "name": "stdout",
     "output_type": "stream",
     "text": [
      "(2,)\n",
      "(2, 3)\n",
      "(3,)\n"
     ]
    }
   ],
   "source": [
    "print(X.shape)\n",
    "print(W.shape)\n",
    "print(B.shape)"
   ]
  },
  {
   "cell_type": "code",
   "execution_count": 25,
   "id": "71a1da96-8c33-4edc-ad31-caaa88378a3c",
   "metadata": {
    "tags": []
   },
   "outputs": [],
   "source": [
    "Y = np.dot(X, W)"
   ]
  },
  {
   "cell_type": "code",
   "execution_count": 26,
   "id": "e42862f4-2f7e-484b-87bb-a80c8140ba51",
   "metadata": {
    "tags": []
   },
   "outputs": [
    {
     "data": {
      "text/plain": [
       "array([0.23604917, 0.64024596, 0.84252544])"
      ]
     },
     "execution_count": 26,
     "metadata": {},
     "output_type": "execute_result"
    }
   ],
   "source": [
    "Y"
   ]
  },
  {
   "cell_type": "markdown",
   "id": "a2683935-4c29-4a61-9f7c-1e403f4aea82",
   "metadata": {},
   "source": [
    "<img src=\"./images/5-23.png\" width=\"150\" height=\"150\"/>\n",
    "[5-23]"
   ]
  },
  {
   "cell_type": "markdown",
   "id": "a983ee42-9ef6-4acf-a88f-5c1ebf19cd2d",
   "metadata": {},
   "source": [
    "<img src=\"./images/5-24.png\" width=\"300\" height=\"300\"/>\n",
    "[5-24]"
   ]
  },
  {
   "cell_type": "markdown",
   "id": "f006c19d-6121-4adf-9eb8-b9c3da8d2554",
   "metadata": {},
   "source": [
    "#### [5-24]의 역전파 생각하기"
   ]
  },
  {
   "cell_type": "markdown",
   "id": "8533d8c9-b1f8-4349-b28d-14e7fc32955d",
   "metadata": {},
   "source": [
    "<img src=\"./images/5.13.png\" width=\"125\" height=\"125\"/>\n",
    "[5.13]"
   ]
  },
  {
   "cell_type": "markdown",
   "id": "28fe8794-98d4-4864-803a-c688e824b726",
   "metadata": {},
   "source": [
    "<img src=\"./images/5.14.png\" width=\"150\" height=\"150\"/>\n",
    "[5.14]"
   ]
  },
  {
   "cell_type": "markdown",
   "id": "cfa04a77-784b-4964-bc39-8fbf1dee47e0",
   "metadata": {},
   "source": [
    "#### 해당 수식에 대한 찝찝함이 남아 [여기1](https://velog.io/@kylebae1017/Backpropagation-in-Affine-Layer)와 [여기2](https://compmath.korea.ac.kr/deeplearning/BackPropagation.html#id19)를 참고했다."
   ]
  },
  {
   "cell_type": "markdown",
   "id": "edd42b08-4b16-44bb-94a0-118b0fcccfe2",
   "metadata": {},
   "source": [
    "(책의 아쉬운 설명을 그냥 넘어가지 못한게 나뿐만이 아니구나..)\n",
    "\n",
    "내가 이해한대로 작성한거라 증명과정에서 틀린 논리와 내용이 있을 수 있다."
   ]
  },
  {
   "cell_type": "markdown",
   "id": "756e72be-31ec-4edb-bd7e-0a35c05541a6",
   "metadata": {},
   "source": [
    "### (연쇄법칙)"
   ]
  },
  {
   "cell_type": "markdown",
   "id": "9b231821-7dbb-404d-a03c-49f01aa3f1f9",
   "metadata": {
    "tags": []
   },
   "source": [
    "<img src=\"./images/ref_1.png\" width=\"550\" height=\"550\"/>\n",
    "[Chain Rule]\n",
    "\n",
    "$$\\frac{\\partial u}{\\partial t_j} =  \\sum_{i=1}^{n}\\frac{\\partial u}{\\partial x_i} \\frac{\\partial x_i}{\\partial t_j}$$"
   ]
  },
  {
   "cell_type": "markdown",
   "id": "8670caa1-86ab-4fbb-8181-044e1c690a8c",
   "metadata": {
    "tags": []
   },
   "source": [
    "## (증명 목표)"
   ]
  },
  {
   "cell_type": "markdown",
   "id": "f8c8e79a-1532-44aa-8ece-6afb3ac3af17",
   "metadata": {
    "tags": []
   },
   "source": [
    "<img src=\"./images/5-25.png\" width=\"450\" height=\"450\"/>\n",
    "[5.25]"
   ]
  },
  {
   "cell_type": "markdown",
   "id": "530594dc-2296-4f11-a402-db8fcfc974c7",
   "metadata": {},
   "source": [
    "#### (가정)"
   ]
  },
  {
   "cell_type": "markdown",
   "id": "96499c3c-f388-45a7-85d1-f346019e6221",
   "metadata": {},
   "source": [
    "$ Y = XW + B $ <br>$L = f(Y) $ <br>$(단, L : 스칼라) $"
   ]
  },
  {
   "cell_type": "markdown",
   "id": "f3b97f8a-76a1-45b3-9ceb-b1d9747b6615",
   "metadata": {},
   "source": [
    "$X = \\begin{pmatrix}\n",
    "x_{11} & x_{12} \\\\\n",
    "\\end{pmatrix}$<br><br>\n",
    "$W=\\begin{pmatrix}\n",
    "w_{11} & w_{12} & w_{13} \\\\\n",
    "w_{21} & w_{22} & w_{23} \\\\\n",
    "\\end{pmatrix}$ (참고 : 교재랑 기호 순서가 다르다... 뒤늦게 발견)<br><br> \n",
    "$B = \\begin{pmatrix}\n",
    "b_{11} & b_{12} & b_{13} \\\\\n",
    "\\end{pmatrix}$\n",
    "일 때 \n",
    "\n",
    "$Y = \\begin{pmatrix}\n",
    "x_{11}w_{11} + x_{12}w_{21} + b_{11} & x_{11}w_{12} + x_{12}w_{22} + b_{12}& x_{11}w_{13} + x_{12}w_{23} + b_{13}\\\\\n",
    "\\end{pmatrix}$"
   ]
  },
  {
   "cell_type": "markdown",
   "id": "c673f9b5-064e-4560-967c-0fc56b90865f",
   "metadata": {
    "tags": []
   },
   "source": [
    "### (1)$\\frac{\\partial L}{\\partial X} = \\frac{\\partial L}{\\partial Y}\\cdot  W^T$ 증명하기"
   ]
  },
  {
   "cell_type": "markdown",
   "id": "54793f64-02c5-4cc1-9b36-df8ad7e1c257",
   "metadata": {},
   "source": [
    "$\\frac{\\partial L}{\\partial X} = \\begin{pmatrix}\n",
    "\\frac{\\partial L}{\\partial x_{11}} &  \\frac{\\partial L}{\\partial x{12}}\\\\\n",
    "\\end{pmatrix}$ 이고 <br><br> 연쇄법칙에 의해 <br><br>\n",
    "$\\frac{\\partial L}{\\partial x_{11}} = \\frac{\\partial L}{\\partial y_{11}}\\cdot \\frac{\\partial y_{11}}{\\partial x_{11}} +\n",
    "\\frac{\\partial L}{\\partial y_{12}}\\cdot \\frac{\\partial y_{12}}{\\partial x_{11}} +\n",
    "\\frac{\\partial L}{\\partial y_{13}}\\cdot \\frac{\\partial y_{13}}{\\partial x_{11}} $\n",
    "\n",
    "$\\frac{\\partial L}{\\partial x_{12}} = \\frac{\\partial L}{\\partial y_{11}}\\cdot \\frac{\\partial y_{11}}{\\partial x_{12}} +\n",
    "\\frac{\\partial L}{\\partial y_{12}}\\cdot \\frac{\\partial y_{12}}{\\partial x_{12}} +\n",
    "\\frac{\\partial L}{\\partial y_{13}}\\cdot \\frac{\\partial y_{13}}{\\partial x_{12}} $\n",
    "<br><br>\n",
    "한편, \n",
    "$Y = \\begin{pmatrix}\n",
    "y_{11} &y_{12}& y_{13} \\\\\n",
    "\\end{pmatrix}\n",
    "=\n",
    "\\begin{pmatrix}\n",
    "x_{11}w_{11} + x_{12}w_{21} + b_{11} & x_{11}w_{12} + x_{12}w_{22} + b_{12}& x_{11}w_{13} + x_{12}w_{23} + b_{13}\\\\\n",
    "\\end{pmatrix}$ 이므로 <br><br>\n",
    "$$\\frac{\\partial y_{1n}}{\\partial x_{1m}} =w_{mn} \\quad (단, m= 1,2 \\quad n=1,2,3) $$  이다"
   ]
  },
  {
   "cell_type": "markdown",
   "id": "84be3ea7-1af8-44a5-a3f0-70ff25e7dee4",
   "metadata": {},
   "source": [
    "즉, <br>\n",
    "$\\frac{\\partial L}{\\partial x_{11}} = \\frac{\\partial L}{\\partial y_{11}}\\cdot \\frac{\\partial y_{11}}{\\partial x_{11}} +\n",
    "\\frac{\\partial L}{\\partial y_{12}}\\cdot \\frac{\\partial y_{12}}{\\partial x_{11}} +\n",
    "\\frac{\\partial L}{\\partial y_{13}}\\cdot \\frac{\\partial y_{13}}{\\partial x_{11}} $<br><br>\n",
    "&nbsp; &nbsp; &nbsp; &nbsp; &nbsp; &nbsp; &nbsp;\n",
    "$=\\frac{\\partial L}{\\partial y_{11}}\\cdot w_{11} +\n",
    "\\frac{\\partial L}{\\partial y_{12}}\\cdot w_{12} +\n",
    "\\frac{\\partial L}{\\partial y_{13}}\\cdot w_{13} $\n",
    "\n",
    "$\\frac{\\partial L}{\\partial x_{12}} = \\frac{\\partial L}{\\partial y_{11}}\\cdot \\frac{\\partial y_{11}}{\\partial x_{12}} +\n",
    "\\frac{\\partial L}{\\partial y_{12}}\\cdot \\frac{\\partial y_{12}}{\\partial x_{12}} +\n",
    "\\frac{\\partial L}{\\partial y_{13}}\\cdot \\frac{\\partial y_{13}}{\\partial x_{12}}$<br><br>\n",
    "&nbsp; &nbsp; &nbsp; &nbsp; &nbsp; &nbsp; &nbsp;\n",
    "$=\\frac{\\partial L}{\\partial y_{11}}\\cdot w_{21} +\n",
    "\\frac{\\partial L}{\\partial y_{12}}\\cdot w_{22} +\n",
    "\\frac{\\partial L}{\\partial y_{13}}\\cdot w_{23} $ 이므로"
   ]
  },
  {
   "cell_type": "markdown",
   "id": "3caad9e7-84b8-4741-95c3-5793765b1e0e",
   "metadata": {},
   "source": [
    "$\\frac{\\partial L}{\\partial X} = \\begin{pmatrix}\n",
    "\\frac{\\partial L}{\\partial x_{11}} &  \\frac{\\partial L}{\\partial x{12}}\\\\\n",
    "\\end{pmatrix} = \n",
    "\\begin{pmatrix}\n",
    "\\frac{\\partial L}{\\partial y_{11}}\\cdot w_{11} +\n",
    "\\frac{\\partial L}{\\partial y_{12}}\\cdot w_{12} +\n",
    "\\frac{\\partial L}{\\partial y_{13}}\\cdot w_{13} &  \\frac{\\partial L}{\\partial y_{11}}\\cdot w_{21} +\n",
    "\\frac{\\partial L}{\\partial y_{12}}\\cdot w_{22} +\n",
    "\\frac{\\partial L}{\\partial y_{13}}\\cdot w_{23} \n",
    "\\end{pmatrix}\n",
    "$ <br><br>\n",
    "&nbsp; &nbsp; &nbsp; &nbsp;\n",
    "$ = \\begin{pmatrix}\n",
    "\\frac{\\partial L}{\\partial y_{11}} &\\frac{\\partial L}{\\partial y_{12}}  &\\frac{\\partial L}{\\partial y_{13}}  \\\\\n",
    "\\end{pmatrix}\n",
    "\\begin{pmatrix}\n",
    "w_{11} & w_{21} \\\\\n",
    "w_{12} & w_{22} \\\\\n",
    "w_{13} & w_{23} \\\\\n",
    "\\end{pmatrix}$\n",
    "<br>\n",
    "&nbsp; &nbsp; &nbsp; &nbsp;\n",
    "$ = \\frac{\\partial L}{\\partial Y}\\bullet  W^T$"
   ]
  },
  {
   "cell_type": "markdown",
   "id": "583b416d-1f03-4d4c-8298-c2fc203e5de6",
   "metadata": {},
   "source": [
    "### (2)$\\frac{\\partial L}{\\partial W} =   X^T \\cdot \\frac{\\partial L}{\\partial Y}$ 증명하기"
   ]
  },
  {
   "cell_type": "code",
   "execution_count": 33,
   "id": "a2fac519-66d5-41c3-a6dc-b27b2bd9b63d",
   "metadata": {
    "tags": []
   },
   "outputs": [],
   "source": [
    "# LaTeX 수식쓰는 것이 쉽지 않다. 차후 업데이트 해야겠다. 방법은 위와 같다"
   ]
  },
  {
   "cell_type": "code",
   "execution_count": null,
   "id": "26ba19ed-78f6-4d15-8cd1-35885933f859",
   "metadata": {},
   "outputs": [],
   "source": []
  },
  {
   "cell_type": "markdown",
   "id": "16c21770-6c03-42f5-8395-8ad9d320f981",
   "metadata": {},
   "source": [
    "다시 책으로 돌아온다"
   ]
  },
  {
   "cell_type": "markdown",
   "id": "2ac94c7b-ea3d-4d67-bbaf-1e2e2a2466d1",
   "metadata": {},
   "source": [
    "### 5.6.2 배치용 Affine 계층"
   ]
  },
  {
   "cell_type": "markdown",
   "id": "ae7ce51f-9c39-46b2-a3a5-a19121d2cac6",
   "metadata": {},
   "source": [
    "<img src=\"./images/5-27.png\" width=\"450\" height=\"450\"/>\n",
    "[5-27]"
   ]
  },
  {
   "cell_type": "code",
   "execution_count": null,
   "id": "44bb77c1-6cf1-4c60-94b0-1fb6992bea64",
   "metadata": {},
   "outputs": [],
   "source": [
    "# 편향 더할때 주의"
   ]
  },
  {
   "cell_type": "code",
   "execution_count": 27,
   "id": "63725b7c-1b4f-4f62-a6fd-53b8dbf65fd1",
   "metadata": {},
   "outputs": [],
   "source": [
    "X_dot_W = np.array([[0,0,0],[10,10,10]])"
   ]
  },
  {
   "cell_type": "code",
   "execution_count": 28,
   "id": "4b22ae76-8fc1-4a40-9749-37b8e94683ea",
   "metadata": {
    "tags": []
   },
   "outputs": [],
   "source": [
    "B = np.array([1,2,3])"
   ]
  },
  {
   "cell_type": "code",
   "execution_count": 29,
   "id": "abee0b8b-0746-4788-8b33-0e4c9ce5bf08",
   "metadata": {
    "tags": []
   },
   "outputs": [
    {
     "data": {
      "text/plain": [
       "array([[ 0,  0,  0],\n",
       "       [10, 10, 10]])"
      ]
     },
     "execution_count": 29,
     "metadata": {},
     "output_type": "execute_result"
    }
   ],
   "source": [
    "X_dot_W"
   ]
  },
  {
   "cell_type": "code",
   "execution_count": 30,
   "id": "3ce4cbd8-7719-43ae-b03e-a0cad47fdbf6",
   "metadata": {
    "tags": []
   },
   "outputs": [
    {
     "data": {
      "text/plain": [
       "array([[ 1,  2,  3],\n",
       "       [11, 12, 13]])"
      ]
     },
     "execution_count": 30,
     "metadata": {},
     "output_type": "execute_result"
    }
   ],
   "source": [
    "X_dot_W + B"
   ]
  },
  {
   "cell_type": "code",
   "execution_count": 31,
   "id": "a3699b47-4cfe-49ff-b0b6-0690dc08c13c",
   "metadata": {
    "tags": []
   },
   "outputs": [],
   "source": [
    "# 역적판 편향"
   ]
  },
  {
   "cell_type": "code",
   "execution_count": 32,
   "id": "67902a19-66ef-44a7-b656-3b45ab26d40c",
   "metadata": {
    "tags": []
   },
   "outputs": [],
   "source": [
    "dY = np.array([[1,2,3],[4,5,6]])"
   ]
  },
  {
   "cell_type": "code",
   "execution_count": 37,
   "id": "33658c16-2dd1-4e61-af65-92cfafb4886c",
   "metadata": {
    "tags": []
   },
   "outputs": [
    {
     "data": {
      "text/plain": [
       "array([[1, 2, 3],\n",
       "       [4, 5, 6]])"
      ]
     },
     "execution_count": 37,
     "metadata": {},
     "output_type": "execute_result"
    }
   ],
   "source": [
    "dY"
   ]
  },
  {
   "cell_type": "code",
   "execution_count": 34,
   "id": "887e89fd-e859-4591-a1f9-a8841f8eb14f",
   "metadata": {
    "tags": []
   },
   "outputs": [],
   "source": [
    "dB = np.sum(dY, axis=0) # aixs = 0 은 데이터를 단위로 한 축에 대한 합(열 합)"
   ]
  },
  {
   "cell_type": "code",
   "execution_count": 35,
   "id": "8cc42a97-f845-463e-a900-b5f57ee4b8fa",
   "metadata": {
    "tags": []
   },
   "outputs": [
    {
     "data": {
      "text/plain": [
       "array([5, 7, 9])"
      ]
     },
     "execution_count": 35,
     "metadata": {},
     "output_type": "execute_result"
    }
   ],
   "source": [
    "dB"
   ]
  },
  {
   "cell_type": "code",
   "execution_count": null,
   "id": "abef7164-7a9d-466c-a28b-49f09d92ced3",
   "metadata": {},
   "outputs": [],
   "source": []
  },
  {
   "cell_type": "code",
   "execution_count": 38,
   "id": "0549a1c0-46a5-403d-8618-dc37bea1b11e",
   "metadata": {
    "tags": []
   },
   "outputs": [],
   "source": [
    "class Affine:\n",
    "    def __init__(self, w, b):\n",
    "        self.W = W\n",
    "        self.b = b\n",
    "        self.x = None\n",
    "        self.dW = None\n",
    "        self.db = None\n",
    "        \n",
    "    def forward(self, x):\n",
    "        self.x = x\n",
    "        out = np.dot(x, self.W) + self.b\n",
    "        \n",
    "        return out\n",
    "    \n",
    "    def backward(self, dout):\n",
    "        dx = np.dot(dout, self.W.T) # t는 transpose\n",
    "        self.dW = np.dot(self.x.T, dout)\n",
    "        self.db = np.sum(dout, axis=0)\n",
    "        \n",
    "        return dx"
   ]
  },
  {
   "cell_type": "markdown",
   "id": "2fbec4b2-8dea-4054-ae7f-264a46dbdbc6",
   "metadata": {},
   "source": [
    "### 5.6.3 Softmax-with-Loss 계층"
   ]
  },
  {
   "cell_type": "markdown",
   "id": "a93d16fe-19a0-4803-9ca4-def33bdb4e25",
   "metadata": {},
   "source": [
    "<img src=\"./images/5-28.png\" width=\"450\" height=\"450\"/>\n",
    "[5-28]"
   ]
  },
  {
   "cell_type": "markdown",
   "id": "479e0a1a-7565-4e47-9587-f2b2ff3293bc",
   "metadata": {},
   "source": [
    "* 추론할 때는 일반적으로 Softmax 계층을 사용하지 않는다\n",
    "* Softmax 앞의 Affine 계층의 출력을 점수(score)라고 한다\n",
    "* 신경망을 학습할 때는 Softmax 계층이 필요하다"
   ]
  },
  {
   "cell_type": "markdown",
   "id": "609e0c3f-823b-4af4-9c34-c2f468d531aa",
   "metadata": {},
   "source": [
    "<img src=\"./images/5-29.png\" width=\"550\" height=\"550\"/>\n",
    "[5-29]"
   ]
  },
  {
   "cell_type": "markdown",
   "id": "62483a4c-6173-4f7d-842b-066f15220792",
   "metadata": {},
   "source": [
    "# Appendix.A"
   ]
  },
  {
   "cell_type": "markdown",
   "id": "13aa58fc-c9bc-4888-bc1a-9c0bfe2e1371",
   "metadata": {},
   "source": [
    "## Softmax-with-Loss 계층의 계산 그래프"
   ]
  },
  {
   "cell_type": "markdown",
   "id": "346f3442-194a-465d-b4e2-55396d2e2d24",
   "metadata": {},
   "source": [
    "<img src=\"./images/5-30.png\" width=\"400\" height=\"400\"/>\n",
    "[5-30][A-1](간소화버전) "
   ]
  },
  {
   "cell_type": "markdown",
   "id": "c6f83f76-1152-4712-9035-5c1c4afb78e4",
   "metadata": {},
   "source": [
    "## (가정) \n",
    "* 3클래스를 분류하는 신경망 가정한 그림\n",
    "* 이전 계층으로 부터 입력 $(a_1, a_2, a_3)$ &nbsp; softmax 계층은 $(y_1, y_2, y_3)$를 출력"
   ]
  },
  {
   "cell_type": "code",
   "execution_count": null,
   "id": "99099fd8-65a7-4a01-a4ce-2c695c299510",
   "metadata": {},
   "outputs": [],
   "source": []
  },
  {
   "cell_type": "code",
   "execution_count": null,
   "id": "fce08f97-2e11-4786-8ea4-ee647ddc34cb",
   "metadata": {},
   "outputs": [],
   "source": []
  },
  {
   "cell_type": "code",
   "execution_count": null,
   "id": "41b942d3-c031-4a74-9fc1-b9b1d4325137",
   "metadata": {},
   "outputs": [],
   "source": []
  },
  {
   "cell_type": "code",
   "execution_count": null,
   "id": "1beee0a8-2b9f-4da5-b69e-8fa66806a3ab",
   "metadata": {},
   "outputs": [],
   "source": []
  },
  {
   "cell_type": "code",
   "execution_count": null,
   "id": "c4710b6e-5774-4c25-b702-f28e3309a782",
   "metadata": {},
   "outputs": [],
   "source": []
  },
  {
   "cell_type": "code",
   "execution_count": null,
   "id": "a3c954b2-fad1-4590-99fb-81846220e8cc",
   "metadata": {},
   "outputs": [],
   "source": []
  },
  {
   "cell_type": "code",
   "execution_count": null,
   "id": "4f954e56-6899-44ae-8205-3d2942569963",
   "metadata": {},
   "outputs": [],
   "source": []
  },
  {
   "cell_type": "code",
   "execution_count": null,
   "id": "62f6f991-b551-4cbe-bc2d-229aad36bbd5",
   "metadata": {},
   "outputs": [],
   "source": []
  },
  {
   "cell_type": "code",
   "execution_count": null,
   "id": "da65665d-c520-4a96-9a5c-8e9ae4cd945b",
   "metadata": {},
   "outputs": [],
   "source": []
  },
  {
   "cell_type": "code",
   "execution_count": null,
   "id": "62adcf05-20bf-49e9-ac6e-c5c62abcf581",
   "metadata": {},
   "outputs": [],
   "source": []
  },
  {
   "cell_type": "code",
   "execution_count": null,
   "id": "c22d2fa1-156e-49d3-bd5d-fd7421fec548",
   "metadata": {},
   "outputs": [],
   "source": []
  },
  {
   "cell_type": "markdown",
   "id": "f9ebf79a-d57b-4cb5-8dc6-7c1c041037cd",
   "metadata": {
    "jp-MarkdownHeadingCollapsed": true,
    "tags": []
   },
   "source": [
    "#### (교차 엔트로피)"
   ]
  },
  {
   "cell_type": "markdown",
   "id": "1bd26e55-69da-4627-a06a-2fbd56b7dede",
   "metadata": {
    "tags": []
   },
   "source": [
    "<img src=\"./images/A.2.png\" width=\"150\" height=\"150\"/>\n",
    "[A.2]"
   ]
  },
  {
   "cell_type": "code",
   "execution_count": null,
   "id": "5075cede-78d0-4e59-80ab-d4d3e4b36a93",
   "metadata": {},
   "outputs": [],
   "source": []
  }
 ],
 "metadata": {
  "kernelspec": {
   "display_name": "Python 3 (ipykernel)",
   "language": "python",
   "name": "python3"
  },
  "language_info": {
   "codemirror_mode": {
    "name": "ipython",
    "version": 3
   },
   "file_extension": ".py",
   "mimetype": "text/x-python",
   "name": "python",
   "nbconvert_exporter": "python",
   "pygments_lexer": "ipython3",
   "version": "3.11.3"
  }
 },
 "nbformat": 4,
 "nbformat_minor": 5
}
