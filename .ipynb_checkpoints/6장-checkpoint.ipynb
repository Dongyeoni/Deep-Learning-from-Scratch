{
 "cells": [
  {
   "cell_type": "markdown",
   "id": "0509b802-8e9c-4acb-afbe-3fcd6b2e6f39",
   "metadata": {},
   "source": [
    "# Chapter6. 학습 관련 기술들"
   ]
  },
  {
   "cell_type": "markdown",
   "id": "581ec7d9-c4a6-4d25-95fd-28429870bbf4",
   "metadata": {},
   "source": [
    "## 6.1 매개변수 갱신"
   ]
  },
  {
   "cell_type": "markdown",
   "id": "6f3df082-19d2-4b15-a449-3cfff75bfb55",
   "metadata": {},
   "source": [
    "* 신경망 학습의 목적 : 손실 함수의 값을 가능한 한 낮추는 매개변수를 찾는 것\n",
    "* 최적화 : 최적 매개변수를 찾는 문제\n",
    "* 확률적 경사 하강법(SGD) 외에 다른 기법들도 존재"
   ]
  },
  {
   "cell_type": "markdown",
   "id": "231b150f-fa4f-4685-b3e6-460b50ecdf60",
   "metadata": {},
   "source": [
    "### 6.1.1 모험가 이야기"
   ]
  },
  {
   "cell_type": "markdown",
   "id": "e6bf2921-e176-4dcb-8faf-06113c07bf41",
   "metadata": {},
   "source": [
    "* 지도를 보지 않고 눈 가리개를 쓴 모험가가 가장 깊고 낮은 골짜기를 찾는 문제와 유사"
   ]
  },
  {
   "cell_type": "markdown",
   "id": "06ffaaa9-7f4c-458a-8c7f-8018f0f3750b",
   "metadata": {},
   "source": [
    "### 6.1.2 확률적 경사 하강법(SGD)"
   ]
  },
  {
   "cell_type": "markdown",
   "id": "a2efe58a-4085-40d4-a14c-88861dbd1a40",
   "metadata": {
    "tags": []
   },
   "source": [
    "<img src=\"./images/6.1.png\" width=\"150\" height=\"150\"/>\n",
    "(6.1)"
   ]
  },
  {
   "cell_type": "code",
   "execution_count": 1,
   "id": "52572c5b-f72b-4cc2-a88b-fb9ea654390a",
   "metadata": {
    "tags": []
   },
   "outputs": [],
   "source": [
    "# SGD 구현"
   ]
  },
  {
   "cell_type": "code",
   "execution_count": 2,
   "id": "bde5f783-56c3-466e-a761-a386cff0c30f",
   "metadata": {
    "tags": []
   },
   "outputs": [],
   "source": [
    "class SGD:\n",
    "    def __init__(self, lr =0.01):\n",
    "        self.lr = lr\n",
    "        \n",
    "    def update(self, params, grads):\n",
    "        for key in params.keys():\n",
    "            params[key] -= self.lr * grads[key]"
   ]
  },
  {
   "cell_type": "code",
   "execution_count": 3,
   "id": "0c138de9-097f-440e-8bc9-b74d0f502c65",
   "metadata": {
    "tags": []
   },
   "outputs": [],
   "source": [
    "# 의사코드"
   ]
  },
  {
   "cell_type": "code",
   "execution_count": 4,
   "id": "ae34e19d-17a2-4227-8d66-8b4371f9d321",
   "metadata": {},
   "outputs": [
    {
     "ename": "NameError",
     "evalue": "name 'TwoLayerNet' is not defined",
     "output_type": "error",
     "traceback": [
      "\u001b[1;31m---------------------------------------------------------------------------\u001b[0m",
      "\u001b[1;31mNameError\u001b[0m                                 Traceback (most recent call last)",
      "Cell \u001b[1;32mIn[4], line 1\u001b[0m\n\u001b[1;32m----> 1\u001b[0m network \u001b[38;5;241m=\u001b[39m TwoLayerNet(\u001b[38;5;241m.\u001b[39m\u001b[38;5;241m.\u001b[39m\u001b[38;5;241m.\u001b[39m)\n\u001b[0;32m      2\u001b[0m optimizer \u001b[38;5;241m=\u001b[39m SGD()\n",
      "\u001b[1;31mNameError\u001b[0m: name 'TwoLayerNet' is not defined"
     ]
    }
   ],
   "source": [
    "network = TwoLayerNet(...)\n",
    "optimizer = SGD()"
   ]
  },
  {
   "cell_type": "code",
   "execution_count": null,
   "id": "6352369e-df2e-4f54-8f9d-41848e1a7ee3",
   "metadata": {},
   "outputs": [],
   "source": [
    "for i in range(10000):\n",
    "    ...\n",
    "    x_batch, t_batch = get_mini_batch(...)\n",
    "    grads = network.gradient(x_batch, t_batch)\n",
    "    params = network.params\n",
    "    optimizer.update(params, grads)\n",
    "    ...\n",
    "    "
   ]
  },
  {
   "cell_type": "markdown",
   "id": "6ebb1ee4-303d-46dc-8db8-2e01de524fe2",
   "metadata": {},
   "source": [
    "### 6.1.3 SGD의 단점"
   ]
  },
  {
   "cell_type": "markdown",
   "id": "bf3a87e3-160b-45ce-8af5-63d3460ed022",
   "metadata": {},
   "source": [
    "#### (예시) 함수의 최솟값 구하기 문제"
   ]
  },
  {
   "cell_type": "markdown",
   "id": "c2aa195b-b347-4157-884f-77a653aa80c2",
   "metadata": {},
   "source": [
    "<img src=\"./images/6.2.png\" width=\"150\" height=\"150\"/>\n",
    "(6.2)"
   ]
  },
  {
   "cell_type": "markdown",
   "id": "57c96c49-0fd3-468f-8f21-f6babe9c4dfb",
   "metadata": {},
   "source": [
    "<img src=\"./images/6-1.png\" width=\"400\" height=\"400\"/>\n",
    "[6-1]"
   ]
  },
  {
   "cell_type": "markdown",
   "id": "0a98f13f-cf78-4af8-8739-2ecbd15bf902",
   "metadata": {
    "tags": []
   },
   "source": [
    "<img src=\"./images/6-2.png\" width=\"300\" height=\"300\"/>\n",
    "[6-2]"
   ]
  },
  {
   "cell_type": "markdown",
   "id": "6a14c212-d80c-4e3a-8e17-521436a297ec",
   "metadata": {},
   "source": [
    "#### (x, y) = (-7.0, 2.0)에서 시작한다고 가정"
   ]
  },
  {
   "cell_type": "markdown",
   "id": "4b9e534c-5da2-47b3-9966-e3c53c09928c",
   "metadata": {},
   "source": [
    "<img src=\"./images/6-3.png\" width=\"300\" height=\"300\"/>\n",
    "[6-3]"
   ]
  },
  {
   "cell_type": "markdown",
   "id": "adeb9d01-db8a-49c4-9ebf-e732d601fe47",
   "metadata": {},
   "source": [
    "* SGD의 움직임이 비효율적이다\n",
    "* SGD의 단점으로 비등방성(anisotropy) 함수에서 탐색 경로가 비효율적"
   ]
  },
  {
   "cell_type": "markdown",
   "id": "7d1dd8de-12ed-4d50-ad63-ef5ef8048aaf",
   "metadata": {},
   "source": [
    "### 6.1.4 모멘텀"
   ]
  },
  {
   "cell_type": "markdown",
   "id": "3bb3df43-dc5c-40f1-8af9-779d237f4dd1",
   "metadata": {},
   "source": [
    "#### (수식)"
   ]
  },
  {
   "cell_type": "markdown",
   "id": "4cfd3e59-9dec-40ea-9060-62cc30dc5e56",
   "metadata": {},
   "source": [
    "<img src=\"./images/6.3.png\" width=\"150\" height=\"150\"/>\n",
    "(6.3)"
   ]
  },
  {
   "cell_type": "markdown",
   "id": "06c0c7f0-ab0a-4ddc-aa07-85fc0998e8d4",
   "metadata": {
    "tags": []
   },
   "source": [
    "<img src=\"./images/6.4.png\" width=\"100\" height=\"100\"/>\n",
    "(6.4)"
   ]
  },
  {
   "cell_type": "markdown",
   "id": "97d3bd17-0345-40c8-b017-6461d9387382",
   "metadata": {},
   "source": [
    "* $W$ : 갱신할 가중치 매개변수\n",
    "* $\\frac {\\partial L}{\\partial W}$ : W에 대한 손실 함수의 기울기\n",
    "* $\\eta$ : 학습률\n",
    "* $v$ : 속도\n",
    "* $\\alpha v$ : 마찰(저항)의 역할"
   ]
  },
  {
   "cell_type": "code",
   "execution_count": null,
   "id": "2bc59181-2c86-4dd6-adc0-accfddbe8e05",
   "metadata": {
    "tags": []
   },
   "outputs": [],
   "source": [
    "# 구현"
   ]
  },
  {
   "cell_type": "code",
   "execution_count": 5,
   "id": "ea9615e1-3e48-480a-a436-1fb1782eb9c1",
   "metadata": {
    "tags": []
   },
   "outputs": [],
   "source": [
    "import numpy as np"
   ]
  },
  {
   "cell_type": "code",
   "execution_count": 6,
   "id": "596cfc36-c552-42f3-8d7f-7a31841bd757",
   "metadata": {
    "tags": []
   },
   "outputs": [],
   "source": [
    "class Momentum :\n",
    "    def __init__(self, lr = 0.01, momentum = 0.9):\n",
    "        self.lr = lr\n",
    "        self.momentum = momentum\n",
    "        self.v = None\n",
    "        \n",
    "    def update(self, params, grads):\n",
    "        if self.v is None:\n",
    "            self.v = {}\n",
    "            for key, val in params.items():\n",
    "                self.v[key] = np.zeros_like(val)\n",
    "                \n",
    "        for key in params.keys():\n",
    "            self.v[key] = self.momentum * self.v[key] - self.lr * grads[key]\n",
    "            params[key] += self.v[key]"
   ]
  },
  {
   "cell_type": "markdown",
   "id": "27aa8c5d-65ad-4267-b781-b056f8c9939d",
   "metadata": {},
   "source": [
    "#### (모멘텀의 경로)"
   ]
  },
  {
   "cell_type": "markdown",
   "id": "0986186c-b2d0-48bf-a0ec-c03432eef3a6",
   "metadata": {},
   "source": [
    "<img src=\"./images/6-5.png\" width=\"350\" height=\"350\"/>\n",
    "[6-5]"
   ]
  },
  {
   "cell_type": "markdown",
   "id": "7616c2e4-f26e-42fb-82ad-e780d8474c6f",
   "metadata": {},
   "source": [
    "### 6.1.5 AdaGrad"
   ]
  },
  {
   "cell_type": "markdown",
   "id": "bd9d16ef-7fc7-4aaf-b9af-5c359cdb8ec2",
   "metadata": {},
   "source": [
    "* 학습률 감소(learning rate decay) : 학습을 진행하면서 학습률을 점차 줄여가는 방법"
   ]
  },
  {
   "cell_type": "markdown",
   "id": "32753f4f-66b9-457e-85b5-df46db24db4b",
   "metadata": {},
   "source": [
    "#### (AdaGrad의 수식)"
   ]
  },
  {
   "cell_type": "markdown",
   "id": "05d12858-bfc6-4939-a526-72b00fc84a8a",
   "metadata": {},
   "source": [
    "<img src=\"./images/6.5.png\" width=\"150\" height=\"150\"/>\n",
    "(6.5)"
   ]
  },
  {
   "cell_type": "markdown",
   "id": "b001fc68-9eff-4ea7-8475-705864e2f9d9",
   "metadata": {},
   "source": [
    "<img src=\"./images/6.6.png\" width=\"150\" height=\"150\"/>\n",
    "(6.6)"
   ]
  },
  {
   "cell_type": "markdown",
   "id": "d8f5aaec-5041-4849-9f20-a1f4bb2fb148",
   "metadata": {},
   "source": [
    "* 기울기가 크면 h값이 커짐\n",
    "* 해당 값의 학습률을 낮춰짐"
   ]
  },
  {
   "cell_type": "code",
   "execution_count": 7,
   "id": "d99d4a57-00ca-4471-8d14-73ef8ea81697",
   "metadata": {
    "tags": []
   },
   "outputs": [],
   "source": [
    "# 구현"
   ]
  },
  {
   "cell_type": "code",
   "execution_count": 8,
   "id": "35b71b76-e5b9-4327-904d-63d59e8705c8",
   "metadata": {
    "tags": []
   },
   "outputs": [],
   "source": [
    "class AdaGrad:\n",
    "    def __init__(self, lr = 0.01):\n",
    "        self.lr = lr\n",
    "        self.h = None\n",
    "        \n",
    "    def update(self, params, grads):\n",
    "        if self.h is None:\n",
    "            self.h = {}\n",
    "    \n",
    "            for key.val in params.items():\n",
    "                self.h[key] = np.zeros(val)\n",
    "                \n",
    "        for key in params.keys():\n",
    "            self.h[key] += grads[key] * grads[key]\n",
    "            params[key] -= self.lr * grads[key] / (np.sqrt(self.h[key]) +1e-7) # 1e-7은 h가 0인 경우 나누기 문제를 막아줌"
   ]
  },
  {
   "cell_type": "markdown",
   "id": "104ba34f-0838-438a-a864-354c0972aa67",
   "metadata": {},
   "source": [
    "<img src=\"./images/6-6.png\" width=\"350\" height=\"350\"/>\n",
    "[6-6]"
   ]
  },
  {
   "cell_type": "markdown",
   "id": "c2fd9844-e9d5-46fa-981f-df731d606018",
   "metadata": {},
   "source": [
    "### 6.1.6 Adam"
   ]
  },
  {
   "cell_type": "markdown",
   "id": "936b104d-dd8a-41b0-8204-acb427f73bfa",
   "metadata": {},
   "source": [
    "* 모멘텀 : 공이 그릇을 구르는 듯한 물리 법칙에 따르는 움직임\n",
    "* AdaGrad : 매개변수 원소마다 적응적으로 갱신 정도 조종\n",
    "\n",
    "> Adam : 두 기법 융합"
   ]
  },
  {
   "cell_type": "markdown",
   "id": "f354aa33-e4ac-4ca1-80b8-f93fe8a88477",
   "metadata": {},
   "source": [
    "<img src=\"./images/6-7.png\" width=\"350\" height=\"350\"/>\n",
    "[6-7]"
   ]
  },
  {
   "cell_type": "markdown",
   "id": "9c001d57-c6b1-4b62-87bf-2f32e8c85c54",
   "metadata": {},
   "source": [
    "* Adam의 하이퍼 파라미터\n",
    "    * 학습률 ($\\alpha$)\n",
    "    * 일차 모멘텀용 계수 ($\\beta_1$) (기본값 0.9)\n",
    "    * 이차 모멘텀용 계수 ($\\beta_2$) (기본값 0.999)"
   ]
  },
  {
   "cell_type": "markdown",
   "id": "9c91d06e-bca8-4167-aec6-86963da403af",
   "metadata": {},
   "source": [
    "### 6.1.7 어느 갱신 방법을 이용할 것인가?"
   ]
  },
  {
   "cell_type": "markdown",
   "id": "749c5e72-735b-484b-a7e8-0585c42f524f",
   "metadata": {},
   "source": [
    "<img src=\"./images/6-8.png\" width=\"550\" height=\"550\"/>\n",
    "[6-8]"
   ]
  },
  {
   "cell_type": "markdown",
   "id": "dded41f9-9a36-4d42-8b34-173b0ead8045",
   "metadata": {},
   "source": [
    "* 슬프게도 모든 문제에서 항상 뛰어난 기법은 (아직까지) 없다"
   ]
  },
  {
   "cell_type": "markdown",
   "id": "3dd8ff9e-198d-4cda-bbb3-3d392f39767f",
   "metadata": {},
   "source": [
    "### 6.1.8 MNIST 데이터셋으로 본 갱신 방법 비교"
   ]
  },
  {
   "cell_type": "markdown",
   "id": "9aae75d6-ab38-4728-9f51-c0d8a2509430",
   "metadata": {},
   "source": [
    "<img src=\"./images/6-9.png\" width=\"450\" height=\"450\"/>\n",
    "[6-9] 흑백이라 뭐가 뭔지 모를거같다 ㅋㅋㅋㅋ\n",
    "맨 위에 그래프부터 SGD, 모멘텀, Adam, AdaGrad이다"
   ]
  },
  {
   "cell_type": "code",
   "execution_count": null,
   "id": "4c3bc54b-7f95-4b4f-a59c-51c8541fab2b",
   "metadata": {},
   "outputs": [],
   "source": []
  },
  {
   "cell_type": "markdown",
   "id": "32a5379a-5645-4183-bf54-e90c3633a515",
   "metadata": {},
   "source": [
    "## 6.2 가중치의 초깃값"
   ]
  },
  {
   "cell_type": "markdown",
   "id": "b7f98fc9-653b-449d-9e63-7e927c7f89fe",
   "metadata": {},
   "source": [
    "* 이제 드디어 4.5.1에서 의문으로 두었던 가중치의 초깃값에 대해 다룬다\n",
    "* 당시에는 정규분포를 따르는 난수로, 편향은 0을로 초기화했다."
   ]
  },
  {
   "cell_type": "markdown",
   "id": "8bb59b77-7eaf-4717-9327-7b0e7215887b",
   "metadata": {},
   "source": [
    "### 6.2.1 초깃값을 0으로 하면?"
   ]
  },
  {
   "cell_type": "markdown",
   "id": "4b205b52-fcb4-401c-b5d6-4744618e6fd7",
   "metadata": {},
   "source": [
    "* 가중치 감소 : 가중치 매개변수의 값이 작아지도록 학습하는 방법. \n",
    "    * 가중치 값을 작게 하여 오버피팅이 일어나지 않게 함"
   ]
  },
  {
   "cell_type": "markdown",
   "id": "d3026f60-d0a0-4609-ab26-d640e4b3b32b",
   "metadata": {},
   "source": [
    "#### (가중치의 초깃값을 0으로(혹은 균일한 값) 한다면?)"
   ]
  },
  {
   "cell_type": "markdown",
   "id": "d6f17326-efb7-4c76-bfac-a9e2c6cb9662",
   "metadata": {},
   "source": [
    "* 오차역전파법에서 모든 가중치의 값이 똑같이 갱신되기 때문에 사용하면 안 된다.\n",
    "* 가중치가 고르게 되는 상황을 막으려면(가중치의 대칭적인 구조를 무너뜨리려면) 초깃값을 무작위로 설정해야 한다"
   ]
  },
  {
   "cell_type": "markdown",
   "id": "a88bff94-383f-4870-b309-2a657060642c",
   "metadata": {},
   "source": [
    "### 6.2.2 은닉층의 활성화값 분포"
   ]
  },
  {
   "cell_type": "code",
   "execution_count": 39,
   "id": "2b83ac0e-3ab4-489e-aeac-48b50215aeda",
   "metadata": {},
   "outputs": [],
   "source": [
    "import numpy as np\n",
    "import matplotlib.pyplot as plt"
   ]
  },
  {
   "cell_type": "code",
   "execution_count": 40,
   "id": "f72080ce-3499-415d-8bab-7e331543f399",
   "metadata": {
    "tags": []
   },
   "outputs": [],
   "source": [
    "def sigmoid(x):\n",
    "    return 1 / (1 +np.exp(-x))"
   ]
  },
  {
   "cell_type": "code",
   "execution_count": 41,
   "id": "a648ff73-9743-449a-84aa-fb0e82d896b9",
   "metadata": {
    "tags": []
   },
   "outputs": [],
   "source": [
    "x = np.random.randn(1000, 100) # 1000개의 데이터\n",
    "node_num = 100 # 각 은닉층 노드 수\n",
    "hidden_layer_size = 5 # 5층의 은닉층\n",
    "activations = {} # 활성화 결과값 저장"
   ]
  },
  {
   "cell_type": "code",
   "execution_count": 42,
   "id": "e43ef043-16b0-4d96-aa3c-da900f98fb9a",
   "metadata": {
    "tags": []
   },
   "outputs": [],
   "source": [
    "for i in range(hidden_layer_size):\n",
    "    if i != 0:\n",
    "        x = activations[i-1]\n",
    "    \n",
    "    w = np.random.randn(node_num, node_num) * 1\n",
    "    a = np.dot(x,w)\n",
    "    z = sigmoid(a)\n",
    "    activations[i] = z"
   ]
  },
  {
   "cell_type": "code",
   "execution_count": 43,
   "id": "bb1b4f30-d59f-4f50-ab08-08d61ccac771",
   "metadata": {
    "tags": []
   },
   "outputs": [],
   "source": [
    "#히스토그램 그리기"
   ]
  },
  {
   "cell_type": "code",
   "execution_count": 44,
   "id": "607052fd-278e-496c-a116-d8d0fb150370",
   "metadata": {
    "tags": []
   },
   "outputs": [
    {
     "data": {
      "image/png": "[encoded data removed]",
      "text/plain": [
       "<Figure size 640x480 with 5 Axes>"
      ]
     },
     "metadata": {},
     "output_type": "display_data"
    }
   ],
   "source": [
    "for i, a in activations.items():\n",
    "    plt.subplot(1, len(activations), i+1)\n",
    "    plt.title(str(i+1) + \"-layer\")\n",
    "    plt.hist(a.flatten(), 30, range=(0,1))\n",
    "plt.show()"
   ]
  },
  {
   "cell_type": "markdown",
   "id": "3724adea-673f-41ca-acbe-94d8f73f78d0",
   "metadata": {},
   "source": [
    "* 기울기소실 : 시그모이드 함수는 출력이 0(또는1)에 가까워지면 미분이 0으로 다가가기 때문에 역전파의 기울기 값이 점점 작아지다가 사라진다"
   ]
  },
  {
   "cell_type": "code",
   "execution_count": 45,
   "id": "d4aa29a1-35c9-4a46-987d-3420ecfb76af",
   "metadata": {
    "tags": []
   },
   "outputs": [],
   "source": [
    "# 가중치 초기값 설정 수정"
   ]
  },
  {
   "cell_type": "code",
   "execution_count": 46,
   "id": "f88e40ad-35a8-4067-b49c-6d124be7e116",
   "metadata": {
    "tags": []
   },
   "outputs": [],
   "source": [
    "for i in range(hidden_layer_size):\n",
    "    if i != 0:\n",
    "        x = activations[i-1]\n",
    "    \n",
    "    w = np.random.randn(node_num, node_num) * 0.01\n",
    "    a = np.dot(x,w)\n",
    "    z = sigmoid(a)\n",
    "    activations[i] = z"
   ]
  },
  {
   "cell_type": "code",
   "execution_count": 47,
   "id": "83dfb583-0e13-4fe9-9f4b-7f2d0831de5c",
   "metadata": {
    "tags": []
   },
   "outputs": [
    {
     "data": {
      "image/png": "[encoded data removed]",
      "text/plain": [
       "<Figure size 640x480 with 5 Axes>"
      ]
     },
     "metadata": {},
     "output_type": "display_data"
    }
   ],
   "source": [
    "for i, a in activations.items():\n",
    "    plt.subplot(1, len(activations), i+1)\n",
    "    plt.title(str(i+1) + \"-layer\")\n",
    "    plt.hist(a.flatten(), 30, range=(0,1))\n",
    "plt.show()"
   ]
  },
  {
   "cell_type": "markdown",
   "id": "c5ff4d49-9011-4fa4-aa35-0a0fa22619db",
   "metadata": {},
   "source": [
    "* 위 방법은 기울기 소실 문제는 해결하지만 활성화값들이 치우쳐있다는 문제가 존재\n",
    "* 각 층의 활성화 값은 적당히 고루 분포되어야 하는데 그래야만 신경망 학습이 효율적으로 이뤄질 수 있다(왜?)"
   ]
  },
  {
   "cell_type": "markdown",
   "id": "db3f93c6-79ad-45c5-90cd-66833a20f032",
   "metadata": {},
   "source": [
    "#### (사비에르 글로로트, 요수아 벤지오 논문 권장 가중치) Xavier 초깃값"
   ]
  },
  {
   "cell_type": "markdown",
   "id": "d92f3c40-6a74-42a3-a9ff-46a614f3932f",
   "metadata": {},
   "source": [
    "* 일반적인 딥러닝 프레임워크들에서 표준적으로 이용 중\n",
    "* 각 층의 활성화값들을 광범위하게 분포시킬 목적으로 가중치의 적절한 분포로 앞 계층의 노드가 $n$개라면 표준편차가 $\\frac{1}{\\sqrt n}$인 분포를 사용하면 된다는 결론을 내림"
   ]
  },
  {
   "cell_type": "markdown",
   "id": "52ba918b-fd19-4c13-9a89-1ec98bef4bee",
   "metadata": {},
   "source": [
    "<img src=\"./images/6-12.png\" width=\"400\" height=\"400\"/>\n",
    "[6-12]"
   ]
  },
  {
   "cell_type": "code",
   "execution_count": null,
   "id": "faa11161-f9f2-425a-8ca9-9ec3e734660b",
   "metadata": {},
   "outputs": [],
   "source": []
  }
 ],
 "metadata": {
  "kernelspec": {
   "display_name": "Python 3 (ipykernel)",
   "language": "python",
   "name": "python3"
  },
  "language_info": {
   "codemirror_mode": {
    "name": "ipython",
    "version": 3
   },
   "file_extension": ".py",
   "mimetype": "text/x-python",
   "name": "python",
   "nbconvert_exporter": "python",
   "pygments_lexer": "ipython3",
   "version": "3.11.3"
  }
 },
 "nbformat": 4,
 "nbformat_minor": 5
}
