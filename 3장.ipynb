{
 "cells": [
  {
   "cell_type": "markdown",
   "id": "93fd118a-e654-4c47-acb6-2a46b92a79b2",
   "metadata": {},
   "source": [
    "# Chapter3. 신경망"
   ]
  },
  {
   "cell_type": "markdown",
   "id": "d9ad7c8e-7d8b-4f18-9ba9-73ca0d6562c8",
   "metadata": {
    "tags": []
   },
   "source": [
    "* 현재의 상황 정리\n",
    "    * 컴퓨터가 수행하는 복잡한 처리도 퍼셉트론으로 (이론상) 구현 가능\n",
    "    * 가중치를 설정하는 작업은 사람이 수동으로 해야함\n",
    "        => 이것부터 해결하자"
   ]
  },
  {
   "cell_type": "markdown",
   "id": "8531df36-a396-434e-9fad-0e9d8408c445",
   "metadata": {},
   "source": [
    "## 3.1 퍼셉트론에서 신경망으로"
   ]
  },
  {
   "cell_type": "markdown",
   "id": "93964a21-75cd-4932-b287-e0d1a27c95fc",
   "metadata": {},
   "source": [
    "### 3.1.1 신경망의 예"
   ]
  },
  {
   "cell_type": "markdown",
   "id": "0e4ba03d-cc2b-4212-bbfe-826f57e30743",
   "metadata": {},
   "source": [
    "* 입력층, 은닉층, 출력층\n",
    "\n",
    "<img src=\"./images/3-1.png\" width=\"200\" height=\"200\"/>\n",
    "[3-1]"
   ]
  },
  {
   "cell_type": "markdown",
   "id": "a4c4c9d9-4dd6-453c-a47e-abe0674fc6b9",
   "metadata": {},
   "source": [
    "### 3.1.2 퍼셉트론 복습"
   ]
  },
  {
   "cell_type": "markdown",
   "id": "9293e531-5b49-4118-a55e-cae3d4c505eb",
   "metadata": {
    "tags": []
   },
   "source": [
    "<img src=\"./images/3-3.png\" width=\"200\" height=\"200\"/>\n",
    "[3-3]"
   ]
  },
  {
   "cell_type": "markdown",
   "id": "c89c9e1a-ded3-4195-a45d-f5ddfb537e2d",
   "metadata": {
    "tags": []
   },
   "source": [
    "<img src=\"./images/3.1.png\" width=\"200\" height=\"200\"/>\n",
    "(3.1)"
   ]
  },
  {
   "cell_type": "markdown",
   "id": "a21c1ca4-6201-4c7c-b7f6-0a326b955496",
   "metadata": {},
   "source": [
    "* 편향(b) : 뉴런이 얼마나 쉽게 활성화되느냐\n",
    "* 가중치(w1, w2) : 각 신호의 영향력 제어"
   ]
  },
  {
   "cell_type": "code",
   "execution_count": null,
   "id": "e7bdd3c1-c586-4490-bceb-70cbbb928f7e",
   "metadata": {},
   "outputs": [],
   "source": []
  },
  {
   "cell_type": "markdown",
   "id": "dbbcace7-76bf-4ef6-ada4-6206b23fcf93",
   "metadata": {},
   "source": [
    "#### (3.1) 식변형하여 나타내기"
   ]
  },
  {
   "cell_type": "markdown",
   "id": "7cc4924f-052d-4a42-9f5b-8325098e9544",
   "metadata": {
    "tags": []
   },
   "source": [
    "<img src=\"./images/3.2.png\" width=\"200\" height=\"200\"/>\n",
    "(3.2)"
   ]
  },
  {
   "cell_type": "markdown",
   "id": "c50637a6-e063-461d-9df2-16869492dac1",
   "metadata": {},
   "source": [
    "<img src=\"./images/3.3.png\" width=\"150\" height=\"150\"/>\n",
    "(3.3)"
   ]
  },
  {
   "cell_type": "markdown",
   "id": "d9c59c10-d91c-40d4-a29c-3fde64f08dd5",
   "metadata": {},
   "source": [
    "### 3.1.3 활성화 함수의 등장"
   ]
  },
  {
   "cell_type": "markdown",
   "id": "40ba07d6-7f79-443f-93ea-92af4f2a7e1d",
   "metadata": {},
   "source": [
    "* 활성화 홤수 : 입력 신호의 총합을 출력 신호로 변환하는 함수"
   ]
  },
  {
   "cell_type": "markdown",
   "id": "6a73429f-3299-4962-bec4-92c863cb69cb",
   "metadata": {
    "tags": []
   },
   "source": [
    "#### (3.2) 식변형하여 나타내기"
   ]
  },
  {
   "cell_type": "markdown",
   "id": "93a01480-db9f-4168-b1e8-8f0f989bbc2e",
   "metadata": {
    "tags": []
   },
   "source": [
    "<img src=\"./images/3.4.png\" width=\"200\" height=\"200\"/>\n",
    "(3.4)"
   ]
  },
  {
   "cell_type": "markdown",
   "id": "8ae2c7d4-fdb3-4e8e-8c7c-6b05b51e9e2d",
   "metadata": {},
   "source": [
    "<img src=\"./images/3.5.png\" width=\"100\" height=\"100\"/>\n",
    "(3.5)"
   ]
  },
  {
   "cell_type": "markdown",
   "id": "b7672c35-2735-4df1-a9bb-918e307a22b8",
   "metadata": {},
   "source": [
    "위 식의 구조를 그림으로 나타내면 아래와 같다\n",
    "\n",
    "<img src=\"./images/3-4.png\" width=\"200\" height=\"200\"/>\n",
    "[3-4]"
   ]
  },
  {
   "cell_type": "markdown",
   "id": "f01dc9f3-c431-4306-a443-a6f33b9da43a",
   "metadata": {},
   "source": [
    "### (참고)\n",
    "* 단순 퍼셉트론 : 단층 네트워크에서 계단 함수(임계값을 경계로 출력이 바뀌는 함수)를 활성화 함수로 사용한 모델\n",
    "* 다층 퍼센트론 : 신경망(여러 층으로 구성되고 시그모이드 함수 등의 매끈한 활성화 함수를 사용하는 네트워크)"
   ]
  },
  {
   "cell_type": "markdown",
   "id": "75dab171-5c0a-4c27-afc7-a4ec19336b36",
   "metadata": {},
   "source": [
    "## 3.2 활성화 함수"
   ]
  },
  {
   "cell_type": "markdown",
   "id": "c6ff3af0-0c07-41fa-a7d4-1b86f8b32d93",
   "metadata": {},
   "source": [
    "### 3.2.1 시그모이드 함수"
   ]
  },
  {
   "cell_type": "markdown",
   "id": "38f50355-680d-4342-ba30-9725b4f1e054",
   "metadata": {
    "tags": []
   },
   "source": [
    "<img src=\"./images/3.6.png\" width=\"200\" height=\"200\"/>\n",
    "(3.6)"
   ]
  },
  {
   "cell_type": "markdown",
   "id": "d06cad12-017a-48ee-89f9-7a8c482e677c",
   "metadata": {},
   "source": [
    "##### (정리)\n",
    "* 퍼셉트론에서는 활성화 함수로 계단 함수를 이용\n",
    "* 신경망에서는 활성화 함수로 시그모이드 함수를 이용(앞으로 다룰 예정)"
   ]
  },
  {
   "cell_type": "markdown",
   "id": "957d57a6-b22d-4362-84ea-32e21fd3c3b4",
   "metadata": {},
   "source": [
    "### 3.2.2 계단 함수 구현하기"
   ]
  },
  {
   "cell_type": "code",
   "execution_count": 1,
   "id": "d7441734-1200-48eb-b902-cd6e88130a9c",
   "metadata": {
    "tags": []
   },
   "outputs": [],
   "source": [
    "def step_function(x):\n",
    "    if x>0:\n",
    "        return 1\n",
    "    else:\n",
    "        return 0"
   ]
  },
  {
   "cell_type": "code",
   "execution_count": 2,
   "id": "6e2334b9-179d-4283-9f69-e081298ce63b",
   "metadata": {
    "tags": []
   },
   "outputs": [
    {
     "data": {
      "text/plain": [
       "1"
      ]
     },
     "execution_count": 2,
     "metadata": {},
     "output_type": "execute_result"
    }
   ],
   "source": [
    "step_function(3.0)"
   ]
  },
  {
   "cell_type": "code",
   "execution_count": 3,
   "id": "874dd51f-6ed2-47ca-bf07-6ad1b9d191c4",
   "metadata": {
    "tags": []
   },
   "outputs": [],
   "source": [
    "import numpy as np"
   ]
  },
  {
   "cell_type": "code",
   "execution_count": 4,
   "id": "711fbd9a-db56-45e8-a5a4-8057a4f2f859",
   "metadata": {
    "tags": []
   },
   "outputs": [
    {
     "ename": "ValueError",
     "evalue": "The truth value of an array with more than one element is ambiguous. Use a.any() or a.all()",
     "output_type": "error",
     "traceback": [
      "\u001b[1;31m---------------------------------------------------------------------------\u001b[0m",
      "\u001b[1;31mValueError\u001b[0m                                Traceback (most recent call last)",
      "Cell \u001b[1;32mIn[4], line 1\u001b[0m\n\u001b[1;32m----> 1\u001b[0m step_function(np\u001b[38;5;241m.\u001b[39marray([\u001b[38;5;241m1.0\u001b[39m, \u001b[38;5;241m2.0\u001b[39m]))\n",
      "Cell \u001b[1;32mIn[1], line 2\u001b[0m, in \u001b[0;36mstep_function\u001b[1;34m(x)\u001b[0m\n\u001b[0;32m      1\u001b[0m \u001b[38;5;28;01mdef\u001b[39;00m \u001b[38;5;21mstep_function\u001b[39m(x):\n\u001b[1;32m----> 2\u001b[0m     \u001b[38;5;28;01mif\u001b[39;00m x\u001b[38;5;241m>\u001b[39m\u001b[38;5;241m0\u001b[39m:\n\u001b[0;32m      3\u001b[0m         \u001b[38;5;28;01mreturn\u001b[39;00m \u001b[38;5;241m1\u001b[39m\n\u001b[0;32m      4\u001b[0m     \u001b[38;5;28;01melse\u001b[39;00m:\n",
      "\u001b[1;31mValueError\u001b[0m: The truth value of an array with more than one element is ambiguous. Use a.any() or a.all()"
     ]
    }
   ],
   "source": [
    "step_function(np.array([1.0, 2.0])) ### 넘파이 배열 미지원"
   ]
  },
  {
   "cell_type": "code",
   "execution_count": 5,
   "id": "d84537f7-294d-4e71-84bc-a89188e9bae6",
   "metadata": {
    "tags": []
   },
   "outputs": [],
   "source": [
    "def step_function(x): ## 넘파이 배열 지원하도록 수정\n",
    "    y = x > 0\n",
    "    return y.astype(np.int64) ## 교재는 np.int이지만 현재 버전과의 차이 - 아래 설명 참고"
   ]
  },
  {
   "cell_type": "code",
   "execution_count": 6,
   "id": "1d74d4fd-ecd3-4107-898e-d4c4c866f773",
   "metadata": {
    "tags": []
   },
   "outputs": [],
   "source": [
    "### 인터프리터로 확인"
   ]
  },
  {
   "cell_type": "code",
   "execution_count": 7,
   "id": "501b8634-30bc-4da0-bf6c-fbecf6a9ee56",
   "metadata": {
    "tags": []
   },
   "outputs": [],
   "source": [
    "import numpy as np"
   ]
  },
  {
   "cell_type": "code",
   "execution_count": 8,
   "id": "4dfdc8d2-2279-431f-9a00-d844e53fbfbd",
   "metadata": {
    "tags": []
   },
   "outputs": [],
   "source": [
    "x = np.array([-1.0, 1.0, 2.0])"
   ]
  },
  {
   "cell_type": "code",
   "execution_count": 9,
   "id": "24c911f2-f451-499a-87fc-9149bc3a205e",
   "metadata": {
    "tags": []
   },
   "outputs": [
    {
     "data": {
      "text/plain": [
       "array([-1.,  1.,  2.])"
      ]
     },
     "execution_count": 9,
     "metadata": {},
     "output_type": "execute_result"
    }
   ],
   "source": [
    "x"
   ]
  },
  {
   "cell_type": "code",
   "execution_count": 10,
   "id": "77f05766-00dd-4faa-b0a4-43a4fee7f701",
   "metadata": {
    "tags": []
   },
   "outputs": [],
   "source": [
    "y = x > 0"
   ]
  },
  {
   "cell_type": "code",
   "execution_count": 11,
   "id": "fb9e78c5-40d3-4b3c-aaf1-f5121d997813",
   "metadata": {
    "tags": []
   },
   "outputs": [
    {
     "data": {
      "text/plain": [
       "array([False,  True,  True])"
      ]
     },
     "execution_count": 11,
     "metadata": {},
     "output_type": "execute_result"
    }
   ],
   "source": [
    "y "
   ]
  },
  {
   "cell_type": "code",
   "execution_count": 12,
   "id": "1aab8db8-8988-4327-8b22-78f5f3cb9ffe",
   "metadata": {
    "tags": []
   },
   "outputs": [],
   "source": [
    "y = y.astype(np.int64) ## 교재에는 np.int이지만 현재 numpy버전(1.24.3)에서는 지원 안 하는 것 같음"
   ]
  },
  {
   "cell_type": "code",
   "execution_count": 13,
   "id": "9f2d0df5-994b-4b97-852a-288bd596a57a",
   "metadata": {
    "tags": []
   },
   "outputs": [
    {
     "data": {
      "text/plain": [
       "array([0, 1, 1], dtype=int64)"
      ]
     },
     "execution_count": 13,
     "metadata": {},
     "output_type": "execute_result"
    }
   ],
   "source": [
    "y"
   ]
  },
  {
   "cell_type": "markdown",
   "id": "96c1dd27-5a5d-4433-9df3-fe3a4bc24baf",
   "metadata": {
    "tags": []
   },
   "source": [
    "### 3.2.3 계단 함수의 그래프"
   ]
  },
  {
   "cell_type": "code",
   "execution_count": 14,
   "id": "3ee9a426-181a-4a29-ad53-efa9e4fa77ae",
   "metadata": {
    "tags": []
   },
   "outputs": [],
   "source": [
    "import numpy as np\n",
    "# import matplotlib.pylab as plt # 교재에서는 pylab을 사용했다 2017년채이다보니... 현재는 pyplot을 권장하는 것 같다\n",
    "import matplotlib.pyplot as plt"
   ]
  },
  {
   "cell_type": "code",
   "execution_count": 15,
   "id": "9e88d29b-0944-47fe-ad6e-6e686675b353",
   "metadata": {
    "tags": []
   },
   "outputs": [],
   "source": [
    "def step_function(x):\n",
    "    return np.array(x > 0 ,dtype=np.int64) # int => int64"
   ]
  },
  {
   "cell_type": "code",
   "execution_count": 16,
   "id": "9843e54d-dcbd-43bc-b49d-d637a2686550",
   "metadata": {
    "tags": []
   },
   "outputs": [
    {
     "data": {
      "image/png": "[encoded data removed]",
      "text/plain": [
       "<Figure size 640x480 with 1 Axes>"
      ]
     },
     "metadata": {},
     "output_type": "display_data"
    }
   ],
   "source": [
    "x = np.arange(-5.0, 5.0, 0.1)\n",
    "y = step_function(x)\n",
    "plt.plot(x, y)\n",
    "plt.ylim(-0.1, 1.1) # y축의 범위 지정\n",
    "plt.show()"
   ]
  },
  {
   "cell_type": "markdown",
   "id": "2c24ccf1-c062-4625-a649-db304155eab9",
   "metadata": {},
   "source": [
    "### 3.2.4 시그모이드 함수 구현하기"
   ]
  },
  {
   "cell_type": "code",
   "execution_count": 17,
   "id": "873a96c7-64e5-4832-b051-e081bb4f98cb",
   "metadata": {
    "tags": []
   },
   "outputs": [],
   "source": [
    "def sigmoid(x):\n",
    "    return 1 / (1 + np.exp(-x))"
   ]
  },
  {
   "cell_type": "code",
   "execution_count": 18,
   "id": "fe52528f-0b1c-45ed-a6ba-17951a5dbad0",
   "metadata": {
    "tags": []
   },
   "outputs": [],
   "source": [
    "#### 인터프리터로 확인하기"
   ]
  },
  {
   "cell_type": "code",
   "execution_count": 19,
   "id": "257765d1-aa5e-4efb-8f68-3923afbf8d82",
   "metadata": {
    "tags": []
   },
   "outputs": [],
   "source": [
    "x = np.array([-1.0, 1.0, 2.0])"
   ]
  },
  {
   "cell_type": "code",
   "execution_count": 20,
   "id": "7b9e57e9-9ab3-48ae-b359-df148cff0be9",
   "metadata": {
    "tags": []
   },
   "outputs": [
    {
     "data": {
      "text/plain": [
       "array([0.26894142, 0.73105858, 0.88079708])"
      ]
     },
     "execution_count": 20,
     "metadata": {},
     "output_type": "execute_result"
    }
   ],
   "source": [
    "sigmoid(x)"
   ]
  },
  {
   "cell_type": "code",
   "execution_count": null,
   "id": "d72c6601-997a-425a-b47c-dc0d7a15ed69",
   "metadata": {},
   "outputs": [],
   "source": []
  },
  {
   "cell_type": "code",
   "execution_count": 21,
   "id": "3a3cdc34-6279-476e-8c91-e0188a29c2e1",
   "metadata": {
    "tags": []
   },
   "outputs": [],
   "source": [
    "### 시각화"
   ]
  },
  {
   "cell_type": "code",
   "execution_count": 22,
   "id": "3b17c068-1c14-4f8b-9c44-ebad25e94f9e",
   "metadata": {
    "tags": []
   },
   "outputs": [
    {
     "data": {
      "image/png": "[encoded data removed]",
      "text/plain": [
       "<Figure size 640x480 with 1 Axes>"
      ]
     },
     "metadata": {},
     "output_type": "display_data"
    }
   ],
   "source": [
    "x = np.arange(-5.0, 5.0, 0.1)\n",
    "y = sigmoid(x)\n",
    "plt.plot(x, y)\n",
    "plt.ylim(-0.1, 1.1)\n",
    "plt.show()"
   ]
  },
  {
   "cell_type": "markdown",
   "id": "958dd1e6-da8b-4263-8095-1a3a823eff27",
   "metadata": {},
   "source": [
    "### 3.2.5 시그모이드 함수와 계단 함수 비교"
   ]
  },
  {
   "cell_type": "code",
   "execution_count": 23,
   "id": "c0ede84e-0675-4333-a4c5-e88d28d909ba",
   "metadata": {
    "tags": []
   },
   "outputs": [
    {
     "data": {
      "image/png": "[encoded data removed]",
      "text/plain": [
       "<Figure size 640x480 with 1 Axes>"
      ]
     },
     "metadata": {},
     "output_type": "display_data"
    }
   ],
   "source": [
    "x = np.arange(-5.0, 5.0, 0.1)\n",
    "y1 = step_function(x)\n",
    "y2 = sigmoid(x)\n",
    "plt.plot(x, y1)\n",
    "plt.plot(x, y2)\n",
    "plt.ylim(-0.1, 1.1)\n",
    "plt.show()"
   ]
  },
  {
   "cell_type": "markdown",
   "id": "7e6e39d1-dad7-4261-be1e-1c0928799d88",
   "metadata": {},
   "source": [
    "## 3.2.6 비선형 함수"
   ]
  },
  {
   "cell_type": "markdown",
   "id": "9990d728-b47f-406f-9628-6a3c1f5d30e1",
   "metadata": {
    "tags": []
   },
   "source": [
    "* 신경망에서 활성화 함수를 비선형 함수로 사용해야 하는 이유\n",
    "(선형함수의 문제점)\n",
    "    - 선형 함수는 층을 아무리 깊게 해도 은닉층이 없는 네트워크로도 똑같은 기능을 수행할 수 있음"
   ]
  },
  {
   "cell_type": "markdown",
   "id": "e8db2c3a-517d-47b7-a11e-49a596ba111a",
   "metadata": {},
   "source": [
    "### 3.2.7 ReLU 함수"
   ]
  },
  {
   "cell_type": "markdown",
   "id": "68cc55f0-c17f-4e6a-b32b-c841e46d6319",
   "metadata": {},
   "source": [
    "Rectified(정류된) Linear Unit"
   ]
  },
  {
   "cell_type": "code",
   "execution_count": 24,
   "id": "a2d1bfe3-35c2-4272-996b-5f90aa48c222",
   "metadata": {
    "tags": []
   },
   "outputs": [],
   "source": [
    "def relu(x):\n",
    "    return np.maximum(0, x)"
   ]
  },
  {
   "cell_type": "code",
   "execution_count": 25,
   "id": "6eb4f3f3-6cfe-4cfc-986f-1f919607ece6",
   "metadata": {
    "tags": []
   },
   "outputs": [
    {
     "data": {
      "image/png": "[encoded data removed]",
      "text/plain": [
       "<Figure size 640x480 with 1 Axes>"
      ]
     },
     "metadata": {},
     "output_type": "display_data"
    }
   ],
   "source": [
    "x = np.arange(-5.0, 5.0, 0.1)\n",
    "y = relu(x)\n",
    "plt.plot(x, y)\n",
    "plt.ylim(-0.1, 1.1)\n",
    "plt.show()"
   ]
  },
  {
   "cell_type": "markdown",
   "id": "6955a684-65cc-4317-bb67-e09206fbcca9",
   "metadata": {},
   "source": [
    "## 3.3 다차원 배열의 계산"
   ]
  },
  {
   "cell_type": "markdown",
   "id": "306364a6-c6a7-4793-8d91-09be5cf42033",
   "metadata": {
    "tags": []
   },
   "source": [
    "### 3.3.1 다차원 배열"
   ]
  },
  {
   "cell_type": "code",
   "execution_count": 26,
   "id": "611097c6-fcee-4c55-9e53-e04d481a6f09",
   "metadata": {
    "tags": []
   },
   "outputs": [],
   "source": [
    "#### 인터프리터로 확인하기"
   ]
  },
  {
   "cell_type": "code",
   "execution_count": 27,
   "id": "392229d5-885c-4c42-aec1-4c12fccfc401",
   "metadata": {
    "tags": []
   },
   "outputs": [],
   "source": [
    "import numpy as np"
   ]
  },
  {
   "cell_type": "code",
   "execution_count": 28,
   "id": "8455d0ae-0609-44aa-9864-c7e8225f264f",
   "metadata": {
    "tags": []
   },
   "outputs": [],
   "source": [
    "A = np.array([1,2,3,4])"
   ]
  },
  {
   "cell_type": "code",
   "execution_count": 29,
   "id": "5be49986-6e08-4a83-8468-d4b2cf9086fa",
   "metadata": {
    "tags": []
   },
   "outputs": [
    {
     "name": "stdout",
     "output_type": "stream",
     "text": [
      "[1 2 3 4]\n"
     ]
    }
   ],
   "source": [
    "print(A)"
   ]
  },
  {
   "cell_type": "code",
   "execution_count": 30,
   "id": "c86f7ade-5ed1-4772-96bf-d9ed33f7d81c",
   "metadata": {
    "tags": []
   },
   "outputs": [
    {
     "data": {
      "text/plain": [
       "1"
      ]
     },
     "execution_count": 30,
     "metadata": {},
     "output_type": "execute_result"
    }
   ],
   "source": [
    "np.ndim(A)"
   ]
  },
  {
   "cell_type": "code",
   "execution_count": 31,
   "id": "d29e6444-0730-46c1-893c-5e98316c27d0",
   "metadata": {
    "tags": []
   },
   "outputs": [
    {
     "data": {
      "text/plain": [
       "(4,)"
      ]
     },
     "execution_count": 31,
     "metadata": {},
     "output_type": "execute_result"
    }
   ],
   "source": [
    "A.shape"
   ]
  },
  {
   "cell_type": "code",
   "execution_count": 32,
   "id": "4b5419d3-4d14-4f00-95fe-d3d61b61db2b",
   "metadata": {
    "tags": []
   },
   "outputs": [
    {
     "data": {
      "text/plain": [
       "4"
      ]
     },
     "execution_count": 32,
     "metadata": {},
     "output_type": "execute_result"
    }
   ],
   "source": [
    "A.shape[0]"
   ]
  },
  {
   "cell_type": "code",
   "execution_count": 33,
   "id": "9ef820fd-3351-40a3-91cf-7dee2c8603b2",
   "metadata": {
    "tags": []
   },
   "outputs": [],
   "source": [
    "B = np.array([[1,2],[3,4],[5,6]])"
   ]
  },
  {
   "cell_type": "code",
   "execution_count": 34,
   "id": "9b7f6cb0-f331-49b1-ab9a-538eafe50fc7",
   "metadata": {
    "tags": []
   },
   "outputs": [
    {
     "name": "stdout",
     "output_type": "stream",
     "text": [
      "[[1 2]\n",
      " [3 4]\n",
      " [5 6]]\n"
     ]
    }
   ],
   "source": [
    "print(B)"
   ]
  },
  {
   "cell_type": "code",
   "execution_count": 35,
   "id": "ba1ef98b-7c2f-4a8e-a0e8-e9e63df0fd07",
   "metadata": {
    "tags": []
   },
   "outputs": [
    {
     "data": {
      "text/plain": [
       "2"
      ]
     },
     "execution_count": 35,
     "metadata": {},
     "output_type": "execute_result"
    }
   ],
   "source": [
    "np.ndim(B)"
   ]
  },
  {
   "cell_type": "code",
   "execution_count": 36,
   "id": "9a847098-a760-4709-bd93-34d483d17996",
   "metadata": {
    "tags": []
   },
   "outputs": [
    {
     "data": {
      "text/plain": [
       "(3, 2)"
      ]
     },
     "execution_count": 36,
     "metadata": {},
     "output_type": "execute_result"
    }
   ],
   "source": [
    "B.shape"
   ]
  },
  {
   "cell_type": "markdown",
   "id": "88c6496b-40e3-443d-b191-a0c91a0d248e",
   "metadata": {},
   "source": [
    "### 3.3.2 행렬의 내적(행렬 곱)"
   ]
  },
  {
   "cell_type": "markdown",
   "id": "4a7a2b37-15a5-467d-b159-f3cd281e40bf",
   "metadata": {
    "tags": []
   },
   "source": [
    "<img src=\"./images/3-11.png\" width=\"200\" height=\"200\"/>\n",
    "[3-11]"
   ]
  },
  {
   "cell_type": "code",
   "execution_count": 37,
   "id": "5ea62686-179c-4855-8912-3bef3da6f62e",
   "metadata": {
    "tags": []
   },
   "outputs": [],
   "source": [
    "A = np.array([[1,2],[3,4]])"
   ]
  },
  {
   "cell_type": "code",
   "execution_count": 38,
   "id": "8ed2fc66-5096-433d-8d48-1adeab9a5c07",
   "metadata": {
    "tags": []
   },
   "outputs": [
    {
     "data": {
      "text/plain": [
       "(2, 2)"
      ]
     },
     "execution_count": 38,
     "metadata": {},
     "output_type": "execute_result"
    }
   ],
   "source": [
    "A.shape"
   ]
  },
  {
   "cell_type": "code",
   "execution_count": 39,
   "id": "4ae7b740-d6b3-4b85-a786-eb4a3b0d228b",
   "metadata": {
    "tags": []
   },
   "outputs": [],
   "source": [
    "B = np.array([[5,6],[7,8]])"
   ]
  },
  {
   "cell_type": "code",
   "execution_count": 40,
   "id": "70863932-ad51-4018-a56f-2a211f090241",
   "metadata": {
    "tags": []
   },
   "outputs": [
    {
     "data": {
      "text/plain": [
       "(2, 2)"
      ]
     },
     "execution_count": 40,
     "metadata": {},
     "output_type": "execute_result"
    }
   ],
   "source": [
    "B.shape"
   ]
  },
  {
   "cell_type": "code",
   "execution_count": 41,
   "id": "43706cb1-2697-4339-8927-e8a94f40181a",
   "metadata": {
    "tags": []
   },
   "outputs": [
    {
     "data": {
      "text/plain": [
       "array([[19, 22],\n",
       "       [43, 50]])"
      ]
     },
     "execution_count": 41,
     "metadata": {},
     "output_type": "execute_result"
    }
   ],
   "source": [
    "np.dot(A,B)"
   ]
  },
  {
   "cell_type": "markdown",
   "id": "875cb9c0-1d2c-4755-bcf8-8cf42aa523f0",
   "metadata": {},
   "source": [
    "#### (주의)\n",
    "일반적으로 교환법칙은 성립하지 않는다"
   ]
  },
  {
   "cell_type": "code",
   "execution_count": null,
   "id": "871f4e31-1bd7-4a33-87cf-9776106b98f4",
   "metadata": {},
   "outputs": [],
   "source": []
  },
  {
   "cell_type": "code",
   "execution_count": 42,
   "id": "f634c6fa-2906-459f-bf0a-5b00587f2eec",
   "metadata": {
    "tags": []
   },
   "outputs": [],
   "source": [
    "#### 크기가 다른 행렬 곱"
   ]
  },
  {
   "cell_type": "code",
   "execution_count": 43,
   "id": "810b008a-b6a2-462b-a90a-b88ebab8e53d",
   "metadata": {
    "tags": []
   },
   "outputs": [],
   "source": [
    "A = np.array([[1,2,3],[4,5,6]])"
   ]
  },
  {
   "cell_type": "code",
   "execution_count": 44,
   "id": "5343aa92-a2f0-42bd-bd69-69f74ca50c82",
   "metadata": {
    "tags": []
   },
   "outputs": [
    {
     "data": {
      "text/plain": [
       "(2, 3)"
      ]
     },
     "execution_count": 44,
     "metadata": {},
     "output_type": "execute_result"
    }
   ],
   "source": [
    "A.shape"
   ]
  },
  {
   "cell_type": "code",
   "execution_count": 45,
   "id": "b773467c-12a9-4852-b3e2-526c18e65219",
   "metadata": {
    "tags": []
   },
   "outputs": [],
   "source": [
    "B = np.array([[1,2], [3,4], [5,6]])"
   ]
  },
  {
   "cell_type": "code",
   "execution_count": 46,
   "id": "bd8503af-54b3-492e-9a1b-795cffee87b1",
   "metadata": {
    "tags": []
   },
   "outputs": [
    {
     "data": {
      "text/plain": [
       "(3, 2)"
      ]
     },
     "execution_count": 46,
     "metadata": {},
     "output_type": "execute_result"
    }
   ],
   "source": [
    "B.shape"
   ]
  },
  {
   "cell_type": "code",
   "execution_count": 47,
   "id": "7a211779-2661-4244-b08b-99110a2e7eb3",
   "metadata": {
    "tags": []
   },
   "outputs": [
    {
     "data": {
      "text/plain": [
       "array([[22, 28],\n",
       "       [49, 64]])"
      ]
     },
     "execution_count": 47,
     "metadata": {},
     "output_type": "execute_result"
    }
   ],
   "source": [
    "np.dot(A, B)"
   ]
  },
  {
   "cell_type": "code",
   "execution_count": null,
   "id": "ae4f7e00-1160-4311-9edf-6f304a2c5c58",
   "metadata": {},
   "outputs": [],
   "source": []
  },
  {
   "cell_type": "code",
   "execution_count": 48,
   "id": "848ced48-75a1-4135-8aca-a649b96f3a9f",
   "metadata": {
    "tags": []
   },
   "outputs": [],
   "source": [
    "#### 계산이 안 되는 경우"
   ]
  },
  {
   "cell_type": "code",
   "execution_count": 49,
   "id": "2140c951-a43b-407a-95fc-bf9dd3ef79b1",
   "metadata": {
    "tags": []
   },
   "outputs": [],
   "source": [
    "C = np.array([[1,2],[3,4]])"
   ]
  },
  {
   "cell_type": "code",
   "execution_count": 50,
   "id": "e3115d2c-eaf5-4701-aa85-839fdd42b457",
   "metadata": {
    "tags": []
   },
   "outputs": [
    {
     "data": {
      "text/plain": [
       "(2, 2)"
      ]
     },
     "execution_count": 50,
     "metadata": {},
     "output_type": "execute_result"
    }
   ],
   "source": [
    "C.shape"
   ]
  },
  {
   "cell_type": "code",
   "execution_count": 51,
   "id": "44756eba-cf39-4f27-a920-72fbb9c756c0",
   "metadata": {
    "tags": []
   },
   "outputs": [
    {
     "data": {
      "text/plain": [
       "(2, 3)"
      ]
     },
     "execution_count": 51,
     "metadata": {},
     "output_type": "execute_result"
    }
   ],
   "source": [
    "A.shape"
   ]
  },
  {
   "cell_type": "code",
   "execution_count": 52,
   "id": "0aded7d3-5c8e-46e1-b7c0-6c6b759c2697",
   "metadata": {
    "tags": []
   },
   "outputs": [
    {
     "ename": "ValueError",
     "evalue": "shapes (2,3) and (2,2) not aligned: 3 (dim 1) != 2 (dim 0)",
     "output_type": "error",
     "traceback": [
      "\u001b[1;31m---------------------------------------------------------------------------\u001b[0m",
      "\u001b[1;31mValueError\u001b[0m                                Traceback (most recent call last)",
      "Cell \u001b[1;32mIn[52], line 1\u001b[0m\n\u001b[1;32m----> 1\u001b[0m np\u001b[38;5;241m.\u001b[39mdot(A,C)\n",
      "File \u001b[1;32m<__array_function__ internals>:200\u001b[0m, in \u001b[0;36mdot\u001b[1;34m(*args, **kwargs)\u001b[0m\n",
      "\u001b[1;31mValueError\u001b[0m: shapes (2,3) and (2,2) not aligned: 3 (dim 1) != 2 (dim 0)"
     ]
    }
   ],
   "source": [
    "np.dot(A,C)"
   ]
  },
  {
   "cell_type": "code",
   "execution_count": null,
   "id": "9efb39f3-1a4d-4f35-bd7f-35b0dd252ffe",
   "metadata": {},
   "outputs": [],
   "source": []
  },
  {
   "cell_type": "markdown",
   "id": "fe05fd71-0d9d-4414-bdc7-3281637e25ba",
   "metadata": {},
   "source": [
    "### 3.3.3 신경망의 내적"
   ]
  },
  {
   "cell_type": "markdown",
   "id": "a9efd842-1076-4263-8df0-165cf274d9f2",
   "metadata": {
    "tags": []
   },
   "source": [
    "<img src=\"./images/3-14.png\" width=\"400\" height=\"400\"/>\n",
    "[3-14]"
   ]
  },
  {
   "cell_type": "code",
   "execution_count": 53,
   "id": "98222b13-942a-4061-a394-360cbc05c697",
   "metadata": {
    "tags": []
   },
   "outputs": [],
   "source": [
    "#### 인터프리터로 확인하기"
   ]
  },
  {
   "cell_type": "code",
   "execution_count": 54,
   "id": "ff91aece-51bc-4a78-a241-9e660ae1c47b",
   "metadata": {
    "tags": []
   },
   "outputs": [],
   "source": [
    "X = np.array([1,2])"
   ]
  },
  {
   "cell_type": "code",
   "execution_count": 55,
   "id": "6a26b46a-5919-439e-91c3-a7c17d21620d",
   "metadata": {
    "tags": []
   },
   "outputs": [
    {
     "data": {
      "text/plain": [
       "(2,)"
      ]
     },
     "execution_count": 55,
     "metadata": {},
     "output_type": "execute_result"
    }
   ],
   "source": [
    "X.shape"
   ]
  },
  {
   "cell_type": "code",
   "execution_count": 56,
   "id": "b5b790ee-d8b0-4f13-ae7b-fde48e506c29",
   "metadata": {
    "tags": []
   },
   "outputs": [],
   "source": [
    "W = np.array([[1,3,5],[2,4,6]])"
   ]
  },
  {
   "cell_type": "code",
   "execution_count": 57,
   "id": "eb8d58d4-0438-46d6-87a6-64a9f7564ea3",
   "metadata": {
    "tags": []
   },
   "outputs": [
    {
     "name": "stdout",
     "output_type": "stream",
     "text": [
      "[[1 3 5]\n",
      " [2 4 6]]\n"
     ]
    }
   ],
   "source": [
    "print(W)"
   ]
  },
  {
   "cell_type": "code",
   "execution_count": 58,
   "id": "6eba030a-94b6-4da6-ba3e-8a66dae1ec8f",
   "metadata": {
    "tags": []
   },
   "outputs": [
    {
     "data": {
      "text/plain": [
       "(2, 3)"
      ]
     },
     "execution_count": 58,
     "metadata": {},
     "output_type": "execute_result"
    }
   ],
   "source": [
    "W.shape"
   ]
  },
  {
   "cell_type": "code",
   "execution_count": 59,
   "id": "999c79c3-c697-4365-949c-d6462852e77a",
   "metadata": {
    "tags": []
   },
   "outputs": [],
   "source": [
    "Y = np.dot(X, W)"
   ]
  },
  {
   "cell_type": "code",
   "execution_count": 60,
   "id": "f2f9f7ee-d644-4a8b-871e-48f11f8cedf4",
   "metadata": {
    "tags": []
   },
   "outputs": [
    {
     "data": {
      "text/plain": [
       "array([ 5, 11, 17])"
      ]
     },
     "execution_count": 60,
     "metadata": {},
     "output_type": "execute_result"
    }
   ],
   "source": [
    "Y"
   ]
  },
  {
   "cell_type": "code",
   "execution_count": null,
   "id": "bb500022-7fa8-4956-8659-55020f9f8688",
   "metadata": {},
   "outputs": [],
   "source": []
  },
  {
   "cell_type": "markdown",
   "id": "f0abdc6a-feb6-4973-84bb-896849ed9a8f",
   "metadata": {},
   "source": [
    "## 3.4 3층 신경망 구현하기"
   ]
  },
  {
   "cell_type": "markdown",
   "id": "774be333-47c1-4e7b-bae4-c4bab5c11c0b",
   "metadata": {},
   "source": [
    "### 3.4.1 표기법 설명"
   ]
  },
  {
   "cell_type": "markdown",
   "id": "4d7fc2ae-3d00-4590-8054-a1707b19fa59",
   "metadata": {
    "tags": []
   },
   "source": [
    "<img src=\"./images/3-16.png\" width=\"400\" height=\"400\"/>\n",
    "[3-16]"
   ]
  },
  {
   "cell_type": "markdown",
   "id": "90a769f4-0e11-415f-b0e4-8d2529361531",
   "metadata": {},
   "source": [
    "### 3.4.2 각 층의 신호 전달 구현하기"
   ]
  },
  {
   "cell_type": "markdown",
   "id": "7fa82fe3-b091-440d-a0cc-4972246df496",
   "metadata": {
    "tags": []
   },
   "source": [
    "<img src=\"./images/3-17.png\" width=\"400\" height=\"400\"/>\n",
    "[3-17]"
   ]
  },
  {
   "cell_type": "markdown",
   "id": "4ab043f5-bbc8-4786-9aea-89523e68f154",
   "metadata": {
    "tags": []
   },
   "source": [
    "<img src=\"./images/3.8.png\" width=\"200\" height=\"200\"/>\n",
    "(3.8)"
   ]
  },
  {
   "cell_type": "markdown",
   "id": "e265c413-dc77-4a55-9e05-56d831f0a45a",
   "metadata": {},
   "source": [
    "<img src=\"./images/3.9.png\" width=\"200\" height=\"200\"/>\n",
    "(3.9)"
   ]
  },
  {
   "cell_type": "code",
   "execution_count": 61,
   "id": "b24e8dad-aca6-4f11-9fb6-470b3642681d",
   "metadata": {
    "tags": []
   },
   "outputs": [],
   "source": [
    "### 인터프리터로 구현하기"
   ]
  },
  {
   "cell_type": "code",
   "execution_count": 62,
   "id": "8bea5390-e938-4a15-8488-3d9ae502aa28",
   "metadata": {
    "tags": []
   },
   "outputs": [],
   "source": [
    "X = np.array([1.0, 0.5])\n",
    "W1 = np.array([[0.1, 0.3, 0.5], [0.2, 0.4, 0.6]])\n",
    "B1 = np.array([0.1, 0.2, 0.3])"
   ]
  },
  {
   "cell_type": "code",
   "execution_count": 63,
   "id": "a764d95e-2148-4dd5-b490-1a6b220e1f30",
   "metadata": {
    "tags": []
   },
   "outputs": [
    {
     "name": "stdout",
     "output_type": "stream",
     "text": [
      "(2, 3)\n",
      "(2,)\n",
      "(3,)\n"
     ]
    }
   ],
   "source": [
    "print(W1.shape)\n",
    "print(X.shape)\n",
    "print(B1.shape)"
   ]
  },
  {
   "cell_type": "code",
   "execution_count": 64,
   "id": "4626da31-dac3-48ff-b669-eca03c0fdf34",
   "metadata": {
    "tags": []
   },
   "outputs": [],
   "source": [
    "A1 = np.dot(X, W1) + B1"
   ]
  },
  {
   "cell_type": "code",
   "execution_count": 65,
   "id": "16162a26-be39-4698-96b9-bcee824401f1",
   "metadata": {
    "tags": []
   },
   "outputs": [
    {
     "data": {
      "text/plain": [
       "array([0.3, 0.7, 1.1])"
      ]
     },
     "execution_count": 65,
     "metadata": {},
     "output_type": "execute_result"
    }
   ],
   "source": [
    "A1"
   ]
  },
  {
   "cell_type": "markdown",
   "id": "7192ed55-e900-4be6-b2e3-06d1ff552b74",
   "metadata": {},
   "source": [
    "#### (현재 상황)"
   ]
  },
  {
   "cell_type": "markdown",
   "id": "e9507b3f-1796-49e1-9159-320829163dd0",
   "metadata": {},
   "source": [
    "<img src=\"./images/3-18.png\" width=\"400\" height=\"400\"/>\n",
    "[3-18]"
   ]
  },
  {
   "cell_type": "code",
   "execution_count": 66,
   "id": "ceb02707-deb2-4256-a453-50a1343053f0",
   "metadata": {
    "tags": []
   },
   "outputs": [],
   "source": [
    "Z1 = sigmoid(A1)"
   ]
  },
  {
   "cell_type": "code",
   "execution_count": 67,
   "id": "a1c4874c-3557-4134-934c-0311a9536cc5",
   "metadata": {
    "tags": []
   },
   "outputs": [
    {
     "data": {
      "text/plain": [
       "array([0.3, 0.7, 1.1])"
      ]
     },
     "execution_count": 67,
     "metadata": {},
     "output_type": "execute_result"
    }
   ],
   "source": [
    "A1"
   ]
  },
  {
   "cell_type": "code",
   "execution_count": 68,
   "id": "454e6310-5e69-48ab-b193-b049ae7f9c38",
   "metadata": {
    "tags": []
   },
   "outputs": [
    {
     "data": {
      "text/plain": [
       "array([0.57444252, 0.66818777, 0.75026011])"
      ]
     },
     "execution_count": 68,
     "metadata": {},
     "output_type": "execute_result"
    }
   ],
   "source": [
    "Z1"
   ]
  },
  {
   "cell_type": "markdown",
   "id": "f06bcd07-bc7b-4b4c-b48d-fdb59cc245ec",
   "metadata": {
    "tags": []
   },
   "source": [
    "<img src=\"./images/3-19.png\" width=\"400\" height=\"400\"/>\n",
    "[3-19]"
   ]
  },
  {
   "cell_type": "code",
   "execution_count": 69,
   "id": "8ecd2e5c-3d67-4282-a65d-8b854ac13c1b",
   "metadata": {
    "tags": []
   },
   "outputs": [],
   "source": [
    "W2 = np.array([[0.1, 0.4], [0.2, 0.5], [0.3, 0.6]])"
   ]
  },
  {
   "cell_type": "code",
   "execution_count": 70,
   "id": "f4466eda-b218-4d91-b9d7-d6f5762f30be",
   "metadata": {
    "tags": []
   },
   "outputs": [],
   "source": [
    "B2 = np.array([0.1, 0.2])"
   ]
  },
  {
   "cell_type": "code",
   "execution_count": 71,
   "id": "44276d2e-936e-4171-8e44-aa559038257b",
   "metadata": {
    "tags": []
   },
   "outputs": [
    {
     "name": "stdout",
     "output_type": "stream",
     "text": [
      "(3,)\n",
      "(3, 2)\n",
      "(2,)\n"
     ]
    }
   ],
   "source": [
    "print(Z1.shape)\n",
    "print(W2.shape)\n",
    "print(B2.shape)"
   ]
  },
  {
   "cell_type": "code",
   "execution_count": 72,
   "id": "30b4718d-18b8-404d-bb2e-0fb068078136",
   "metadata": {
    "tags": []
   },
   "outputs": [],
   "source": [
    "A2 = np.dot(Z1, W2) + B2"
   ]
  },
  {
   "cell_type": "code",
   "execution_count": 73,
   "id": "55305a8b-c032-4e42-a83c-ef2ad86d85f7",
   "metadata": {
    "tags": []
   },
   "outputs": [],
   "source": [
    "Z2 = sigmoid(A2)"
   ]
  },
  {
   "cell_type": "code",
   "execution_count": 74,
   "id": "827aebfb-297c-4c69-9557-51e683ab0ef3",
   "metadata": {
    "tags": []
   },
   "outputs": [
    {
     "data": {
      "text/plain": [
       "array([0.62624937, 0.7710107 ])"
      ]
     },
     "execution_count": 74,
     "metadata": {},
     "output_type": "execute_result"
    }
   ],
   "source": [
    "Z2"
   ]
  },
  {
   "cell_type": "markdown",
   "id": "1089995d-2057-49af-818b-b5b1a746cde9",
   "metadata": {},
   "source": [
    "<img src=\"./images/3-20.png\" width=\"400\" height=\"400\"/>\n",
    "[3-20]"
   ]
  },
  {
   "cell_type": "code",
   "execution_count": 75,
   "id": "bc19eab1-3225-4ba2-b869-acff0bf6b49d",
   "metadata": {
    "tags": []
   },
   "outputs": [],
   "source": [
    "def identity_function(x):\n",
    "    return x"
   ]
  },
  {
   "cell_type": "code",
   "execution_count": 76,
   "id": "05aa0983-0778-4db1-989e-0cad490fe577",
   "metadata": {
    "tags": []
   },
   "outputs": [],
   "source": [
    "W3 = np.array([[0.1, 0.3], [0.2, 0.4]])\n",
    "B3 = np.array([0.1, 0.2])"
   ]
  },
  {
   "cell_type": "code",
   "execution_count": 77,
   "id": "5492c946-c87b-43d4-987d-aa64137f0436",
   "metadata": {
    "tags": []
   },
   "outputs": [],
   "source": [
    "A3 = np.dot(Z2, W3) + B3"
   ]
  },
  {
   "cell_type": "code",
   "execution_count": 78,
   "id": "e76036f3-bf85-4bdb-9344-38a8e490cb17",
   "metadata": {
    "tags": []
   },
   "outputs": [],
   "source": [
    "Y = identity_function(A3)"
   ]
  },
  {
   "cell_type": "code",
   "execution_count": 79,
   "id": "4c1cd369-5240-4acb-9666-a9edc03c3c70",
   "metadata": {
    "tags": []
   },
   "outputs": [
    {
     "data": {
      "text/plain": [
       "array([0.31682708, 0.69627909])"
      ]
     },
     "execution_count": 79,
     "metadata": {},
     "output_type": "execute_result"
    }
   ],
   "source": [
    "Y"
   ]
  },
  {
   "cell_type": "markdown",
   "id": "ede8d7cd-9250-4b33-9716-4e3fcba45d19",
   "metadata": {},
   "source": [
    "### 출력층의 활성화 함수는?"
   ]
  },
  {
   "cell_type": "markdown",
   "id": "ed0a58ca-fc3e-404f-9ab4-a2b9a8964d05",
   "metadata": {},
   "source": [
    "(일반적으로)\n",
    "* 회귀 : 항등함수\n",
    "* 2클래스 분류 : 시그모이드 함수\n",
    "* 다중 클래스 분류 : 소프트맥스 함수"
   ]
  },
  {
   "cell_type": "markdown",
   "id": "558b94e5-3881-4d8b-bddd-00fab22840df",
   "metadata": {},
   "source": [
    "### 3.4.3 구현 정리"
   ]
  },
  {
   "cell_type": "code",
   "execution_count": 80,
   "id": "3104d9bb-4e5f-447e-99c1-932115bf3ee7",
   "metadata": {
    "tags": []
   },
   "outputs": [],
   "source": [
    "def init_network():\n",
    "    network = {}\n",
    "    network['W1'] = np.array([[0.1, 0.3, 0.5], [0.2, 0.4, 0.6]])\n",
    "    network['b1'] = np.array([0.1, 0.2, 0.3])\n",
    "    network['W2'] = np.array([[0.1, 0.4], [0.2, 0.5], [0.3, 0.6]])\n",
    "    network['b2'] = np.array([[0.1, 0.2]])\n",
    "    network['W3'] = np.array([[0.1, 0.3], [0.2, 0.4]])\n",
    "    network['b3'] = np.array([0.1, 0.2])\n",
    "    \n",
    "    return network"
   ]
  },
  {
   "cell_type": "code",
   "execution_count": 81,
   "id": "9a71a84c-2d79-4f1e-b3fb-30ed16daec3e",
   "metadata": {
    "tags": []
   },
   "outputs": [],
   "source": [
    "def forward(network, x):\n",
    "    W1, W2, W3 = network['W1'], network['W2'], network['W3']\n",
    "    b1, b2, b3 = network['b1'], network['b2'], network['b3']\n",
    "    \n",
    "    a1 = np.dot(x, W1) + b1\n",
    "    z1 = sigmoid(a1)\n",
    "    a2 = np.dot(z1, W2) + b2\n",
    "    z2 = sigmoid(a2)\n",
    "    a3= np.dot(z2, W3) + b3\n",
    "    y = identity_function(a3)\n",
    "    \n",
    "    return y"
   ]
  },
  {
   "cell_type": "code",
   "execution_count": 82,
   "id": "47f52d99-6a1d-4c18-bdb9-7866368faab8",
   "metadata": {
    "tags": []
   },
   "outputs": [],
   "source": [
    "network = init_network()"
   ]
  },
  {
   "cell_type": "code",
   "execution_count": 83,
   "id": "538022f6-eda7-4d22-a7b2-0846495fc1c7",
   "metadata": {
    "tags": []
   },
   "outputs": [],
   "source": [
    "x = np.array([1.0, 0.5])"
   ]
  },
  {
   "cell_type": "code",
   "execution_count": 84,
   "id": "9e30853d-0ef4-4ee9-8eac-130a55cdc866",
   "metadata": {
    "tags": []
   },
   "outputs": [],
   "source": [
    "y = forward(network, x)"
   ]
  },
  {
   "cell_type": "code",
   "execution_count": 85,
   "id": "d974d2e2-fb45-4613-b497-2136ce9572f1",
   "metadata": {
    "tags": []
   },
   "outputs": [
    {
     "data": {
      "text/plain": [
       "array([[0.31682708, 0.69627909]])"
      ]
     },
     "execution_count": 85,
     "metadata": {},
     "output_type": "execute_result"
    }
   ],
   "source": [
    "y"
   ]
  },
  {
   "cell_type": "markdown",
   "id": "e35df3e0-3b7f-4f72-b329-3f643edf471f",
   "metadata": {},
   "source": [
    "## 3.5 출력층 설계하기"
   ]
  },
  {
   "cell_type": "markdown",
   "id": "e81d4c8f-c221-4188-9633-4b114973b465",
   "metadata": {},
   "source": [
    "#### (쉬어가는 시간)"
   ]
  },
  {
   "cell_type": "markdown",
   "id": "e3091089-5f28-4072-bc9d-149ca4fefa16",
   "metadata": {},
   "source": [
    "회귀의 유래 : 10세기 후반 영국의 우생학자 프랜시스 골턴이 사람과 완두콩 등을 대상으로 크기를 측정\n",
    "관찰 결과 키가 큰 부모의 자식은 부모보다 작고 작은 부모의 자식은 부모보다 컸음\n",
    "즉 평균으로 회귀하는 경향을 발견"
   ]
  },
  {
   "cell_type": "markdown",
   "id": "a13e49c6-2852-4af1-aabe-e8c79853628c",
   "metadata": {},
   "source": [
    "### 3.5.1 항등 함수와 소프트맥스 함수 구현하기"
   ]
  },
  {
   "cell_type": "markdown",
   "id": "d47439bc-91fc-4df0-a609-22f83a5b98c7",
   "metadata": {},
   "source": [
    "* 항등함수 : 입력을 그대로 출력"
   ]
  },
  {
   "cell_type": "markdown",
   "id": "258631e2-26d4-4b44-bf08-d177601ec492",
   "metadata": {
    "tags": []
   },
   "source": [
    "* 소프트맥스 함수\n",
    "\n",
    "<img src=\"./images/3.10.png\" width=\"150\" height=\"150\"/>\n",
    "(3.10)"
   ]
  },
  {
   "cell_type": "code",
   "execution_count": 86,
   "id": "2fcab74e-7861-49cf-bf64-08852bb8c36f",
   "metadata": {
    "tags": []
   },
   "outputs": [],
   "source": [
    "### 인터프리터로 확인하기"
   ]
  },
  {
   "cell_type": "code",
   "execution_count": 87,
   "id": "d51efe5d-844a-4128-aa25-36e478198023",
   "metadata": {
    "tags": []
   },
   "outputs": [],
   "source": [
    "a = np.array([0.3, 2.9, 4.0])"
   ]
  },
  {
   "cell_type": "code",
   "execution_count": 88,
   "id": "61b1c2e9-303c-4c08-9cda-5b3ce31e01ae",
   "metadata": {
    "tags": []
   },
   "outputs": [],
   "source": [
    "exp_a = np.exp(a)"
   ]
  },
  {
   "cell_type": "code",
   "execution_count": 89,
   "id": "5071ebf1-5a13-407a-b604-6643797034f6",
   "metadata": {
    "tags": []
   },
   "outputs": [
    {
     "data": {
      "text/plain": [
       "array([ 1.34985881, 18.17414537, 54.59815003])"
      ]
     },
     "execution_count": 89,
     "metadata": {},
     "output_type": "execute_result"
    }
   ],
   "source": [
    "exp_a"
   ]
  },
  {
   "cell_type": "code",
   "execution_count": 90,
   "id": "d26803c5-99d2-4dea-b08b-bfce1d73f049",
   "metadata": {
    "tags": []
   },
   "outputs": [],
   "source": [
    "sum_exp_a = np.sum(exp_a)"
   ]
  },
  {
   "cell_type": "code",
   "execution_count": 91,
   "id": "5a500baf-7790-4a85-b795-b8cfd589d7ef",
   "metadata": {
    "tags": []
   },
   "outputs": [
    {
     "data": {
      "text/plain": [
       "74.1221542101633"
      ]
     },
     "execution_count": 91,
     "metadata": {},
     "output_type": "execute_result"
    }
   ],
   "source": [
    "sum_exp_a"
   ]
  },
  {
   "cell_type": "code",
   "execution_count": 92,
   "id": "6f9a10e1-c9fd-465f-a9ba-9f5945c5b258",
   "metadata": {
    "tags": []
   },
   "outputs": [],
   "source": [
    "y = exp_a / sum_exp_a"
   ]
  },
  {
   "cell_type": "code",
   "execution_count": 93,
   "id": "5dedb608-3d35-484f-a372-da84fff4acac",
   "metadata": {
    "tags": []
   },
   "outputs": [
    {
     "data": {
      "text/plain": [
       "array([0.01821127, 0.24519181, 0.73659691])"
      ]
     },
     "execution_count": 93,
     "metadata": {},
     "output_type": "execute_result"
    }
   ],
   "source": [
    "y"
   ]
  },
  {
   "cell_type": "code",
   "execution_count": 94,
   "id": "a9e8cbb6-5e9d-44e2-85fe-0a0a3ed2b7e6",
   "metadata": {
    "tags": []
   },
   "outputs": [],
   "source": [
    "def softmax(a):\n",
    "    exp_a = np.exp(a)\n",
    "    sum_exp_a = np.sum(exp_a)\n",
    "    y = exp_a / sum_exp_a\n",
    "    \n",
    "    return y"
   ]
  },
  {
   "cell_type": "markdown",
   "id": "4c0cdf6b-4ada-4955-bdb7-bc06fef4a72b",
   "metadata": {},
   "source": [
    "### 3.5.2 소프트맥스 함수 구현 시 주의점"
   ]
  },
  {
   "cell_type": "code",
   "execution_count": 95,
   "id": "61d11a54-f49a-4ae3-84b5-985829e5fee4",
   "metadata": {
    "tags": []
   },
   "outputs": [],
   "source": [
    "#### 소프트맥스 함수 변형"
   ]
  },
  {
   "cell_type": "markdown",
   "id": "9b2a3457-02fc-454e-b733-e440dc58e8bb",
   "metadata": {
    "tags": []
   },
   "source": [
    "<img src=\"./images/3.11.png\" width=\"200\" height=\"200\"/>\n",
    "(3.11)"
   ]
  },
  {
   "cell_type": "code",
   "execution_count": 96,
   "id": "430a1b91-c1ca-4834-a725-c3d62c856ad5",
   "metadata": {
    "tags": []
   },
   "outputs": [],
   "source": [
    "#### 인터프리터로 확인하기"
   ]
  },
  {
   "cell_type": "code",
   "execution_count": 97,
   "id": "3a2c5a93-b0c9-42d4-9f18-755490e726d6",
   "metadata": {
    "tags": []
   },
   "outputs": [],
   "source": [
    "a = np.array([1010, 1000, 990])"
   ]
  },
  {
   "cell_type": "code",
   "execution_count": 98,
   "id": "e958ba10-b53e-4832-a713-ef5242ac166b",
   "metadata": {
    "tags": []
   },
   "outputs": [
    {
     "name": "stderr",
     "output_type": "stream",
     "text": [
      "C:\\Users\\Dongyeon\\AppData\\Local\\Temp\\ipykernel_18304\\66806713.py:1: RuntimeWarning: overflow encountered in exp\n",
      "  np.exp(a) / np.sum(np.exp(a)) # 계산실패...\n",
      "C:\\Users\\Dongyeon\\AppData\\Local\\Temp\\ipykernel_18304\\66806713.py:1: RuntimeWarning: invalid value encountered in divide\n",
      "  np.exp(a) / np.sum(np.exp(a)) # 계산실패...\n"
     ]
    },
    {
     "data": {
      "text/plain": [
       "array([nan, nan, nan])"
      ]
     },
     "execution_count": 98,
     "metadata": {},
     "output_type": "execute_result"
    }
   ],
   "source": [
    "np.exp(a) / np.sum(np.exp(a)) # 계산실패..."
   ]
  },
  {
   "cell_type": "code",
   "execution_count": 99,
   "id": "4bf82a8e-9787-406b-a3c0-f1af8121b454",
   "metadata": {
    "tags": []
   },
   "outputs": [],
   "source": [
    "c = np.max(a)"
   ]
  },
  {
   "cell_type": "code",
   "execution_count": 100,
   "id": "cc2791d4-5886-4c24-87bd-f23c5b9d4103",
   "metadata": {
    "tags": []
   },
   "outputs": [
    {
     "data": {
      "text/plain": [
       "array([  0, -10, -20])"
      ]
     },
     "execution_count": 100,
     "metadata": {},
     "output_type": "execute_result"
    }
   ],
   "source": [
    "a - c"
   ]
  },
  {
   "cell_type": "code",
   "execution_count": 101,
   "id": "89b1dc5f-d4ee-46d4-af57-74f55eb39805",
   "metadata": {
    "tags": []
   },
   "outputs": [
    {
     "data": {
      "text/plain": [
       "array([9.99954600e-01, 4.53978686e-05, 2.06106005e-09])"
      ]
     },
     "execution_count": 101,
     "metadata": {},
     "output_type": "execute_result"
    }
   ],
   "source": [
    "np.exp(a - c) / np.sum(np.exp(a - c)) # 계산 성공"
   ]
  },
  {
   "cell_type": "code",
   "execution_count": null,
   "id": "15eb39ac-0bad-437b-b86b-eacc0b265ba6",
   "metadata": {},
   "outputs": [],
   "source": []
  },
  {
   "cell_type": "code",
   "execution_count": 102,
   "id": "763c1ad6-fe18-4e21-b949-82dd024a36a8",
   "metadata": {
    "tags": []
   },
   "outputs": [],
   "source": [
    "def softmax(a):\n",
    "    C = np.max(a)\n",
    "    exp_a = np.exp(a-C)\n",
    "    sum_exp_a = np.sum(exp_a)\n",
    "    y = exp_a / sum_exp_a\n",
    "    \n",
    "    return y"
   ]
  },
  {
   "cell_type": "code",
   "execution_count": null,
   "id": "489ae354-37fa-4e0d-a644-10465d6801b3",
   "metadata": {},
   "outputs": [],
   "source": []
  },
  {
   "cell_type": "markdown",
   "id": "dc132c1e-c90e-439c-910d-e2bf67085454",
   "metadata": {},
   "source": [
    "### 3.5.3 소프트맥스 함수의 특징"
   ]
  },
  {
   "cell_type": "code",
   "execution_count": 103,
   "id": "0a373570-db00-4640-894e-5a612c2f373b",
   "metadata": {
    "tags": []
   },
   "outputs": [],
   "source": [
    "#### 인터프리터로 확인하기"
   ]
  },
  {
   "cell_type": "code",
   "execution_count": 104,
   "id": "c3a3b709-aceb-432c-9c24-ce5508308f45",
   "metadata": {
    "tags": []
   },
   "outputs": [],
   "source": [
    "a = np.array([0.3, 2.9, 4.0])"
   ]
  },
  {
   "cell_type": "code",
   "execution_count": 105,
   "id": "d5067760-9cfb-489f-a2f4-d92a67e9f5c4",
   "metadata": {
    "tags": []
   },
   "outputs": [],
   "source": [
    "y = softmax(a)"
   ]
  },
  {
   "cell_type": "code",
   "execution_count": 106,
   "id": "5342324a-592b-40aa-adad-cc57b85efded",
   "metadata": {
    "tags": []
   },
   "outputs": [
    {
     "data": {
      "text/plain": [
       "array([0.01821127, 0.24519181, 0.73659691])"
      ]
     },
     "execution_count": 106,
     "metadata": {},
     "output_type": "execute_result"
    }
   ],
   "source": [
    "y"
   ]
  },
  {
   "cell_type": "code",
   "execution_count": 107,
   "id": "79bb5886-370a-47f5-938e-a54f8f04be23",
   "metadata": {
    "tags": []
   },
   "outputs": [
    {
     "data": {
      "text/plain": [
       "1.0"
      ]
     },
     "execution_count": 107,
     "metadata": {},
     "output_type": "execute_result"
    }
   ],
   "source": [
    "np.sum(y)"
   ]
  },
  {
   "cell_type": "markdown",
   "id": "3ea5e9f6-e3fd-46e1-80c8-5d5a2e306c33",
   "metadata": {},
   "source": [
    "#### (소프트맥스 함수의 특징)"
   ]
  },
  {
   "cell_type": "markdown",
   "id": "36342a40-a974-4451-a7c2-fcabbff6b235",
   "metadata": {},
   "source": [
    "* 단조증가 함수이기 때문에 소프트맥스를 적용해도 각 원소의 대소 관계는 변하지 않음\n",
    "* 때문에 현업에서는 소프트맥스 함수를 생략하기도 함\n",
    "* 학습 단계에서는 출력층에서 소프트맥스를 쓰고 추론 단계에서는 생략"
   ]
  },
  {
   "cell_type": "markdown",
   "id": "d467289f-21c6-4925-a5c0-b100c8837f86",
   "metadata": {},
   "source": [
    "### 3.5.4 출력층의 뉴런 수 정하기"
   ]
  },
  {
   "cell_type": "markdown",
   "id": "d474951f-857a-4b83-9454-ff652d1402f1",
   "metadata": {},
   "source": [
    "<img src=\"./images/3.23.png\" width=\"400\" height=\"400\"/>\n",
    "[3-23]"
   ]
  },
  {
   "cell_type": "markdown",
   "id": "d5c588cc-7aa1-48fc-9c31-6f861308af97",
   "metadata": {},
   "source": [
    "## 3.6 손글씨 숫자 인식"
   ]
  },
  {
   "cell_type": "markdown",
   "id": "1e02300f-6868-4681-8eb0-da527b48baf9",
   "metadata": {},
   "source": [
    "### 3.6.1 MNIST 데이터셋"
   ]
  },
  {
   "cell_type": "code",
   "execution_count": 108,
   "id": "7a4aaadc-cecd-4948-95e2-e7c0f244ee25",
   "metadata": {
    "tags": []
   },
   "outputs": [],
   "source": [
    "import sys, os\n",
    "sys.path.append(os.pardir)\n",
    "from dataset.mnist import load_mnist"
   ]
  },
  {
   "cell_type": "code",
   "execution_count": 109,
   "id": "3d8258e0-0d3b-44b6-a594-a405197451c8",
   "metadata": {
    "tags": []
   },
   "outputs": [],
   "source": [
    "(x_train, t_train), (x_test, t_test) = load_mnist(flatten=True, normalize = False)"
   ]
  },
  {
   "cell_type": "code",
   "execution_count": 110,
   "id": "776f0656-0842-4d4a-9073-9d9305d99feb",
   "metadata": {
    "tags": []
   },
   "outputs": [
    {
     "name": "stdout",
     "output_type": "stream",
     "text": [
      "(60000, 784)\n",
      "(60000,)\n",
      "(10000, 784)\n",
      "(10000,)\n"
     ]
    }
   ],
   "source": [
    "print(x_train.shape)\n",
    "print(t_train.shape)\n",
    "print(x_test.shape)\n",
    "print(t_test.shape)"
   ]
  },
  {
   "cell_type": "code",
   "execution_count": null,
   "id": "ef05eb3f-785f-4587-97b4-6d3553c25fb4",
   "metadata": {},
   "outputs": [],
   "source": []
  },
  {
   "cell_type": "code",
   "execution_count": 111,
   "id": "b997773c-2948-49a6-8de4-99049262690a",
   "metadata": {
    "tags": []
   },
   "outputs": [],
   "source": [
    "import sys, os\n",
    "sys.path.append(os.pardir)\n",
    "import numpy as np\n",
    "from dataset.mnist import load_mnist\n",
    "from PIL import Image"
   ]
  },
  {
   "cell_type": "code",
   "execution_count": 112,
   "id": "e19be6cc-9907-4722-914c-994e3615b98c",
   "metadata": {
    "tags": []
   },
   "outputs": [],
   "source": [
    "def img_show(img):\n",
    "    pil_img = Image.fromarray(np.uint8(img))\n",
    "    pil_img.show()"
   ]
  },
  {
   "cell_type": "code",
   "execution_count": 113,
   "id": "348f15bb-e2fc-4316-a969-1c3d964af0d9",
   "metadata": {
    "tags": []
   },
   "outputs": [],
   "source": [
    "(x_train, t_train), (x_test, t_test) = load_mnist(flatten=True, normalize = False)\n"
   ]
  },
  {
   "cell_type": "code",
   "execution_count": 114,
   "id": "32b0e771-e56c-4e80-a937-46397a5813f5",
   "metadata": {
    "tags": []
   },
   "outputs": [],
   "source": [
    "img = x_train[0]"
   ]
  },
  {
   "cell_type": "code",
   "execution_count": 115,
   "id": "439443d0-fadc-4bb6-a109-688afc6894a3",
   "metadata": {
    "tags": []
   },
   "outputs": [],
   "source": [
    "label = t_train[0]"
   ]
  },
  {
   "cell_type": "code",
   "execution_count": 116,
   "id": "505ae87a-3a0e-4cc0-abc5-e52b590b2096",
   "metadata": {
    "tags": []
   },
   "outputs": [
    {
     "data": {
      "text/plain": [
       "5"
      ]
     },
     "execution_count": 116,
     "metadata": {},
     "output_type": "execute_result"
    }
   ],
   "source": [
    "label"
   ]
  },
  {
   "cell_type": "code",
   "execution_count": 117,
   "id": "0ed5a759-6cb0-49dd-9c86-09c140f0f974",
   "metadata": {
    "tags": []
   },
   "outputs": [
    {
     "name": "stdout",
     "output_type": "stream",
     "text": [
      "(784,)\n"
     ]
    }
   ],
   "source": [
    "print(img.shape)"
   ]
  },
  {
   "cell_type": "code",
   "execution_count": 118,
   "id": "a7f0444b-198b-4939-8b6f-e03f013eed0f",
   "metadata": {
    "tags": []
   },
   "outputs": [],
   "source": [
    "img = img.reshape(28, 28)"
   ]
  },
  {
   "cell_type": "code",
   "execution_count": 119,
   "id": "58ad1377-2f93-4c7e-89dd-4c919490f369",
   "metadata": {
    "tags": []
   },
   "outputs": [
    {
     "name": "stdout",
     "output_type": "stream",
     "text": [
      "(28, 28)\n"
     ]
    }
   ],
   "source": [
    "print(img.shape)"
   ]
  },
  {
   "cell_type": "code",
   "execution_count": 120,
   "id": "65bb6e94-0f70-4422-b418-04c573046f3d",
   "metadata": {
    "tags": []
   },
   "outputs": [],
   "source": [
    "img_show(img)"
   ]
  },
  {
   "cell_type": "markdown",
   "id": "5a28627b-c690-44fb-8c7c-09581e66a916",
   "metadata": {},
   "source": [
    "### 3.6.2 신경망의 추론 처리"
   ]
  },
  {
   "cell_type": "code",
   "execution_count": 121,
   "id": "f8dfae7f-6c25-41e6-baa3-293d6f756f1d",
   "metadata": {
    "tags": []
   },
   "outputs": [],
   "source": [
    "def get_data():\n",
    "    (x_train, t_train), (x_test, t_test) = load_mnist(normalize=True, flatten=True, one_hot_label=False)\n",
    "    \n",
    "    return x_test, t_test"
   ]
  },
  {
   "cell_type": "code",
   "execution_count": 122,
   "id": "b0f4e730-35a4-4c4c-9498-5b4db7fb6aac",
   "metadata": {
    "tags": []
   },
   "outputs": [],
   "source": [
    "def init_network():\n",
    "    with open(\"sample_weight.pkl\", 'rb') as f:\n",
    "        network = pickle.load(f)\n",
    "        \n",
    "    return network"
   ]
  },
  {
   "cell_type": "code",
   "execution_count": 123,
   "id": "76d6c793-dcdc-4f14-b127-0b7a69751be7",
   "metadata": {
    "tags": []
   },
   "outputs": [],
   "source": [
    "def predict(network, x ):\n",
    "    W1, W2, W3 = network['W1'], network['W2'], network['W3']\n",
    "    b1, b2, b3 = network['b1'], network['b2'], network['b3']\n",
    "    \n",
    "    a1 = np.dot(x, W1) + b1\n",
    "    z1 = sigmoid(a1)\n",
    "    a2 = np.dot(z1, W2) + b2\n",
    "    z2 = sigmoid(a2)\n",
    "    a3 = np.dot(z2, W3) + b3\n",
    "    y = softmax(a3)\n",
    "    \n",
    "    return y"
   ]
  },
  {
   "cell_type": "code",
   "execution_count": 124,
   "id": "10e30f49-f011-4a03-b980-491835feb574",
   "metadata": {
    "tags": []
   },
   "outputs": [],
   "source": [
    "# 추론 수행 및 정확도 평가"
   ]
  },
  {
   "cell_type": "code",
   "execution_count": 125,
   "id": "0381a596-5703-4371-8a43-8a0026326ae4",
   "metadata": {
    "tags": []
   },
   "outputs": [],
   "source": [
    "import pickle"
   ]
  },
  {
   "cell_type": "code",
   "execution_count": 126,
   "id": "42829f61-7de6-4f7b-8c62-01dab8441bff",
   "metadata": {
    "tags": []
   },
   "outputs": [],
   "source": [
    "x, t = get_data()\n",
    "network = init_network()"
   ]
  },
  {
   "cell_type": "code",
   "execution_count": 127,
   "id": "ea021b09-16d9-46f0-8eaf-3316c92290db",
   "metadata": {
    "tags": []
   },
   "outputs": [],
   "source": [
    "accuracy_cnt = 0\n",
    "for i in range( len(x)) :\n",
    "    y = predict(network, x[i])\n",
    "    p = np.argmax(y)\n",
    "    if p == t[i]:\n",
    "        accuracy_cnt += 1"
   ]
  },
  {
   "cell_type": "code",
   "execution_count": 128,
   "id": "121b151f-682f-4843-8c1f-2a465b3e55b6",
   "metadata": {
    "tags": []
   },
   "outputs": [
    {
     "name": "stdout",
     "output_type": "stream",
     "text": [
      "Accuracy:0.9352\n"
     ]
    }
   ],
   "source": [
    "print(\"Accuracy:\" + str(float(accuracy_cnt) / len(x)))"
   ]
  },
  {
   "cell_type": "markdown",
   "id": "4c224f8e-7a7e-4943-9db0-8c9173833994",
   "metadata": {},
   "source": [
    "* 정규화 : 데이터를 특정 범위로 변데이터 환하는 처리\n",
    "* 전처리 : 신경망의 입력 데이터에 특정 변환을 가하는 것\n",
    "* 백색화 : 전체 데이터를 균일하게 분포시킴"
   ]
  },
  {
   "cell_type": "markdown",
   "id": "bf6a821b-3d03-464f-962a-323f240815bb",
   "metadata": {},
   "source": [
    "### 3.6.3 배치 처리"
   ]
  },
  {
   "cell_type": "code",
   "execution_count": 129,
   "id": "ddcc3476-402b-47f1-a964-5ef46ee4d578",
   "metadata": {
    "tags": []
   },
   "outputs": [],
   "source": [
    "#가중치 형상 확인"
   ]
  },
  {
   "cell_type": "code",
   "execution_count": 130,
   "id": "1a954128-2af6-4e6c-bed9-6fe7c9d37a06",
   "metadata": {
    "tags": []
   },
   "outputs": [],
   "source": [
    "x, _ = get_data()"
   ]
  },
  {
   "cell_type": "code",
   "execution_count": 131,
   "id": "8475d89d-2f61-4078-aafd-906ed62a7f8a",
   "metadata": {
    "tags": []
   },
   "outputs": [],
   "source": [
    "network = init_network()"
   ]
  },
  {
   "cell_type": "code",
   "execution_count": 132,
   "id": "8a300159-adc6-4cf2-b71a-173b024875ba",
   "metadata": {
    "tags": []
   },
   "outputs": [],
   "source": [
    "W1, W2, W3 = network['W1'], network['W2'], network['W3']"
   ]
  },
  {
   "cell_type": "code",
   "execution_count": 133,
   "id": "7421e677-7b39-4268-ad54-bd94eb947c66",
   "metadata": {
    "tags": []
   },
   "outputs": [
    {
     "data": {
      "text/plain": [
       "(10000, 784)"
      ]
     },
     "execution_count": 133,
     "metadata": {},
     "output_type": "execute_result"
    }
   ],
   "source": [
    "x.shape"
   ]
  },
  {
   "cell_type": "code",
   "execution_count": 134,
   "id": "096a2a04-580a-4b61-bb23-26c8ffc24fcf",
   "metadata": {
    "tags": []
   },
   "outputs": [
    {
     "data": {
      "text/plain": [
       "(784,)"
      ]
     },
     "execution_count": 134,
     "metadata": {},
     "output_type": "execute_result"
    }
   ],
   "source": [
    "x[0].shape"
   ]
  },
  {
   "cell_type": "code",
   "execution_count": 135,
   "id": "bada9731-0e33-4614-9888-153cf5c5e75e",
   "metadata": {
    "tags": []
   },
   "outputs": [
    {
     "data": {
      "text/plain": [
       "(784, 50)"
      ]
     },
     "execution_count": 135,
     "metadata": {},
     "output_type": "execute_result"
    }
   ],
   "source": [
    "W1.shape"
   ]
  },
  {
   "cell_type": "code",
   "execution_count": 136,
   "id": "23239f30-e2e3-4995-b7cd-a328702c87af",
   "metadata": {
    "tags": []
   },
   "outputs": [
    {
     "data": {
      "text/plain": [
       "(50, 100)"
      ]
     },
     "execution_count": 136,
     "metadata": {},
     "output_type": "execute_result"
    }
   ],
   "source": [
    "W2.shape"
   ]
  },
  {
   "cell_type": "code",
   "execution_count": 137,
   "id": "0d3be487-afd3-4cca-ae82-552cd4feb86d",
   "metadata": {
    "tags": []
   },
   "outputs": [
    {
     "data": {
      "text/plain": [
       "(100, 10)"
      ]
     },
     "execution_count": 137,
     "metadata": {},
     "output_type": "execute_result"
    }
   ],
   "source": [
    "W3.shape"
   ]
  },
  {
   "cell_type": "markdown",
   "id": "2b3854a3-6a2b-4424-bdd5-7ce91201cbbb",
   "metadata": {
    "tags": []
   },
   "source": [
    "<img src=\"./images/3-26.png\" width=\"400\" height=\"400\"/>\n",
    "[3-26]"
   ]
  },
  {
   "cell_type": "raw",
   "id": "9024cd82-7dfb-4394-bfb1-9c57ddc136fc",
   "metadata": {},
   "source": [
    "(1 * 784) x (784 * 50) x (50 * 100) x (100 * 10) = (1 * 10)"
   ]
  },
  {
   "cell_type": "markdown",
   "id": "288ff993-04e7-4ed6-9623-7ddff9a3c690",
   "metadata": {},
   "source": [
    "<img src=\"./images/3-27.png\" width=\"400\" height=\"400\"/>\n",
    "[3-27]"
   ]
  },
  {
   "cell_type": "raw",
   "id": "674c19b4-96da-485b-a736-545386f73b6e",
   "metadata": {},
   "source": [
    "(100 * 784) x (784 * 50) x (50 * 100) x (100 * 10) = (100 * 10)"
   ]
  },
  {
   "cell_type": "code",
   "execution_count": null,
   "id": "77aa2aa7-b625-4eac-9746-a4c3ce8b2cfd",
   "metadata": {},
   "outputs": [],
   "source": []
  },
  {
   "cell_type": "code",
   "execution_count": null,
   "id": "38ebc237-0179-49e3-b772-70e9699447a0",
   "metadata": {},
   "outputs": [],
   "source": [
    "# 배치 처리 구현"
   ]
  },
  {
   "cell_type": "code",
   "execution_count": 150,
   "id": "db645aba-f164-4180-a24f-5884f7ddab14",
   "metadata": {
    "tags": []
   },
   "outputs": [],
   "source": [
    "x, t = get_data()"
   ]
  },
  {
   "cell_type": "code",
   "execution_count": 151,
   "id": "a36fb15a-ab85-4018-9186-95c80a640159",
   "metadata": {
    "tags": []
   },
   "outputs": [],
   "source": [
    "network = init_network()"
   ]
  },
  {
   "cell_type": "code",
   "execution_count": 152,
   "id": "37c19502-7a7a-4b25-8bff-c26c8055764e",
   "metadata": {
    "tags": []
   },
   "outputs": [],
   "source": [
    "batch_size = 100\n",
    "accuracy_cnt = 0"
   ]
  },
  {
   "cell_type": "code",
   "execution_count": 153,
   "id": "4babb524-8749-431b-8607-e52c5b513b6e",
   "metadata": {
    "tags": []
   },
   "outputs": [],
   "source": [
    "for i in range(0, len(x), batch_size):\n",
    "    x_batch = x[i:i+batch_size]\n",
    "    y_batch = predict(network, x_batch)\n",
    "    p = np.argmax(y_batch, axis = 1)\n",
    "    accuracy_cnt += np.sum(p==t[i:i+batch_size])"
   ]
  },
  {
   "cell_type": "code",
   "execution_count": 154,
   "id": "7de9e175-93c1-4962-b766-1cf72624ae8a",
   "metadata": {
    "tags": []
   },
   "outputs": [
    {
     "name": "stdout",
     "output_type": "stream",
     "text": [
      "Accuracy:0.9352\n"
     ]
    }
   ],
   "source": [
    "print(\"Accuracy:\"+ str(float(accuracy_cnt) / len(x)))"
   ]
  },
  {
   "cell_type": "code",
   "execution_count": null,
   "id": "8a3d7cc2-b8b9-4409-a513-20b0ef42a6b0",
   "metadata": {},
   "outputs": [],
   "source": []
  },
  {
   "cell_type": "code",
   "execution_count": null,
   "id": "8c73eaa2-e382-4deb-a46c-85dcc1ceacd8",
   "metadata": {},
   "outputs": [],
   "source": []
  },
  {
   "cell_type": "code",
   "execution_count": 155,
   "id": "9ef42516-b49a-47ee-a5e7-f5b3e1d6b3a4",
   "metadata": {
    "tags": []
   },
   "outputs": [],
   "source": [
    "# argmax 확인용"
   ]
  },
  {
   "cell_type": "code",
   "execution_count": 161,
   "id": "25d61008-758d-4eae-8917-d18dca322b12",
   "metadata": {
    "tags": []
   },
   "outputs": [],
   "source": [
    "x = np.array([[0.1, 0.7, 0.1], [0.3, 0.1, 0.6], [0.2, 0.5, 0.3], [0.8, 0.1, 0.1]])"
   ]
  },
  {
   "cell_type": "code",
   "execution_count": 162,
   "id": "df0b97b7-9d19-402a-b31a-768eb9756bd2",
   "metadata": {
    "tags": []
   },
   "outputs": [
    {
     "data": {
      "text/plain": [
       "9"
      ]
     },
     "execution_count": 162,
     "metadata": {},
     "output_type": "execute_result"
    }
   ],
   "source": [
    "np.argmax(x) # flatten해서 비교"
   ]
  },
  {
   "cell_type": "code",
   "execution_count": 163,
   "id": "4e9c6219-90d9-466f-8ae3-10ea6eca9be1",
   "metadata": {
    "tags": []
   },
   "outputs": [
    {
     "data": {
      "text/plain": [
       "array([3, 0, 1], dtype=int64)"
      ]
     },
     "execution_count": 163,
     "metadata": {},
     "output_type": "execute_result"
    }
   ],
   "source": [
    "np.argmax(x, axis = 0) # 세로축을 비교"
   ]
  },
  {
   "cell_type": "code",
   "execution_count": 164,
   "id": "cd7f6496-ed9b-4242-851b-59ceb9983b3a",
   "metadata": {
    "tags": []
   },
   "outputs": [
    {
     "data": {
      "text/plain": [
       "array([1, 2, 1, 0], dtype=int64)"
      ]
     },
     "execution_count": 164,
     "metadata": {},
     "output_type": "execute_result"
    }
   ],
   "source": [
    "np.argmax(x, axis = 1) # 가로축을 비교"
   ]
  },
  {
   "cell_type": "code",
   "execution_count": null,
   "id": "7b9013b5-129f-4b55-a56a-caa6b9b16d90",
   "metadata": {},
   "outputs": [],
   "source": []
  },
  {
   "cell_type": "code",
   "execution_count": 165,
   "id": "ffcf1264-3ec3-4451-8212-82ecbb7356c5",
   "metadata": {
    "tags": []
   },
   "outputs": [],
   "source": [
    "#  np.sum(p==t[i:i+batch_size]) 확인용"
   ]
  },
  {
   "cell_type": "code",
   "execution_count": 167,
   "id": "df01e6a3-98fe-44a4-b104-77f51bb4e6a1",
   "metadata": {
    "tags": []
   },
   "outputs": [],
   "source": [
    "y = np.array([1,2,1,0])\n",
    "t = np.array([1,2,0,0])"
   ]
  },
  {
   "cell_type": "code",
   "execution_count": 168,
   "id": "c0ea0b2d-8ec3-4451-88bf-9cbcfccbb86c",
   "metadata": {
    "tags": []
   },
   "outputs": [
    {
     "name": "stdout",
     "output_type": "stream",
     "text": [
      "[ True  True False  True]\n"
     ]
    }
   ],
   "source": [
    "print(y==t)"
   ]
  },
  {
   "cell_type": "code",
   "execution_count": 169,
   "id": "7e4d3a55-e1a3-4c09-8f86-ce72f4efc013",
   "metadata": {
    "tags": []
   },
   "outputs": [
    {
     "data": {
      "text/plain": [
       "3"
      ]
     },
     "execution_count": 169,
     "metadata": {},
     "output_type": "execute_result"
    }
   ],
   "source": [
    "np.sum(y==t)"
   ]
  },
  {
   "cell_type": "code",
   "execution_count": null,
   "id": "7af14bb4-e118-405d-895b-2712fc4e3c55",
   "metadata": {},
   "outputs": [],
   "source": []
  }
 ],
 "metadata": {
  "kernelspec": {
   "display_name": "Python 3 (ipykernel)",
   "language": "python",
   "name": "python3"
  },
  "language_info": {
   "codemirror_mode": {
    "name": "ipython",
    "version": 3
   },
   "file_extension": ".py",
   "mimetype": "text/x-python",
   "name": "python",
   "nbconvert_exporter": "python",
   "pygments_lexer": "ipython3",
   "version": "3.11.3"
  }
 },
 "nbformat": 4,
 "nbformat_minor": 5
}
