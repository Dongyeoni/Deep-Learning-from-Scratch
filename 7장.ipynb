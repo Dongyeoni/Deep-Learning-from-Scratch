{
 "cells": [
  {
   "cell_type": "markdown",
   "id": "4dabb0c3-be15-41a5-96cb-68796d3b7ef4",
   "metadata": {},
   "source": [
    "# Chapter7. 합성곱 신경망(CNN)"
   ]
  },
  {
   "cell_type": "markdown",
   "id": "c2e7ab39-4b2b-4ea7-a560-b71f818d649b",
   "metadata": {},
   "source": [
    "## 7.1 전체 구조"
   ]
  },
  {
   "cell_type": "markdown",
   "id": "01f986ec-59f8-4132-ab10-fe6483afe9f1",
   "metadata": {
    "tags": []
   },
   "source": [
    "* CNN\n",
    "    * 합성곱 계층(convolutional layer)\n",
    "    * 풀링 계층(pooling layer)\n",
    "    * 완전 연결 계층(fully-connected layer; Affine layer)"
   ]
  },
  {
   "cell_type": "markdown",
   "id": "64f0ba7a-5eab-4a31-af9d-e508866ee4eb",
   "metadata": {},
   "source": [
    "<img src=\"./images/7-1.png\" width=\"400\" height=\"400\"/>\n",
    "[7-1]"
   ]
  },
  {
   "cell_type": "markdown",
   "id": "05770859-bd79-4969-be3b-342340286c56",
   "metadata": {},
   "source": [
    "<img src=\"./images/7-2.png\" width=\"400\" height=\"400\"/>\n",
    "[7-2]"
   ]
  },
  {
   "cell_type": "markdown",
   "id": "0bf85e05-6a04-4aef-9ef1-9f169fe4a8ad",
   "metadata": {},
   "source": [
    "## 7.2 합성곱 계층"
   ]
  },
  {
   "cell_type": "markdown",
   "id": "51e562de-77dd-4627-a4e4-8ab0d49fb33e",
   "metadata": {},
   "source": [
    "* 패딩(padding)\n",
    "* 스트라이드(stride)"
   ]
  },
  {
   "cell_type": "markdown",
   "id": "31c851ad-0bfa-47f5-ac6e-d26d07d41cf8",
   "metadata": {},
   "source": [
    "### 7.2.1 완전연결 계층의 문제점"
   ]
  },
  {
   "cell_type": "markdown",
   "id": "68e73229-7c8a-4d43-a530-58047fadbb82",
   "metadata": {},
   "source": [
    "* 문제점 : 데이터의 형상이 무시된다\n",
    "    * 이미지의 경우 세로,가로,채널(색상)으로 구성된 3차원 데이터이지만 완전연결 계층에서는 1차원으로 바꿔야한다"
   ]
  },
  {
   "cell_type": "markdown",
   "id": "9c8b763f-1299-43c0-a907-0183dbaba1a5",
   "metadata": {},
   "source": [
    "> 합성곱 계층의 장점 : 형상을 유지한다"
   ]
  },
  {
   "cell_type": "markdown",
   "id": "0e03e9a6-99f3-4ac0-b64a-8e30772a66c3",
   "metadata": {},
   "source": [
    "* 특징 맵(feature map) : 합성곱 계층의 입출력 데이터\n",
    "    * 입력 데이터 : 입력 특징 맵\n",
    "    * 출력 데이터 : 출력 특징 맵"
   ]
  },
  {
   "cell_type": "markdown",
   "id": "6c452a19-15bb-4681-85d0-41f5418a748f",
   "metadata": {},
   "source": [
    "### 7.2.2 합성곱 연산"
   ]
  },
  {
   "cell_type": "markdown",
   "id": "7056f35b-89b1-488e-96bb-2bb9fe8f9c0d",
   "metadata": {},
   "source": [
    "* 합성곱 연산 = 필터 연산\n",
    "* 필터는 커널이라고도 한다"
   ]
  },
  {
   "cell_type": "markdown",
   "id": "92a7e300-fcbf-4cfd-b9e9-cc75a6a9594d",
   "metadata": {},
   "source": [
    "<img src=\"./images/7-3.png\" width=\"400\" height=\"400\"/>\n",
    "[7-1]"
   ]
  },
  {
   "cell_type": "markdown",
   "id": "7d88f95d-8234-4c31-b38a-e636b6f5bab3",
   "metadata": {},
   "source": [
    "* 단일 곱센-누산 진행"
   ]
  },
  {
   "cell_type": "markdown",
   "id": "9e173dfd-7e18-451a-a3c0-c362ee955366",
   "metadata": {},
   "source": [
    "<img src=\"./images/7-4.png\" width=\"400\" height=\"400\"/>\n",
    "[7-4]"
   ]
  },
  {
   "cell_type": "markdown",
   "id": "d7d65fe8-de77-4ba0-b77c-f1f5822c58e0",
   "metadata": {
    "tags": []
   },
   "source": [
    "* 완전연결 신경망에서 가중치와 편향은 존재\n",
    "* CNN에서는 필터의 매개변수가 가중치에 해당\n",
    "* 필터는? => 필터는 항상 1 x 1 형태이다"
   ]
  },
  {
   "cell_type": "markdown",
   "id": "da8e4586-7672-42a2-b3ce-6f5da82d1904",
   "metadata": {},
   "source": [
    "<img src=\"./images/7-5.png\" width=\"500\" height=\"500\"/>\n",
    "[7-5]"
   ]
  },
  {
   "cell_type": "markdown",
   "id": "87e00fca-fcea-4161-ab14-4de5e738885e",
   "metadata": {},
   "source": [
    "### 7.2.3 패딩"
   ]
  },
  {
   "cell_type": "markdown",
   "id": "92ec60e5-d412-4b37-b975-35515206bb0d",
   "metadata": {
    "tags": []
   },
   "source": [
    "* 패딩 : 합성곱 연산 수행 전 입력 데이터 주변을 특정 값으로 채우는 것\n",
    "* 패딩은 주로 출력 크기를 조정할 목적으로 사용한다"
   ]
  },
  {
   "cell_type": "markdown",
   "id": "5688c647-ed17-4bd7-b7e3-b9cfc66f4816",
   "metadata": {},
   "source": [
    "<img src=\"./images/7-6.png\" width=\"400\" height=\"400\"/>\n",
    "[7-6]"
   ]
  },
  {
   "cell_type": "markdown",
   "id": "fc0eac83-ada3-4209-925f-0eb99fb08b64",
   "metadata": {},
   "source": [
    "### 7.2.4 스트라이드"
   ]
  },
  {
   "cell_type": "markdown",
   "id": "9ce315fc-2449-400e-8afa-656288510cfe",
   "metadata": {},
   "source": [
    "* 스트라이드(stride) : 필터를 적용하는 위치 간격"
   ]
  },
  {
   "cell_type": "markdown",
   "id": "73e179e4-43da-49e9-8d1e-15cf8ef91c95",
   "metadata": {},
   "source": [
    "<img src=\"./images/7-7.png\" width=\"400\" height=\"400\"/>\n",
    "[7-7]"
   ]
  },
  {
   "cell_type": "markdown",
   "id": "af7351c2-0452-46f4-82ae-9e757b2f6bc8",
   "metadata": {},
   "source": [
    "#### (패딩과 스트라이드에 따른 출력크기 수치화)"
   ]
  },
  {
   "cell_type": "markdown",
   "id": "4bd2039e-2bd0-4580-bcaa-e32c37607003",
   "metadata": {},
   "source": [
    "입력 크기가 $(H, W)$, 필터 크기가 $(FH, FW)$ 출력 크기가 $(OH, OW)$ 패딩이 $P$ 스트라이드가 $S$ 일 때"
   ]
  },
  {
   "cell_type": "markdown",
   "id": "487ab52d-ea1b-496a-8dc6-423c91d3ec8f",
   "metadata": {},
   "source": [
    "<img src=\"./images/7.1.png\" width=\"200\" height=\"200\"/>\n",
    "[7.1]"
   ]
  },
  {
   "cell_type": "markdown",
   "id": "2a8415c5-90a7-4bb7-8575-1f037b6ab7e7",
   "metadata": {},
   "source": [
    "* +1 왼쪽 분수가 정수가 되게 해야한다"
   ]
  },
  {
   "cell_type": "markdown",
   "id": "d328471e-c358-4b79-b535-c2b5de1473c5",
   "metadata": {},
   "source": [
    "### 7.2.5 3차원 데이터의 합성곱 연산"
   ]
  },
  {
   "cell_type": "markdown",
   "id": "16b27cbf-7c0f-406e-a505-803bacd516e4",
   "metadata": {},
   "source": [
    "<img src=\"./images/7-8.png\" width=\"400\" height=\"400\"/>\n",
    "[7-8]"
   ]
  },
  {
   "cell_type": "markdown",
   "id": "3db9b0e3-c60e-48e7-8a7c-2d31316f7889",
   "metadata": {},
   "source": [
    "(3차원)"
   ]
  },
  {
   "cell_type": "markdown",
   "id": "428c4d3f-f5d2-45be-a7bd-2dddb4369fe7",
   "metadata": {},
   "source": [
    "<img src=\"./images/7-9.png\" width=\"400\" height=\"400\"/>\n",
    "[7-9]"
   ]
  },
  {
   "cell_type": "markdown",
   "id": "8b702507-caa9-4660-8ef4-06f2b03b1fde",
   "metadata": {},
   "source": [
    "* 3차원 합성곱 연산에서 입력 데이터의 채널 수와 필터의 채널 수가 같아야 함\n",
    "* 필터 자체의 크기는 자유롭지만, 모든 필터가 같은 크기여야함"
   ]
  },
  {
   "cell_type": "markdown",
   "id": "3cbc51fc-0706-4e6f-ab5e-5917d2c19595",
   "metadata": {},
   "source": [
    "### 7.2.6 블록으로 생각하기"
   ]
  },
  {
   "cell_type": "markdown",
   "id": "130d408e-f05c-4ab9-acaf-ea61107b3c94",
   "metadata": {},
   "source": [
    "<img src=\"./images/7-10.png\" width=\"400\" height=\"400\"/>\n",
    "[7-10]"
   ]
  },
  {
   "cell_type": "markdown",
   "id": "8ef7a60b-7ed4-465a-8c6c-8e9eb469a87b",
   "metadata": {},
   "source": [
    "* 위 예에서 출력 데이터는 한 장의 특징 맵\n",
    "* 다수의 채널을 내보내려면? => 필터(가중치)를 다수 사용하기\n",
    "* 즉, 필터의 수도 고려해야 함"
   ]
  },
  {
   "cell_type": "markdown",
   "id": "21fbcd8c-274a-4798-9a42-1776a8d1c054",
   "metadata": {},
   "source": [
    "<img src=\"./images/7-11.png\" width=\"400\" height=\"400\"/>\n",
    "[7-11]"
   ]
  },
  {
   "cell_type": "markdown",
   "id": "1512964d-14f9-48ac-8045-bb9164ce01ef",
   "metadata": {},
   "source": [
    "* 필터의 가중치 데이터는 4차원 : (출력 채널 수, 입력 채널 수, 높이, 너비)"
   ]
  },
  {
   "cell_type": "markdown",
   "id": "758a4534-ab9f-49cf-9033-4a05c2afe10e",
   "metadata": {},
   "source": [
    "#### (+편향)"
   ]
  },
  {
   "cell_type": "markdown",
   "id": "d564f726-6c4a-4357-892c-cad7f5db6020",
   "metadata": {},
   "source": [
    "<img src=\"./images/7-12.png\" width=\"400\" height=\"400\"/>\n",
    "[7-12]"
   ]
  },
  {
   "cell_type": "markdown",
   "id": "3b10c808-b517-4167-89f5-eb97adc67382",
   "metadata": {},
   "source": [
    "### 7.2.7 배치 처리"
   ]
  },
  {
   "cell_type": "code",
   "execution_count": null,
   "id": "984597b9-1d8b-4887-b49e-e2afadd3a721",
   "metadata": {},
   "outputs": [],
   "source": []
  }
 ],
 "metadata": {
  "kernelspec": {
   "display_name": "Python 3 (ipykernel)",
   "language": "python",
   "name": "python3"
  },
  "language_info": {
   "codemirror_mode": {
    "name": "ipython",
    "version": 3
   },
   "file_extension": ".py",
   "mimetype": "text/x-python",
   "name": "python",
   "nbconvert_exporter": "python",
   "pygments_lexer": "ipython3",
   "version": "3.11.3"
  }
 },
 "nbformat": 4,
 "nbformat_minor": 5
}
