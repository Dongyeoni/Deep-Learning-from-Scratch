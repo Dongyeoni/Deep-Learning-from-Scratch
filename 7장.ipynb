{
 "cells": [
  {
   "cell_type": "markdown",
   "id": "4dabb0c3-be15-41a5-96cb-68796d3b7ef4",
   "metadata": {},
   "source": [
    "# Chapter7. 합성곱 신경망(CNN)"
   ]
  },
  {
   "cell_type": "markdown",
   "id": "c2e7ab39-4b2b-4ea7-a560-b71f818d649b",
   "metadata": {},
   "source": [
    "## 7.1 전체 구조"
   ]
  },
  {
   "cell_type": "markdown",
   "id": "01f986ec-59f8-4132-ab10-fe6483afe9f1",
   "metadata": {
    "tags": []
   },
   "source": [
    "* CNN\n",
    "    * 합성곱 계층(convolutional layer)\n",
    "    * 풀링 계층(pooling layer)\n",
    "    * 완전 연결 계층(fully-connected layer; Affine layer)"
   ]
  },
  {
   "cell_type": "markdown",
   "id": "64f0ba7a-5eab-4a31-af9d-e508866ee4eb",
   "metadata": {},
   "source": [
    "<img src=\"./images/7-1.png\" width=\"400\" height=\"400\"/>\n",
    "[7-1]"
   ]
  },
  {
   "cell_type": "markdown",
   "id": "05770859-bd79-4969-be3b-342340286c56",
   "metadata": {},
   "source": [
    "<img src=\"./images/7-2.png\" width=\"400\" height=\"400\"/>\n",
    "[7-2]"
   ]
  },
  {
   "cell_type": "markdown",
   "id": "0bf85e05-6a04-4aef-9ef1-9f169fe4a8ad",
   "metadata": {},
   "source": [
    "## 7.2 합성곱 계층"
   ]
  },
  {
   "cell_type": "markdown",
   "id": "51e562de-77dd-4627-a4e4-8ab0d49fb33e",
   "metadata": {},
   "source": [
    "* 패딩(padding)\n",
    "* 스트라이드(stride)"
   ]
  },
  {
   "cell_type": "markdown",
   "id": "31c851ad-0bfa-47f5-ac6e-d26d07d41cf8",
   "metadata": {},
   "source": [
    "### 7.2.1 완전연결 계층의 문제점"
   ]
  },
  {
   "cell_type": "markdown",
   "id": "68e73229-7c8a-4d43-a530-58047fadbb82",
   "metadata": {},
   "source": [
    "* 문제점 : 데이터의 형상이 무시된다\n",
    "    * 이미지의 경우 세로,가로,채널(색상)으로 구성된 3차원 데이터이지만 완전연결 계층에서는 1차원으로 바꿔야한다"
   ]
  },
  {
   "cell_type": "markdown",
   "id": "9c8b763f-1299-43c0-a907-0183dbaba1a5",
   "metadata": {},
   "source": [
    "> 합성곱 계층의 장점 : 형상을 유지한다"
   ]
  },
  {
   "cell_type": "markdown",
   "id": "0e03e9a6-99f3-4ac0-b64a-8e30772a66c3",
   "metadata": {},
   "source": [
    "* 특징 맵(feature map) : 합성곱 계층의 입출력 데이터\n",
    "    * 입력 데이터 : 입력 특징 맵\n",
    "    * 출력 데이터 : 출력 특징 맵"
   ]
  },
  {
   "cell_type": "markdown",
   "id": "6c452a19-15bb-4681-85d0-41f5418a748f",
   "metadata": {},
   "source": [
    "### 7.2.2 합성곱 연산"
   ]
  },
  {
   "cell_type": "markdown",
   "id": "7056f35b-89b1-488e-96bb-2bb9fe8f9c0d",
   "metadata": {},
   "source": [
    "* 합성곱 연산 = 필터 연산\n",
    "* 필터는 커널이라고도 한다"
   ]
  },
  {
   "cell_type": "markdown",
   "id": "92a7e300-fcbf-4cfd-b9e9-cc75a6a9594d",
   "metadata": {},
   "source": [
    "<img src=\"./images/7-3.png\" width=\"400\" height=\"400\"/>\n",
    "[7-1]"
   ]
  },
  {
   "cell_type": "markdown",
   "id": "7d88f95d-8234-4c31-b38a-e636b6f5bab3",
   "metadata": {},
   "source": [
    "* 단일 곱센-누산 진행"
   ]
  },
  {
   "cell_type": "markdown",
   "id": "9e173dfd-7e18-451a-a3c0-c362ee955366",
   "metadata": {},
   "source": [
    "<img src=\"./images/7-4.png\" width=\"400\" height=\"400\"/>\n",
    "[7-4]"
   ]
  },
  {
   "cell_type": "markdown",
   "id": "d7d65fe8-de77-4ba0-b77c-f1f5822c58e0",
   "metadata": {
    "tags": []
   },
   "source": [
    "* 완전연결 신경망에서 가중치와 편향은 존재\n",
    "* CNN에서는 필터의 매개변수가 가중치에 해당\n",
    "* 필터는? => 필터는 항상 1 x 1 형태이다"
   ]
  },
  {
   "cell_type": "markdown",
   "id": "da8e4586-7672-42a2-b3ce-6f5da82d1904",
   "metadata": {},
   "source": [
    "<img src=\"./images/7-5.png\" width=\"500\" height=\"500\"/>\n",
    "[7-5]"
   ]
  },
  {
   "cell_type": "markdown",
   "id": "87e00fca-fcea-4161-ab14-4de5e738885e",
   "metadata": {},
   "source": [
    "### 7.2.3 패딩"
   ]
  },
  {
   "cell_type": "markdown",
   "id": "92ec60e5-d412-4b37-b975-35515206bb0d",
   "metadata": {
    "tags": []
   },
   "source": [
    "* 패딩 : 합성곱 연산 수행 전 입력 데이터 주변을 특정 값으로 채우는 것\n",
    "* 패딩은 주로 출력 크기를 조정할 목적으로 사용한다"
   ]
  },
  {
   "cell_type": "markdown",
   "id": "5688c647-ed17-4bd7-b7e3-b9cfc66f4816",
   "metadata": {},
   "source": [
    "<img src=\"./images/7-6.png\" width=\"400\" height=\"400\"/>\n",
    "[7-6]"
   ]
  },
  {
   "cell_type": "markdown",
   "id": "fc0eac83-ada3-4209-925f-0eb99fb08b64",
   "metadata": {},
   "source": [
    "### 7.2.4 스트라이드"
   ]
  },
  {
   "cell_type": "markdown",
   "id": "9ce315fc-2449-400e-8afa-656288510cfe",
   "metadata": {},
   "source": [
    "* 스트라이드(stride) : 필터를 적용하는 위치 간격"
   ]
  },
  {
   "cell_type": "markdown",
   "id": "73e179e4-43da-49e9-8d1e-15cf8ef91c95",
   "metadata": {},
   "source": [
    "<img src=\"./images/7-7.png\" width=\"400\" height=\"400\"/>\n",
    "[7-7]"
   ]
  },
  {
   "cell_type": "markdown",
   "id": "af7351c2-0452-46f4-82ae-9e757b2f6bc8",
   "metadata": {},
   "source": [
    "#### (패딩과 스트라이드에 따른 출력크기 수치화)"
   ]
  },
  {
   "cell_type": "markdown",
   "id": "4bd2039e-2bd0-4580-bcaa-e32c37607003",
   "metadata": {},
   "source": [
    "입력 크기가 $(H, W)$, 필터 크기가 $(FH, FW)$ 출력 크기가 $(OH, OW)$ 패딩이 $P$ 스트라이드가 $S$ 일 때"
   ]
  },
  {
   "cell_type": "markdown",
   "id": "487ab52d-ea1b-496a-8dc6-423c91d3ec8f",
   "metadata": {},
   "source": [
    "<img src=\"./images/7.1.png\" width=\"200\" height=\"200\"/>\n",
    "[7.1]"
   ]
  },
  {
   "cell_type": "markdown",
   "id": "2a8415c5-90a7-4bb7-8575-1f037b6ab7e7",
   "metadata": {},
   "source": [
    "* +1 왼쪽 분수가 정수가 되게 해야한다"
   ]
  },
  {
   "cell_type": "markdown",
   "id": "d328471e-c358-4b79-b535-c2b5de1473c5",
   "metadata": {},
   "source": [
    "### 7.2.5 3차원 데이터의 합성곱 연산"
   ]
  },
  {
   "cell_type": "markdown",
   "id": "16b27cbf-7c0f-406e-a505-803bacd516e4",
   "metadata": {},
   "source": [
    "<img src=\"./images/7-8.png\" width=\"400\" height=\"400\"/>\n",
    "[7-8]"
   ]
  },
  {
   "cell_type": "markdown",
   "id": "3db9b0e3-c60e-48e7-8a7c-2d31316f7889",
   "metadata": {},
   "source": [
    "(3차원)"
   ]
  },
  {
   "cell_type": "markdown",
   "id": "428c4d3f-f5d2-45be-a7bd-2dddb4369fe7",
   "metadata": {},
   "source": [
    "<img src=\"./images/7-9.png\" width=\"400\" height=\"400\"/>\n",
    "[7-9]"
   ]
  },
  {
   "cell_type": "markdown",
   "id": "8b702507-caa9-4660-8ef4-06f2b03b1fde",
   "metadata": {},
   "source": [
    "* 3차원 합성곱 연산에서 입력 데이터의 채널 수와 필터의 채널 수가 같아야 함\n",
    "* 필터 자체의 크기는 자유롭지만, 모든 필터가 같은 크기여야함"
   ]
  },
  {
   "cell_type": "markdown",
   "id": "3cbc51fc-0706-4e6f-ab5e-5917d2c19595",
   "metadata": {},
   "source": [
    "### 7.2.6 블록으로 생각하기"
   ]
  },
  {
   "cell_type": "markdown",
   "id": "130d408e-f05c-4ab9-acaf-ea61107b3c94",
   "metadata": {},
   "source": [
    "<img src=\"./images/7-10.png\" width=\"400\" height=\"400\"/>\n",
    "[7-10]"
   ]
  },
  {
   "cell_type": "markdown",
   "id": "8ef7a60b-7ed4-465a-8c6c-8e9eb469a87b",
   "metadata": {},
   "source": [
    "* 위 예에서 출력 데이터는 한 장의 특징 맵\n",
    "* 다수의 채널을 내보내려면? => 필터(가중치)를 다수 사용하기\n",
    "* 즉, 필터의 수도 고려해야 함"
   ]
  },
  {
   "cell_type": "markdown",
   "id": "21fbcd8c-274a-4798-9a42-1776a8d1c054",
   "metadata": {},
   "source": [
    "<img src=\"./images/7-11.png\" width=\"400\" height=\"400\"/>\n",
    "[7-11]"
   ]
  },
  {
   "cell_type": "markdown",
   "id": "1512964d-14f9-48ac-8045-bb9164ce01ef",
   "metadata": {},
   "source": [
    "* 필터의 가중치 데이터는 4차원 : (출력 채널 수, 입력 채널 수, 높이, 너비)"
   ]
  },
  {
   "cell_type": "markdown",
   "id": "758a4534-ab9f-49cf-9033-4a05c2afe10e",
   "metadata": {},
   "source": [
    "#### (+편향)"
   ]
  },
  {
   "cell_type": "markdown",
   "id": "d564f726-6c4a-4357-892c-cad7f5db6020",
   "metadata": {},
   "source": [
    "<img src=\"./images/7-12.png\" width=\"400\" height=\"400\"/>\n",
    "[7-12]"
   ]
  },
  {
   "cell_type": "markdown",
   "id": "3b10c808-b517-4167-89f5-eb97adc67382",
   "metadata": {},
   "source": [
    "### 7.2.7 배치 처리"
   ]
  },
  {
   "cell_type": "markdown",
   "id": "adcb6d6e-8a1a-4102-88f6-2935dd1f02f9",
   "metadata": {},
   "source": [
    "<img src=\"./images/7-13.png\" width=\"500\" height=\"500\"/>\n",
    "[7-13]"
   ]
  },
  {
   "cell_type": "markdown",
   "id": "035994c7-3cc1-4def-bba5-d5cb21fd8c48",
   "metadata": {},
   "source": [
    "## 7.3 풀링 계층"
   ]
  },
  {
   "cell_type": "markdown",
   "id": "b7e92508-8ab3-4859-b3b6-81f1bf606d2d",
   "metadata": {},
   "source": [
    "* 풀링 : 세로 또는 가로 방향의 공간을 줄이는 연산"
   ]
  },
  {
   "cell_type": "markdown",
   "id": "abbe51ab-1034-4fb4-a3f4-6b20fad263b0",
   "metadata": {},
   "source": [
    "<img src=\"./images/7-14.png\" width=\"500\" height=\"500\"/>\n",
    "[7-14] 2 x 2 Max pooling을 스트라이드 2로 처리"
   ]
  },
  {
   "cell_type": "markdown",
   "id": "b5ee4a9a-6a7c-4fa8-982a-25792735795f",
   "metadata": {
    "tags": []
   },
   "source": [
    "* 풀링의 윈도우 크기와 스트라이드는 같은 값으로 설정하는 것이 일반적\n",
    "* 이미지 인식 분야에서는 주로 최대 풀링을 사용"
   ]
  },
  {
   "cell_type": "markdown",
   "id": "5ef9bb90-4d36-4741-8c6c-19671591788b",
   "metadata": {},
   "source": [
    "### 7.3.1 풀링 계층의 특징"
   ]
  },
  {
   "cell_type": "markdown",
   "id": "2e675f1e-a4b4-4fee-96a5-b2803e6c82ff",
   "metadata": {
    "tags": []
   },
   "source": [
    "* 학습해야 할 매개변수가 없다\n",
    "* 채널 수가 변하지 않는다\n",
    "* 입력의 변화에 영향을 적게 받는다(강건하다) [그림 7-16]"
   ]
  },
  {
   "cell_type": "markdown",
   "id": "dffd8ebe-d8eb-4e2e-bded-dda6d39b66f9",
   "metadata": {},
   "source": [
    "<img src=\"./images/7-16.png\" width=\"400\" height=\"400\"/>\n",
    "[7-16]"
   ]
  },
  {
   "cell_type": "markdown",
   "id": "35aa0bed-f310-4737-b44c-af0e2019735a",
   "metadata": {},
   "source": [
    "## 7.4 합성곱/풀링 계층 구현하기"
   ]
  },
  {
   "cell_type": "markdown",
   "id": "a670c4b4-2e28-4feb-8d46-c1b03ec3d183",
   "metadata": {},
   "source": [
    "### 7.4.1 4차원 배열"
   ]
  },
  {
   "cell_type": "code",
   "execution_count": 4,
   "id": "82a974d5-f71a-4e03-b2ff-ae0af7db2278",
   "metadata": {
    "tags": []
   },
   "outputs": [],
   "source": [
    "import numpy as np"
   ]
  },
  {
   "cell_type": "code",
   "execution_count": 5,
   "id": "603b686b-1cf0-45cf-a18d-b740c1a7e686",
   "metadata": {
    "tags": []
   },
   "outputs": [],
   "source": [
    "x = np.random.rand(10, 1, 28,28)"
   ]
  },
  {
   "cell_type": "code",
   "execution_count": 6,
   "id": "a0f138ba-c1dc-42e4-b1cc-f708b090874b",
   "metadata": {
    "tags": []
   },
   "outputs": [
    {
     "data": {
      "text/plain": [
       "(10, 1, 28, 28)"
      ]
     },
     "execution_count": 6,
     "metadata": {},
     "output_type": "execute_result"
    }
   ],
   "source": [
    "x.shape"
   ]
  },
  {
   "cell_type": "code",
   "execution_count": null,
   "id": "ae5f2bba-c091-45b6-a890-03a25e64fd0d",
   "metadata": {},
   "outputs": [],
   "source": [
    "# numppy에서 아래 두 개는 같다"
   ]
  },
  {
   "cell_type": "code",
   "execution_count": 11,
   "id": "b5fe4a78-28fa-435b-919f-8df5b8f20693",
   "metadata": {
    "tags": []
   },
   "outputs": [
    {
     "name": "stdout",
     "output_type": "stream",
     "text": [
      "(28, 28)\n"
     ]
    }
   ],
   "source": [
    "print(x[0][0].shape)"
   ]
  },
  {
   "cell_type": "code",
   "execution_count": 12,
   "id": "88d3f6c7-3328-43bb-9381-ffe12afe71a4",
   "metadata": {
    "tags": []
   },
   "outputs": [
    {
     "name": "stdout",
     "output_type": "stream",
     "text": [
      "(28, 28)\n"
     ]
    }
   ],
   "source": [
    "print(x[0, 0].shape)"
   ]
  },
  {
   "cell_type": "markdown",
   "id": "5ed02a04-f7a9-40f3-96a3-7c95586dc12e",
   "metadata": {},
   "source": [
    "### 7.4.2 im2col로 데이터 전개하기"
   ]
  },
  {
   "cell_type": "markdown",
   "id": "4603ab69-2c72-4d8c-9497-7b39ef65ab65",
   "metadata": {},
   "source": [
    "* numpy는 for문을 사용하면 성능이 떨어진다\n",
    "* for 대신 im2col이란느 함수를 사용한다(image to column)"
   ]
  },
  {
   "cell_type": "markdown",
   "id": "db4ffec2-07b0-44a0-bc2c-a3f9215795ff",
   "metadata": {},
   "source": [
    "* 입력 데이터는 행으로 배열"
   ]
  },
  {
   "cell_type": "markdown",
   "id": "0050b5e1-333e-4bb7-8530-d577a7176564",
   "metadata": {},
   "source": [
    "<img src=\"./images/7-17.png\" width=\"400\" height=\"400\"/>\n",
    "[7-17]\n",
    "<img src=\"./images/7-18.png\" width=\"400\" height=\"400\"/>\n",
    "[7-18]"
   ]
  },
  {
   "cell_type": "markdown",
   "id": "09cfef34-6cc3-4563-8422-6dc7db7f6615",
   "metadata": {},
   "source": [
    "* 필터는 열로 배열"
   ]
  },
  {
   "cell_type": "markdown",
   "id": "f9cd0ebe-6f8b-446f-aee4-da8dfee17506",
   "metadata": {},
   "source": [
    "<img src=\"./images/7-19.png\" width=\"500\" height=\"500\"/>\n",
    "[7-19]"
   ]
  },
  {
   "cell_type": "markdown",
   "id": "8fdbec37-1e3d-4f96-91a0-d96d51fdef21",
   "metadata": {},
   "source": [
    "### 7.4.3 합성곱 계층 구현하기"
   ]
  },
  {
   "cell_type": "code",
   "execution_count": 15,
   "id": "f2b50e71-7f05-4775-9330-041f960b12ed",
   "metadata": {
    "tags": []
   },
   "outputs": [
    {
     "name": "stdout",
     "output_type": "stream",
     "text": [
      "(9, 75)\n"
     ]
    }
   ],
   "source": [
    "import sys, os\n",
    "sys.path.append(os.pardir)\n",
    "from common.util import im2col\n",
    "\n",
    "x1 = np.random.rand(1,3,7,7) \n",
    "col1 = im2col(x1, 5, 5, 1, 0)\n",
    "print(col1.shape)"
   ]
  },
  {
   "cell_type": "code",
   "execution_count": 16,
   "id": "8e44bae9-ca60-41c6-a4a0-d863206ff5f7",
   "metadata": {
    "tags": []
   },
   "outputs": [
    {
     "name": "stdout",
     "output_type": "stream",
     "text": [
      "(90, 75)\n"
     ]
    }
   ],
   "source": [
    "x2 = np.random.rand(10, 3, 7, 7)\n",
    "col2= im2col(x2 ,5, 5, 1, 0)\n",
    "print(col2.shape)"
   ]
  },
  {
   "cell_type": "code",
   "execution_count": 17,
   "id": "13a97acf-5258-401e-b93f-dcb189ce9147",
   "metadata": {
    "tags": []
   },
   "outputs": [],
   "source": [
    "class Convolution:\n",
    "    def __init__(self, W, b, stride=1, pad = 0):\n",
    "        self.W = W\n",
    "        self.b = b\n",
    "        self.stride = stride\n",
    "        self.pad = pad\n",
    "    \n",
    "    def forward(self, x):\n",
    "        FN. C. FH. FW = self.W.shape\n",
    "        N, C, H, W = x.shape\n",
    "        out_h = int(1 + (H+2*self.pad - FH) / self.stride)\n",
    "        out_w = int(1+(W+2*self.pad - FW) / self.stride)\n",
    "        \n",
    "        col = im2col(x, FN, FW, self.stride, self.pad)\n",
    "        col_W = self.W.reshape(FN, -1).T\n",
    "        out = np.dot(col, col_W) + self.b\n",
    "        \n",
    "        out = out.reshape(N, out_h, out_w, -1).transpose(0,3,1,2)\n",
    "        \n",
    "        return out"
   ]
  },
  {
   "cell_type": "markdown",
   "id": "da5a45f8-59a9-4ca3-be53-3d4ac1589114",
   "metadata": {},
   "source": [
    "### 7.4.4 풀링 계층 구현하기"
   ]
  },
  {
   "cell_type": "markdown",
   "id": "167e49f2-6f87-447b-86f3-6a9226a687b0",
   "metadata": {},
   "source": [
    "<img src=\"./images/7-21.png\" width=\"400\" height=\"400\"/>\n",
    "[7-21]\n",
    "<img src=\"./images/7-22.png\" width=\"400\" height=\"400\"/>\n",
    "[7-22]"
   ]
  },
  {
   "cell_type": "code",
   "execution_count": 18,
   "id": "44f55879-731e-4b08-a783-ab0ecbb290e6",
   "metadata": {
    "tags": []
   },
   "outputs": [],
   "source": [
    "class Pooling:\n",
    "    def __init__(self, pool_h, pool_w, stride=1, pad=0):\n",
    "        self.pool_h = pool_h\n",
    "        self.pool_w = pool_w\n",
    "        self.stride = stride\n",
    "        self.pad = pad\n",
    "        \n",
    "    def forward(self, x):\n",
    "        N, C, H, W = x.shape\n",
    "        out_h = int(1+(H-self.pool_h) / self.stride)\n",
    "        out_w = int(1+(W-self.pool_w) / self.stride)\n",
    "        \n",
    "        col = im2col(x, self.pool_h, self.pool_w, self.stride , self.pad)\n",
    "        col = col.reshape(-1, self.pool_h * self.pool_w)\n",
    "        \n",
    "        out = np.max(col, axis = 1)\n",
    "        \n",
    "        out = out.reshape(N, out_h, out_w, C).transpose(0,3,1,2)\n",
    "        \n",
    "        return out"
   ]
  },
  {
   "cell_type": "markdown",
   "id": "d5bd2ac3-0b04-429d-b1e5-f8493b3c3f3f",
   "metadata": {},
   "source": [
    "## 7.5 CNN 구현하기"
   ]
  },
  {
   "cell_type": "markdown",
   "id": "08e0f63f-39c9-4550-83bc-b1f5edb7199a",
   "metadata": {},
   "source": [
    "<img src=\"./images/7-23.png\" width=\"400\" height=\"400\"/>\n",
    "[7-23]"
   ]
  },
  {
   "cell_type": "code",
   "execution_count": 19,
   "id": "d82f2181-ed3c-47a1-b896-b6519c59bd18",
   "metadata": {
    "tags": []
   },
   "outputs": [],
   "source": [
    "from collections import OrderedDict"
   ]
  },
  {
   "cell_type": "code",
   "execution_count": 29,
   "id": "e3bd243c-2bde-4426-b525-a0714774ed24",
   "metadata": {
    "tags": []
   },
   "outputs": [],
   "source": [
    "from common.layers import Pooling, Relu, Affine, SoftmaxWithLoss"
   ]
  },
  {
   "cell_type": "code",
   "execution_count": 23,
   "id": "687f2b85-c726-4d2a-91c7-52076c73d1f4",
   "metadata": {
    "tags": []
   },
   "outputs": [],
   "source": [
    "class SimpleNet:\n",
    "    def __init__(self, input_dim = (1,28,28), conv_param ={'filter_num':30, 'filter_size' : 5, 'pad' :0, 'stride' :1},\n",
    "                 hidden_size = 100, output_size=10, weight_init_std=0.01):\n",
    "        \n",
    "        filter_num = conv_param['filter_num']\n",
    "        filter_size = conv_param['filter_size']\n",
    "        filter_pad = conv_param['pad']\n",
    "        filter_stride = conv_param['stride']\n",
    "        input_size = input_dim[1]\n",
    "        conv_output_size = (input_size - filter_size+2*filter_pad) / filter_stride + 1\n",
    "        pool_output_size = int(filter_num * (conv_output_size/2) * (conv_output_size/2))\n",
    "        \n",
    "        self.params = {}\n",
    "        self.params['W1'] = weight_init_std * np.random.randn(filter_num, input_dim[0], filter_size, filter_size)\n",
    "        self.params['b1'] = np.zeros(filter_num)\n",
    "        self.params['W2'] = weight_init_std * np.random.randn(pool_output_size, hidden_size)\n",
    "        self.params['b2'] = np.zeros(hidden_size)\n",
    "        self.params['W3'] = weight_init_std * np.random.randn(hidden_size, output_size)\n",
    "        self.params['b3'] = np.zeros(output_size)\n",
    "        \n",
    "        self.layers = OrderedDict()\n",
    "        self.layers['Conv1'] = Convolution(self.params['W1'], self.params['b1'], conv_param['stride'], conv_param['pad'])\n",
    "        self.layers['Relu1'] = Relu()\n",
    "        self.layers['Pool1'] = Pooling(pool_h=2, pool_w=2, stride=2)\n",
    "        self.layers['Affine1'] = Affine(self.params['W2'], self.params['b2'])\n",
    "        self.layers['Relu2'] = Relu()\n",
    "        self.layers['Affine2'] = Affine(self.params['W3'], self.params['b3'])\n",
    "        \n",
    "        self.lastlayer = SoftmaxWithLoss()\n",
    "        \n",
    "    def predict(self, x):\n",
    "        for layer in self.layers.values():\n",
    "            x = layer.forward(x)\n",
    "        return x\n",
    "    \n",
    "    def loss(self, x, t):\n",
    "        y= self.predict(x)\n",
    "        return self.lastlayer.forward(y,t)\n",
    "    \n",
    "    def gradient(self, x, t):\n",
    "        self.loss(x,t)\n",
    "        \n",
    "        dout =1\n",
    "        dout = self.lastlayer.backward(dout)\n",
    "        \n",
    "        layers = list(self.layers.values())\n",
    "        layers.reverse()\n",
    "        for layer in layers:\n",
    "            dout = layer.backward(dout)\n",
    "        \n",
    "        grads = {}\n",
    "        grads['W1'] = self.layers['Conv1'].dW\n",
    "        grads['b1'] = self.layers['Conv1'].db\n",
    "        grads['W2'] = self.layers['Affine1'].db\n",
    "        grads['b2'] = self.layers['Affine1'].db\n",
    "        grads['W3'] = self.layers['Affine2'].db\n",
    "        grads['b3'] = self.layers['Affine2'].db\n",
    "        \n",
    "        return grads\n",
    "        "
   ]
  },
  {
   "cell_type": "markdown",
   "id": "b8116c09-1d8c-4ed8-9b10-86a2d09c9497",
   "metadata": {},
   "source": [
    "## 7.6 CNN 시각화하기"
   ]
  },
  {
   "cell_type": "markdown",
   "id": "165f0551-45de-4e07-a844-4809988db904",
   "metadata": {},
   "source": [
    "### 7.6.1 1번째 층의 가중치 시각화하기"
   ]
  },
  {
   "cell_type": "markdown",
   "id": "be63cc27-480c-48db-8863-a1fe19f5c136",
   "metadata": {},
   "source": [
    "<img src=\"./images/7-24.png\" width=\"400\" height=\"400\"/>\n",
    "[7-24]"
   ]
  },
  {
   "cell_type": "markdown",
   "id": "356e2398-9864-4a41-b332-acbc07074321",
   "metadata": {},
   "source": [
    "* 학습 전 필터는 무작위로 초기화하기 때문에 흑백의 정도에 규칙성이 없다\n",
    "* 학습 후 필터는 규칙성 있는 이미지가 되었다"
   ]
  },
  {
   "cell_type": "markdown",
   "id": "dfe03f6b-c144-4673-95a7-45c3d1a24254",
   "metadata": {},
   "source": [
    "<img src=\"./images/7-25.png\" width=\"400\" height=\"400\"/>\n",
    "[7-25]"
   ]
  },
  {
   "cell_type": "markdown",
   "id": "d21859c7-a31a-48dd-8a85-1c099cb2ead1",
   "metadata": {},
   "source": [
    "* 에지 : 색상이 바뀐 경계선 / 블롭 : 국소적으로 덩어리진 영역 등을 필터가 반응"
   ]
  },
  {
   "cell_type": "markdown",
   "id": "11d627c9-12ae-482e-b4da-c9b09aef7099",
   "metadata": {},
   "source": [
    "### 7.6.2 층 깊이에 따른 추출 정보 변화"
   ]
  },
  {
   "cell_type": "markdown",
   "id": "27ebc6f7-6dc4-4855-9935-1b96b5464695",
   "metadata": {},
   "source": [
    "* 딥러닝 시각화에 관한 연구에 따르면 계층이 깊어질수록 추출되는 정보, 즉 강하게 반응하는 뉴런은 더 추상화된다"
   ]
  },
  {
   "cell_type": "markdown",
   "id": "0eec7884-45e7-47f2-9a8f-2ce114c403ef",
   "metadata": {},
   "source": [
    "* [7-26]은 일반 사물 인식을 수행한 8층 CNN : AlexNet"
   ]
  },
  {
   "cell_type": "markdown",
   "id": "a691d67c-a6e2-4af5-b9af-8e1983c5a10d",
   "metadata": {},
   "source": [
    "<img src=\"./images/7-26.png\" width=\"500\" height=\"500\"/>\n",
    "[7-26]"
   ]
  },
  {
   "cell_type": "markdown",
   "id": "f30341e4-e34e-49a0-a129-07281029da8c",
   "metadata": {},
   "source": [
    "* 1층은 에지와 블롭, 3층은 텍스처, 5층은 사물의 일부, 마지막 완전열결 계층은 사물의 클래스에 뉴런이 반응한다\n",
    "* 층이 깊어질수록 뉴런이 바응하는 대상이 단순한 모양에서 고급 정보롤 변화"
   ]
  },
  {
   "cell_type": "markdown",
   "id": "f76aa2f3-d0b7-4bd8-b7ce-f12dab5da8ae",
   "metadata": {},
   "source": [
    "## 7.7 대표적인 CNN"
   ]
  },
  {
   "cell_type": "markdown",
   "id": "d7df6f8b-7d3f-47f6-8dac-04ddc21c900f",
   "metadata": {},
   "source": [
    "### 7.7.1 LeNet"
   ]
  },
  {
   "cell_type": "markdown",
   "id": "35be7099-28b7-4c29-96bf-359f8fa70bf0",
   "metadata": {},
   "source": [
    "<img src=\"./images/7-27.png\" width=\"600\" height=\"600\"/>\n",
    "[7-27]"
   ]
  },
  {
   "cell_type": "markdown",
   "id": "f1e80da8-e8f9-499d-9ad4-f43cf3dcc660",
   "metadata": {
    "tags": []
   },
   "source": [
    "* 합성곱 계층과 풀링 계층(정확히는 원소를 줄이기만하는 서브샘플링 계층) 반복하고 마지막에 완전연결 계층을 통해 결과 출력\n",
    "* 현재 CNN과 비교하면 LaNet은 시그모이드 함수를 사용하는 데 반해 현재는 주로 ReLU를 사용\n",
    "* LaNet은 서브샘플링을 하여 중간 데이터의 크기가 작아지지만 현재는 Max Pooling이 주류\n"
   ]
  },
  {
   "cell_type": "markdown",
   "id": "e3a25cc1-b4a2-4a83-8362-86fe9b0b1c3f",
   "metadata": {},
   "source": [
    "### 7.7.2 AlexNet"
   ]
  },
  {
   "cell_type": "markdown",
   "id": "bb76c92b-96de-4aa3-ab67-7e603e0c95a6",
   "metadata": {},
   "source": [
    "<img src=\"./images/7-28.png\" width=\"500\" height=\"500\"/>\n",
    "[7-28]"
   ]
  },
  {
   "cell_type": "markdown",
   "id": "53c6f171-ec60-47a4-9dd1-02ff10a169a8",
   "metadata": {},
   "source": [
    "* 활성화 함수를 ReLU로 이용\n",
    "* LRN(Local Response Normalization)이라는 국소적 정규화 실시하는 계층 이용\n",
    "* 드롭아웃 이용"
   ]
  },
  {
   "cell_type": "markdown",
   "id": "7a3a3720-c48f-4a70-a33e-e12bbf27b058",
   "metadata": {},
   "source": [
    "#### (LaNet과 AlexNet을 보며...)"
   ]
  },
  {
   "cell_type": "markdown",
   "id": "57dc8f2d-b172-4a8f-b2de-ac4e14643c0a",
   "metadata": {},
   "source": [
    "* 네트워크 구성에 큰 차이는 없지만 컴퓨터 기술의 진보가 있었음\n",
    "* 대량의 데이터를 얻기 좋아졌고, 병렬 계산에 특화된 GPU가 보급되면서 대량의 연산 고속 수행 가능"
   ]
  },
  {
   "cell_type": "code",
   "execution_count": null,
   "id": "80c0329a-87c0-4d46-aa26-8eb1e0f3cf09",
   "metadata": {},
   "outputs": [],
   "source": []
  }
 ],
 "metadata": {
  "kernelspec": {
   "display_name": "Python 3 (ipykernel)",
   "language": "python",
   "name": "python3"
  },
  "language_info": {
   "codemirror_mode": {
    "name": "ipython",
    "version": 3
   },
   "file_extension": ".py",
   "mimetype": "text/x-python",
   "name": "python",
   "nbconvert_exporter": "python",
   "pygments_lexer": "ipython3",
   "version": "3.11.3"
  }
 },
 "nbformat": 4,
 "nbformat_minor": 5
}
