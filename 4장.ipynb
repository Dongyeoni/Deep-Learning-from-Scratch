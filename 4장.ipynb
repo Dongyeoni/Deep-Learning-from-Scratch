{
 "cells": [
  {
   "cell_type": "markdown",
   "id": "483b79e3-2ccf-4bae-bd2b-5b922c6244ce",
   "metadata": {},
   "source": [
    "# Chapter4. 신경망 학습"
   ]
  },
  {
   "cell_type": "markdown",
   "id": "faa06d2e-ce75-401d-9894-2960670a8d1b",
   "metadata": {},
   "source": [
    "* 학습 : 훈련 데이터로부터 가중치 매개변수의 최적값을 자동으로 획득\n",
    "* 손실함수 : 신경망이 학습할 수 있도록 해주는 지표"
   ]
  },
  {
   "cell_type": "markdown",
   "id": "20456f7d-4762-460f-a3f2-6eb186440ebd",
   "metadata": {},
   "source": [
    "## 4.1 데이터에서 학습한다!"
   ]
  },
  {
   "cell_type": "markdown",
   "id": "2553b565-98c9-4d58-b824-cc5ed23b16ba",
   "metadata": {},
   "source": [
    "3장에서는 매개변수를 수작업으로 설정해주었지만, 현실적으로 그것은 불가능함"
   ]
  },
  {
   "cell_type": "markdown",
   "id": "88efc0fb-77ba-420a-b2a8-2214e8c47722",
   "metadata": {},
   "source": [
    "### 4.1.1 데이터 주도 학습"
   ]
  },
  {
   "cell_type": "markdown",
   "id": "700388bd-ee2e-4640-baca-25602c03e6bd",
   "metadata": {},
   "source": [
    "(기계학습)\n",
    "* 모아진 데이터로부터 규칙을 찾아내는 역할을 기계가 담당\n",
    "* 이미지를 벡터로 변환할 때 사용하는 특징은 사람이 설계"
   ]
  },
  {
   "cell_type": "markdown",
   "id": "1a16f2e1-3ec4-4f4d-a36e-8159e7c1f2b0",
   "metadata": {
    "tags": []
   },
   "source": [
    "(딥러닝=신경망)\n",
    "* 사람이 개입하지 않음"
   ]
  },
  {
   "cell_type": "markdown",
   "id": "983c6cb1-1179-40ff-8607-7acbba3b02b3",
   "metadata": {
    "tags": []
   },
   "source": [
    "<img src=\"./images/4-2.png\" width=\"350\" height=\"350\"/>\n",
    "[4-2]"
   ]
  },
  {
   "cell_type": "markdown",
   "id": "54dd1a89-8cb5-4b33-b2f9-b74536066252",
   "metadata": {},
   "source": [
    "### 4.1.2 훈련 데이터와 시험 데이터"
   ]
  },
  {
   "cell_type": "markdown",
   "id": "9dd5b5b3-445c-4dd1-b9ad-4d23be03b0c5",
   "metadata": {},
   "source": [
    "(기계학습에서 데이터를 취급할 때 주의점)\n",
    "* 기계학습에서는 데이터를 훈련 데이터와 시험 데이터로 나눠 학습과 실험을 수행하는 것이 일반적\n",
    "* 범용 능력을 제대로 평가하기 위해 분리\n",
    "* 오버피팅을 피하는 것이 중요한 과제"
   ]
  },
  {
   "cell_type": "markdown",
   "id": "423c111c-177d-4442-af11-4e6b088bf361",
   "metadata": {},
   "source": [
    "## 4.2 손실함수"
   ]
  },
  {
   "cell_type": "markdown",
   "id": "0e62fea7-82cb-4540-9636-b6208774bd8e",
   "metadata": {},
   "source": [
    "* 손실 함수 : 신경망 성능의 나쁨을 나타내는 지표로 현재의 신경망이 훈련 데이터를 얼마나 잘 처리하지 못했는지를 나타냄"
   ]
  },
  {
   "cell_type": "markdown",
   "id": "233edd7b-774c-4cd9-9172-ead7d5e7ebf5",
   "metadata": {},
   "source": [
    "### 4.2.1 오차 제곱합"
   ]
  },
  {
   "cell_type": "markdown",
   "id": "9f97e78a-e955-428b-a084-b467129d4870",
   "metadata": {},
   "source": [
    "(Sum of Squares for Error; SSE)"
   ]
  },
  {
   "cell_type": "markdown",
   "id": "0d8c0e53-497a-42e9-a376-73473abba062",
   "metadata": {
    "tags": []
   },
   "source": [
    "<img src=\"./images/4.1.png\" width=\"200\" height=\"200\"/>\n",
    "(4.1)"
   ]
  },
  {
   "cell_type": "markdown",
   "id": "e68d99a5-65ca-4e00-a247-52b0dec8afed",
   "metadata": {},
   "source": [
    "* SSE는 오차의 제곱항으로 2를 나눌필요는 없지만, 델다 규직때문에 경사 하강법 과정중 발생할 수 있는 오류를 최소하하기 위함이라고 한다\n",
    "\n",
    "* 교재에는 위 식이 MSE(Mean Squared Error)로 되어 있다. MSE는 SSE를 자유도로 나눠준 식으로 위 식을 MSE라고 보기에는 어렵지 않을까 싶다. 하지만 앞으로 일단은 교재의 표기를 따르기로 한다."
   ]
  },
  {
   "cell_type": "code",
   "execution_count": 1,
   "id": "b60a0e9c-840c-4713-9535-3989fb3b1278",
   "metadata": {
    "tags": []
   },
   "outputs": [],
   "source": [
    "import numpy as np"
   ]
  },
  {
   "cell_type": "code",
   "execution_count": 2,
   "id": "364c793e-2727-44c7-9c83-5aa3eec52ea5",
   "metadata": {
    "tags": []
   },
   "outputs": [],
   "source": [
    "def mean_squared_error(y, t):\n",
    "    return 0.5 * np.sum((y-t)**2)"
   ]
  },
  {
   "cell_type": "code",
   "execution_count": 3,
   "id": "f0926e2a-193e-4664-9ec8-9829cab8fa57",
   "metadata": {
    "tags": []
   },
   "outputs": [],
   "source": [
    "# 예시"
   ]
  },
  {
   "cell_type": "code",
   "execution_count": 4,
   "id": "75b50108-73b1-4b50-a028-be74e490f624",
   "metadata": {
    "tags": []
   },
   "outputs": [],
   "source": [
    "t = [0,0,1,0,0,0,0,0,0,0] # 정답 2\n",
    "y =[0.1, 0.05, 0.6, 0.0, 0.05, 0.1, 0.0, 0.1, 0.0, 0.0] # 정답을 2라고 예측"
   ]
  },
  {
   "cell_type": "code",
   "execution_count": 5,
   "id": "30057169-65be-4d58-a349-a188bafe096a",
   "metadata": {
    "tags": []
   },
   "outputs": [
    {
     "data": {
      "text/plain": [
       "0.09750000000000003"
      ]
     },
     "execution_count": 5,
     "metadata": {},
     "output_type": "execute_result"
    }
   ],
   "source": [
    "mean_squared_error(np.array(y), np.array(t))"
   ]
  },
  {
   "cell_type": "code",
   "execution_count": 6,
   "id": "8f4ff496-220c-4013-99fd-0420b7071872",
   "metadata": {
    "tags": []
   },
   "outputs": [],
   "source": [
    "y = [0.1, 0.05, 0.1, 0.0, 0.05, 0.1, 0.0, 0.6, 0.0, 0.0] # 정답을 7이라고 예측"
   ]
  },
  {
   "cell_type": "code",
   "execution_count": 7,
   "id": "32402973-a4ef-4892-8243-d5694d5b2110",
   "metadata": {
    "tags": []
   },
   "outputs": [
    {
     "data": {
      "text/plain": [
       "0.5975"
      ]
     },
     "execution_count": 7,
     "metadata": {},
     "output_type": "execute_result"
    }
   ],
   "source": [
    "mean_squared_error(np.array(y), np.array(t))"
   ]
  },
  {
   "cell_type": "markdown",
   "id": "59483540-bd86-4e43-a35c-867fb1642eee",
   "metadata": {},
   "source": [
    "#### (결과의 해석)"
   ]
  },
  {
   "cell_type": "markdown",
   "id": "1fbb5c39-215c-4765-ab3e-a95c22f9a93c",
   "metadata": {},
   "source": [
    "* 손실 함수 쪽 출력이 작으면 정답 레이블과의 오차도 작을 것 같다.(즉, 정답일 확률이 높을 것 같다)"
   ]
  },
  {
   "cell_type": "markdown",
   "id": "9955e716-2b6b-48df-a174-7c8b82c1b3a1",
   "metadata": {},
   "source": [
    "### 4.2.2 교차 엔트로피 오차"
   ]
  },
  {
   "cell_type": "markdown",
   "id": "c4c462ab-9b54-4e11-8cd9-56a34c8f1b86",
   "metadata": {},
   "source": [
    "(Cross Entropy Error; CEE)"
   ]
  },
  {
   "cell_type": "markdown",
   "id": "e0ae8d9f-ace4-4f13-a249-195121376f32",
   "metadata": {
    "tags": []
   },
   "source": [
    "<img src=\"./images/4.2.png\" width=\"200\" height=\"200\"/>\n",
    "(4.2)"
   ]
  },
  {
   "cell_type": "markdown",
   "id": "114d58f1-d1da-4bff-b1fd-b4b7a1e6080d",
   "metadata": {},
   "source": [
    "#### (특징)"
   ]
  },
  {
   "cell_type": "markdown",
   "id": "0cf8adb3-24df-423c-88bf-085eaf810079",
   "metadata": {},
   "source": [
    "* 원-핫 인코딩과 함께라면 정답일 때의 자연로그를 계산하는 식이 된다"
   ]
  },
  {
   "cell_type": "code",
   "execution_count": 8,
   "id": "ce70f151-3f79-4652-b2ee-51e6ad6c7c6f",
   "metadata": {
    "tags": []
   },
   "outputs": [],
   "source": [
    "def cross_entropy_error(y, t):\n",
    "    delta = 1e-7\n",
    "    return -np.sum(t * np.log(y+delta))"
   ]
  },
  {
   "cell_type": "code",
   "execution_count": 9,
   "id": "f4e604c2-6abe-4c25-84a4-408e635abcc5",
   "metadata": {
    "tags": []
   },
   "outputs": [],
   "source": [
    "# 아까의 예시"
   ]
  },
  {
   "cell_type": "code",
   "execution_count": 10,
   "id": "f608d2f5-a40f-495b-9035-596f5634e211",
   "metadata": {
    "tags": []
   },
   "outputs": [],
   "source": [
    "t = [0,0,1,0,0,0,0,0,0,0] # 정답 2\n",
    "y =[0.1, 0.05, 0.6, 0.0, 0.05, 0.1, 0.0, 0.1, 0.0, 0.0] # 정답을 2라고 예측"
   ]
  },
  {
   "cell_type": "code",
   "execution_count": 11,
   "id": "ee7d7b22-bbcc-4000-bba5-2e3fcf24479f",
   "metadata": {
    "tags": []
   },
   "outputs": [
    {
     "data": {
      "text/plain": [
       "0.510825457099338"
      ]
     },
     "execution_count": 11,
     "metadata": {},
     "output_type": "execute_result"
    }
   ],
   "source": [
    "cross_entropy_error(np.array(y), np.array(t))"
   ]
  },
  {
   "cell_type": "code",
   "execution_count": 12,
   "id": "a9a9c0d5-2a1d-4cb6-8f8d-334f655447b7",
   "metadata": {
    "tags": []
   },
   "outputs": [],
   "source": [
    "y = [0.1, 0.05, 0.1, 0.0, 0.05, 0.1, 0.0, 0.6, 0.0, 0.0] # 정답을 7이라고 예측"
   ]
  },
  {
   "cell_type": "code",
   "execution_count": 13,
   "id": "52615b63-3b0b-4410-b339-f9d9db032010",
   "metadata": {
    "tags": []
   },
   "outputs": [
    {
     "data": {
      "text/plain": [
       "2.302584092994546"
      ]
     },
     "execution_count": 13,
     "metadata": {},
     "output_type": "execute_result"
    }
   ],
   "source": [
    "cross_entropy_error(np.array(y), np.array(t))"
   ]
  },
  {
   "cell_type": "markdown",
   "id": "7a87b7fc-4820-4c0d-b09a-e0ec632c4d78",
   "metadata": {},
   "source": [
    "#### (결과의 해석)"
   ]
  },
  {
   "cell_type": "markdown",
   "id": "3de2217f-c9e9-46fa-b2be-1508a6af68e6",
   "metadata": {
    "tags": []
   },
   "source": [
    "* 손실 함수 쪽 출력이 작으면 정답 레이블과의 오차도 작을 것 같다.(즉, 정답일 확률이 높을 것 같다)"
   ]
  },
  {
   "cell_type": "markdown",
   "id": "8d42713b-9547-4e55-aab8-1371a724cce6",
   "metadata": {},
   "source": [
    "### 4.2.3 미니배치 학습"
   ]
  },
  {
   "cell_type": "markdown",
   "id": "8802fe05-2af7-43ea-adb1-8a8a84d6a9ca",
   "metadata": {},
   "source": [
    "데이터 전체에 대한 교차 엔트로피 오차"
   ]
  },
  {
   "cell_type": "markdown",
   "id": "bc84cbf5-0410-4dfa-bc46-f64e44627153",
   "metadata": {
    "tags": []
   },
   "source": [
    "<img src=\"./images/4.3.png\" width=\"200\" height=\"200\"/>\n",
    "(4.3)"
   ]
  },
  {
   "cell_type": "markdown",
   "id": "08a2cdfc-483f-4a0a-a49c-cb57c6b66721",
   "metadata": {},
   "source": [
    "* 미니배치 : 모든 데이터를 대상으로 손실 함수의 합을 구하는 것이 비효율적이므로 일부만 골라서 수행하는 것\n",
    "* 미니배치 학습 : 훈련 데이터 중 가령 100장을 무작위로 뽑아 학습하는 것"
   ]
  },
  {
   "cell_type": "code",
   "execution_count": null,
   "id": "375e84a3-6508-46c0-9729-e29fafdd6ee1",
   "metadata": {},
   "outputs": [],
   "source": []
  },
  {
   "cell_type": "code",
   "execution_count": 14,
   "id": "ad93cb1b-22ef-4db7-8f34-ee1e7125faec",
   "metadata": {
    "tags": []
   },
   "outputs": [],
   "source": [
    "import sys, os\n",
    "sys.path.append(os.pardir)\n",
    "import numpy as np\n",
    "from dataset.mnist import load_mnist"
   ]
  },
  {
   "cell_type": "code",
   "execution_count": 15,
   "id": "4c859f64-1656-4d20-99ce-526e1cee8e4b",
   "metadata": {
    "tags": []
   },
   "outputs": [],
   "source": [
    "(x_train, t_train), (x_test, t_test) = load_mnist(normalize=True, one_hot_label=True)"
   ]
  },
  {
   "cell_type": "code",
   "execution_count": 16,
   "id": "6ddf3ac0-bbff-4eea-8e34-16df300eaba9",
   "metadata": {
    "tags": []
   },
   "outputs": [
    {
     "data": {
      "text/plain": [
       "(60000, 784)"
      ]
     },
     "execution_count": 16,
     "metadata": {},
     "output_type": "execute_result"
    }
   ],
   "source": [
    "x_train.shape"
   ]
  },
  {
   "cell_type": "code",
   "execution_count": 17,
   "id": "03853dbe-f0c4-40ca-a406-6576b6b5a06e",
   "metadata": {
    "tags": []
   },
   "outputs": [
    {
     "data": {
      "text/plain": [
       "(60000, 10)"
      ]
     },
     "execution_count": 17,
     "metadata": {},
     "output_type": "execute_result"
    }
   ],
   "source": [
    "t_train.shape"
   ]
  },
  {
   "cell_type": "code",
   "execution_count": 18,
   "id": "2f590d66-4ebf-4794-96a7-41d1ff9af1f6",
   "metadata": {
    "tags": []
   },
   "outputs": [],
   "source": [
    "# 랜덤으로 10장만 뽑기"
   ]
  },
  {
   "cell_type": "code",
   "execution_count": 19,
   "id": "cac9e288-6ce7-4cad-b3b7-c87fc689d64f",
   "metadata": {
    "tags": []
   },
   "outputs": [],
   "source": [
    "train_size = x_train.shape[0]"
   ]
  },
  {
   "cell_type": "code",
   "execution_count": 20,
   "id": "9f39be9b-ec4d-4581-929e-26b7150c7f5a",
   "metadata": {
    "tags": []
   },
   "outputs": [],
   "source": [
    "batch_size = 10"
   ]
  },
  {
   "cell_type": "code",
   "execution_count": 21,
   "id": "1e329ab7-4466-48c1-92f9-22bdde830553",
   "metadata": {
    "tags": []
   },
   "outputs": [],
   "source": [
    "batch_mask = np.random.choice(train_size, batch_size)"
   ]
  },
  {
   "cell_type": "code",
   "execution_count": 22,
   "id": "bebedacb-42c0-4610-9915-4d4baff7faf6",
   "metadata": {
    "tags": []
   },
   "outputs": [],
   "source": [
    "x_batch = x_train[batch_mask]\n",
    "t_batch = t_train[batch_mask]"
   ]
  },
  {
   "cell_type": "code",
   "execution_count": null,
   "id": "d25e3d7f-1bfe-4141-81b8-c20401d90bf0",
   "metadata": {},
   "outputs": [],
   "source": []
  },
  {
   "cell_type": "code",
   "execution_count": 23,
   "id": "38259bd5-b4e3-4715-a0c7-7d3c550a5f37",
   "metadata": {
    "tags": []
   },
   "outputs": [],
   "source": [
    "#np.random.choice 확인"
   ]
  },
  {
   "cell_type": "code",
   "execution_count": 24,
   "id": "5a856ddf-7865-4129-aa72-4e351ff27799",
   "metadata": {
    "tags": []
   },
   "outputs": [
    {
     "data": {
      "text/plain": [
       "array([ 8748, 40660, 40159, 49310, 35097, 33772, 28376, 22888, 23580,\n",
       "       44375])"
      ]
     },
     "execution_count": 24,
     "metadata": {},
     "output_type": "execute_result"
    }
   ],
   "source": [
    "np.random.choice(60000, 10)"
   ]
  },
  {
   "cell_type": "code",
   "execution_count": null,
   "id": "e72b6333-caef-4bf0-8574-d6f03e2d41c0",
   "metadata": {},
   "outputs": [],
   "source": []
  },
  {
   "cell_type": "markdown",
   "id": "a052fabf-c804-4110-a2c1-7ae23344be51",
   "metadata": {},
   "source": [
    "### 4.2.4 (배치용) 교차 엔트로피 오차 구현하기"
   ]
  },
  {
   "cell_type": "code",
   "execution_count": 25,
   "id": "0d94d43f-5176-4d13-b9ab-dc996d35e77a",
   "metadata": {
    "tags": []
   },
   "outputs": [],
   "source": [
    "# 데이터가 하나인 경우와 배치로 묶여 입력된 경우를 고려하여 설계"
   ]
  },
  {
   "cell_type": "code",
   "execution_count": 26,
   "id": "8cf5e8b0-26b7-4f3e-b388-77b32f6cbb80",
   "metadata": {
    "tags": []
   },
   "outputs": [],
   "source": [
    "def cross_entropy_error(y, t):\n",
    "    if y.ndim == 1:\n",
    "        t = t.reshape(1, t.size)\n",
    "        y = y.reshape(1, y.size)\n",
    "        \n",
    "    batch_size = y.shape[0]\n",
    "    \n",
    "    return -np.sum(t * np.log(y)) / batch_size"
   ]
  },
  {
   "cell_type": "code",
   "execution_count": 27,
   "id": "86e94f07-3553-4f58-841d-c831ae78bdb9",
   "metadata": {
    "tags": []
   },
   "outputs": [],
   "source": [
    "#### 원핫인코딩 고려하면 0이 아닐 때만 계산하면 된다"
   ]
  },
  {
   "cell_type": "code",
   "execution_count": 28,
   "id": "f26fb575-1c40-47b2-a9ba-2737079bd755",
   "metadata": {
    "tags": []
   },
   "outputs": [],
   "source": [
    "def cross_entropy_error(y, t):\n",
    "    if y.ndim == 1:\n",
    "        t = t.reshape(1, t.size)\n",
    "        y = y.reshape(1, y.size)\n",
    "        \n",
    "    batch_size = y.shape[0]\n",
    "    \n",
    "    return -np.sum(np.log(y[np.arange(batch_size), t])) / batch_size"
   ]
  },
  {
   "cell_type": "markdown",
   "id": "76ad596c-4434-4087-abc5-e2e69f04537d",
   "metadata": {},
   "source": [
    "### 4.2.5 왜 손실 함수를 설정하는가?"
   ]
  },
  {
   "cell_type": "markdown",
   "id": "06abdde4-efa3-49e0-9543-a439a36c4d86",
   "metadata": {},
   "source": [
    "#### (의문점)"
   ]
  },
  {
   "cell_type": "markdown",
   "id": "01d2f81b-9add-4dfb-9526-594079456bd4",
   "metadata": {
    "tags": []
   },
   "source": [
    "* 궁극적인 목표는 높은 정확도인데 정확도라는 지표 대신 손실 함수를 사용하는 이유는 무엇인가\n",
    "    * => 미분 때문\n",
    "    * => 신경망학습은 최적의 매개변수(가중치와 편향)를 탐색할 때 손실 함수의 값을 가능한 한 작게 하는 매개변수 값을 찾음(우리는 손실함수의 값을 최소화해야하는 과제를 가지고 있다)\n",
    "    * => 매개변수의 미분(정확히는 기울기)를 계산하고, 그 미분 값을 단서로 매개변수의 값을 갱신하는 과정 반복\n",
    "    * 미분값이 0이면 매개변수의 갱신은 멈춤\n",
    "    * 이 때 포인트는 가중치 매개변수의 값을 아주 조금 변화시켰을 때, 손실함수가 어떻게 변하는지의 차원에서 미분을 함\n",
    "    * => 미분 값이 음수면 가중치 매개변수를 양의 방향으로 변화시키고 양수면 음의 방향으로 변화시켜 손실 함수의 값을 줄여 최종적으로 0을 만듦\n"
   ]
  },
  {
   "cell_type": "markdown",
   "id": "575f55f2-63fb-4565-aaa2-4dde34283276",
   "metadata": {},
   "source": [
    "#### (아이디어 예시) \n",
    "* 최고차항이 양수인 이차함수를 생각한다. 기울기가 양수인 점에서는 값을 감소시켜야 최솟값에 다가가고 기울기가 음수인 곳에서는 값을 증가시켜야 최솟값에 다가간다. "
   ]
  },
  {
   "cell_type": "markdown",
   "id": "07627189-5098-427d-9400-72c404d7de22",
   "metadata": {},
   "source": [
    "#### (정확도를 쓰면 안 되는 이유)"
   ]
  },
  {
   "cell_type": "markdown",
   "id": "cca0f334-20f9-4e87-a074-48453d5bf34d",
   "metadata": {
    "tags": []
   },
   "source": [
    "* 정확도는 미분 값이 대부분의 장소에서 0이 되어 매개변수를 갱신할 수 없음\n",
    "    * 정확도를 미분하면 왜 0이 되는가?\n",
    "    * => 정확도를 예를 들면 100장의 데이터 중 32장을 올바르게 인식한다면 32%이다\n",
    "    * => 매개변수 조정시에도 정확도는 32.1234%와 같은 값을 가질 수 없다.\n",
    "    * => 정확도는 연속적이지 않다. 즉 불연속적이고 계단함수와 같다.\n",
    "    * => 계단함수는 미분하면 0이다(대부분의 점에서)"
   ]
  },
  {
   "cell_type": "markdown",
   "id": "63be16c3-4cc7-4e0a-9371-d49625c382ed",
   "metadata": {},
   "source": [
    "## 4.3 수치 미분"
   ]
  },
  {
   "cell_type": "markdown",
   "id": "dbf87a2e-92cc-423f-8feb-00ead48c38c6",
   "metadata": {},
   "source": [
    "### 4.3.1 미분"
   ]
  },
  {
   "cell_type": "markdown",
   "id": "a29f589a-eb03-48b3-8338-a1dc2421181d",
   "metadata": {},
   "source": [
    "(정의)"
   ]
  },
  {
   "cell_type": "markdown",
   "id": "fce6411e-926e-4b78-aeb3-0934b539c54a",
   "metadata": {},
   "source": [
    "<img src=\"./images/4.4.png\" width=\"300\" height=\"300\"/>\n",
    "(4.4)"
   ]
  },
  {
   "cell_type": "code",
   "execution_count": 29,
   "id": "1a846f87-c92a-4cf9-87c1-fba4cc93fa61",
   "metadata": {
    "tags": []
   },
   "outputs": [],
   "source": [
    "# 나쁜 구현 "
   ]
  },
  {
   "cell_type": "code",
   "execution_count": 30,
   "id": "aef6e077-5608-46c9-a7ae-f359abeb5228",
   "metadata": {
    "tags": []
   },
   "outputs": [],
   "source": [
    "def numerical_diff(f, x):\n",
    "    h = 10e-50\n",
    "    \n",
    "    return (f(x+h)-f(x)) / h"
   ]
  },
  {
   "cell_type": "markdown",
   "id": "ce0bad1b-039a-4f62-8e4b-c7f2487fa683",
   "metadata": {},
   "source": [
    "#### 위의 예시 코드는 반올림 오차의 문제를 일으킨다\n",
    "* 반올림 오차 : 작은값(예를들면 소수 8자리 이하)이 생략되어 최종 계산 결과에 오차가 생기는 현상"
   ]
  },
  {
   "cell_type": "code",
   "execution_count": 31,
   "id": "19eb6686-f08a-4dbb-8494-31f92c4b0f1d",
   "metadata": {
    "tags": []
   },
   "outputs": [
    {
     "data": {
      "text/plain": [
       "0.0"
      ]
     },
     "execution_count": 31,
     "metadata": {},
     "output_type": "execute_result"
    }
   ],
   "source": [
    "np.float32(1e-50) # 0은 아닌데.... 0이 나온다"
   ]
  },
  {
   "cell_type": "markdown",
   "id": "a3c7787c-8bb0-4665-b0ab-e2712279e7f0",
   "metadata": {},
   "source": [
    "#### 개선방향\n",
    "* h 를 $10^{-4}$ 정도로 이용한다\n",
    "* 해당 값은 좋은 결과를 준다고 알려져 있다.\n",
    "* h는 무한히 0으로 좁히는 것이 불가능하기 때문에 차분과 관련한 문제가 생긴다.\n",
    "* 오차를 줄이기 위해 중심 차분(중앙 차분)을 이용한다 => (x+h)와 (x-h)일 때의 f의 차분 이용"
   ]
  },
  {
   "cell_type": "code",
   "execution_count": 32,
   "id": "f2f5b337-bc9f-4286-9e85-14228816f65f",
   "metadata": {
    "tags": []
   },
   "outputs": [],
   "source": [
    "def numerical_diff(f,x):\n",
    "    h = 1e-4\n",
    "    return (f(x+h) - f(x-h)) / (2*h)"
   ]
  },
  {
   "cell_type": "markdown",
   "id": "4fbab90b-f4a0-4313-8a8e-a4982f9b0cd9",
   "metadata": {},
   "source": [
    "* 수치 미분 : 아주 작은 차분으로 미분을 구하는 것\n",
    "* 해석적 미분을 이용하면 오차를 포함하지 않는 미분 값을 구할 수 있다"
   ]
  },
  {
   "cell_type": "code",
   "execution_count": null,
   "id": "3b64c15c-e213-4797-ac09-b2ccbd826d4c",
   "metadata": {},
   "outputs": [],
   "source": []
  },
  {
   "cell_type": "markdown",
   "id": "46aa286c-72e2-4b9c-b924-8379f871de88",
   "metadata": {},
   "source": [
    "### 4.3.2 수치 미분의 예"
   ]
  },
  {
   "cell_type": "markdown",
   "id": "8aaeecf1-48e4-4ea3-a42d-7e31dcdf70f2",
   "metadata": {},
   "source": [
    "<img src=\"./images/4.5.png\" width=\"150\" height=\"150\"/>\n",
    "(4.5)"
   ]
  },
  {
   "cell_type": "code",
   "execution_count": 33,
   "id": "7f49d497-d864-4642-be8b-8fd39062b3de",
   "metadata": {
    "tags": []
   },
   "outputs": [],
   "source": [
    "def function_1(x):\n",
    "    return 0.01*x**2 + 0.1 * x"
   ]
  },
  {
   "cell_type": "code",
   "execution_count": 34,
   "id": "4f422728-b3c9-4617-8fe9-adc102ddd357",
   "metadata": {
    "tags": []
   },
   "outputs": [],
   "source": [
    "import numpy as np\n",
    "import matplotlib.pyplot as plt"
   ]
  },
  {
   "cell_type": "code",
   "execution_count": 35,
   "id": "4b9242e1-136e-4b18-b6df-dbc48292de94",
   "metadata": {
    "tags": []
   },
   "outputs": [
    {
     "data": {
      "image/png": "[encoded data removed]",
      "text/plain": [
       "<Figure size 640x480 with 1 Axes>"
      ]
     },
     "metadata": {},
     "output_type": "display_data"
    }
   ],
   "source": [
    "x = np.arange(0.0, 20.0, 0.1)\n",
    "y = function_1(x)\n",
    "plt.xlabel(\"x\")\n",
    "plt.ylabel(\"y\")\n",
    "plt.plot(x, y)\n",
    "plt.show()"
   ]
  },
  {
   "cell_type": "code",
   "execution_count": 36,
   "id": "3d076d29-00d1-4e87-84bb-c230e0370789",
   "metadata": {
    "tags": []
   },
   "outputs": [
    {
     "data": {
      "text/plain": [
       "0.1999999999990898"
      ]
     },
     "execution_count": 36,
     "metadata": {},
     "output_type": "execute_result"
    }
   ],
   "source": [
    "numerical_diff(function_1, 5)"
   ]
  },
  {
   "cell_type": "code",
   "execution_count": 37,
   "id": "27801da0-9b54-43b2-bb34-5606e6d2a31f",
   "metadata": {
    "tags": []
   },
   "outputs": [
    {
     "data": {
      "text/plain": [
       "0.2999999999986347"
      ]
     },
     "execution_count": 37,
     "metadata": {},
     "output_type": "execute_result"
    }
   ],
   "source": [
    "numerical_diff(function_1, 10)"
   ]
  },
  {
   "cell_type": "code",
   "execution_count": 38,
   "id": "fe96db5e-59e4-4ade-b32b-05ea96fa6e07",
   "metadata": {
    "tags": []
   },
   "outputs": [],
   "source": [
    "# 접선 함수 구현"
   ]
  },
  {
   "cell_type": "code",
   "execution_count": 39,
   "id": "ada09056-dcb3-460d-80ad-03270882eab7",
   "metadata": {
    "tags": []
   },
   "outputs": [],
   "source": [
    "def tangent_line(f, x):\n",
    "    m = numerical_diff(f, x) #기울기\n",
    "    \n",
    "    return lambda t: m*(t-x) + f(x) # f(t) = m(t-x)+f(x) 는 점 (x,f(x))를 지나고 기울기가 m인 직선"
   ]
  },
  {
   "cell_type": "code",
   "execution_count": 40,
   "id": "003c7ef9-71dd-4ef5-adec-f4d1134fa837",
   "metadata": {
    "tags": []
   },
   "outputs": [
    {
     "data": {
      "image/png": "[encoded data removed]",
      "text/plain": [
       "<Figure size 640x480 with 1 Axes>"
      ]
     },
     "metadata": {},
     "output_type": "display_data"
    }
   ],
   "source": [
    "tf1 = tangent_line(function_1, 5) # 함수 정의\n",
    "tf2 = tangent_line(function_1, 10) # 함수 정의\n",
    "y2 = tf1(x)\n",
    "y3 = tf2(x)\n",
    "\n",
    "plt.plot(x, y)\n",
    "plt.plot(x, y2)\n",
    "plt.plot(x, y3)\n",
    "plt.show()"
   ]
  },
  {
   "cell_type": "markdown",
   "id": "bf225cf4-98a2-4280-a403-f2a026198367",
   "metadata": {},
   "source": [
    "### 4.3.3 편미분"
   ]
  },
  {
   "cell_type": "markdown",
   "id": "e5a62be5-8327-4166-b707-70daa8c44a10",
   "metadata": {},
   "source": [
    "<img src=\"./images/4.6.png\" width=\"150\" height=\"150\"/>\n",
    "(4.6)"
   ]
  },
  {
   "cell_type": "code",
   "execution_count": 41,
   "id": "abeaae07-3200-4f9b-910c-bfaaad552551",
   "metadata": {
    "tags": []
   },
   "outputs": [],
   "source": [
    "def function_2(x):\n",
    "    return x[0]**2 + x[1]**2 # np.sum(x**2)"
   ]
  },
  {
   "cell_type": "markdown",
   "id": "99e6a0d4-e9db-4b33-a57d-cd8def873686",
   "metadata": {},
   "source": [
    "#### (문제1)  $  x_0 = 3, x_1 = 4$일 때 $x_0$에 대한 편미분 구하기 "
   ]
  },
  {
   "cell_type": "code",
   "execution_count": 42,
   "id": "2e712cd8-b075-4c6a-9dc7-9bb11d9f0f9f",
   "metadata": {
    "tags": []
   },
   "outputs": [],
   "source": [
    "def function_tmp1(x0):\n",
    "    return x0*x0 + 4.0**2.0"
   ]
  },
  {
   "cell_type": "code",
   "execution_count": 43,
   "id": "877a5351-d2d8-4e6a-bb7a-ffe826804ea5",
   "metadata": {
    "tags": []
   },
   "outputs": [
    {
     "data": {
      "text/plain": [
       "6.00000000000378"
      ]
     },
     "execution_count": 43,
     "metadata": {},
     "output_type": "execute_result"
    }
   ],
   "source": [
    "numerical_diff(function_tmp1, 3.0)"
   ]
  },
  {
   "cell_type": "markdown",
   "id": "d777b345-b6c0-48aa-8365-42979003b91b",
   "metadata": {},
   "source": [
    "#### (문제2) $ x_0 = 3, x_1 = 4$일 때 $x_1$에 대한 편미분 구하기 "
   ]
  },
  {
   "cell_type": "code",
   "execution_count": 44,
   "id": "473cb77c-75af-49b5-89ab-70ffc6e8e302",
   "metadata": {
    "tags": []
   },
   "outputs": [],
   "source": [
    "def function_tmp2(x1):\n",
    "    return 3.0**2.0 + x1*x1"
   ]
  },
  {
   "cell_type": "code",
   "execution_count": 45,
   "id": "ff6b28a6-25c9-4d09-8dcb-b9f528ccb2eb",
   "metadata": {
    "tags": []
   },
   "outputs": [
    {
     "data": {
      "text/plain": [
       "7.999999999999119"
      ]
     },
     "execution_count": 45,
     "metadata": {},
     "output_type": "execute_result"
    }
   ],
   "source": [
    "numerical_diff(function_tmp2, 4.0)"
   ]
  },
  {
   "cell_type": "code",
   "execution_count": null,
   "id": "ff3e728b-bf08-4fd5-b959-ee1448c758e5",
   "metadata": {},
   "outputs": [],
   "source": []
  },
  {
   "cell_type": "markdown",
   "id": "96d7f8d6-2b1c-4734-92e2-96556bd779c1",
   "metadata": {},
   "source": [
    "## 4.4 기울기"
   ]
  },
  {
   "cell_type": "markdown",
   "id": "64a77ade-34f6-40f7-a55b-f449a6cc3b1f",
   "metadata": {},
   "source": [
    "* 기울기 : 모든 변수의 편미분을 벡터로 정리한 것"
   ]
  },
  {
   "cell_type": "code",
   "execution_count": 46,
   "id": "a4c06b03-203d-4ca6-854f-136716465841",
   "metadata": {
    "tags": []
   },
   "outputs": [],
   "source": [
    "def numerical_gradient(f,x):\n",
    "    h = 1e-4\n",
    "    grad = np.zeros_like(x)\n",
    "    \n",
    "    for idx in range(x.size):\n",
    "        tmp_val = x[idx]\n",
    "        x[idx] = tmp_val + h\n",
    "        fxh1 = f(x)\n",
    "        \n",
    "        #f(x-h) 계산\n",
    "        x[idx] = tmp_val -h\n",
    "        fxh2 = f(x)\n",
    "        \n",
    "        grad[idx] = (fxh1 - fxh2) / (2*h)\n",
    "        x[idx] = tmp_val\n",
    "    \n",
    "    return grad"
   ]
  },
  {
   "cell_type": "code",
   "execution_count": 47,
   "id": "f440f931-f3bd-43e0-8272-df4321a1f4a0",
   "metadata": {
    "tags": []
   },
   "outputs": [
    {
     "data": {
      "text/plain": [
       "array([6., 8.])"
      ]
     },
     "execution_count": 47,
     "metadata": {},
     "output_type": "execute_result"
    }
   ],
   "source": [
    "numerical_gradient(function_2, np.array([3.0, 4.0]))"
   ]
  },
  {
   "cell_type": "code",
   "execution_count": 48,
   "id": "1c32f91c-064b-4115-bd1e-d7a1de72bdcd",
   "metadata": {
    "tags": []
   },
   "outputs": [
    {
     "data": {
      "text/plain": [
       "array([0., 4.])"
      ]
     },
     "execution_count": 48,
     "metadata": {},
     "output_type": "execute_result"
    }
   ],
   "source": [
    "numerical_gradient(function_2, np.array([0.0, 2.0]))"
   ]
  },
  {
   "cell_type": "code",
   "execution_count": 49,
   "id": "5a54f7fc-6c44-4998-8cab-004159f48f60",
   "metadata": {
    "tags": []
   },
   "outputs": [
    {
     "data": {
      "text/plain": [
       "array([6., 0.])"
      ]
     },
     "execution_count": 49,
     "metadata": {},
     "output_type": "execute_result"
    }
   ],
   "source": [
    "numerical_gradient(function_2, np.array([3.0, 0.0]))"
   ]
  },
  {
   "cell_type": "markdown",
   "id": "84e71923-8cf3-4293-9d1f-a423d88b2a06",
   "metadata": {},
   "source": [
    "#### $\n",
    "f(x_0, x_1) = x_0^2 + x_1^2$ 의 기울기\n"
   ]
  },
  {
   "cell_type": "markdown",
   "id": "4b98a152-04ce-42d1-84bb-110158feefe4",
   "metadata": {
    "tags": []
   },
   "source": [
    "<img src=\"./images/4-9.png\" width=\"300\" height=\"300\"/>\n",
    "[4-9]"
   ]
  },
  {
   "cell_type": "markdown",
   "id": "55f690fb-6ad7-414c-b908-f602973a5ed5",
   "metadata": {},
   "source": [
    "(정리)\n",
    "* 기울기는 각 지점에서 낮아지는 방향을 가리킨다(국소적으로)\n",
    "* 기울기가 가리키는 쪽은 각 장소에서 함수의 출력 값을 가장 줄이는 방향\n"
   ]
  },
  {
   "cell_type": "markdown",
   "id": "30c56450-93b9-46c9-86c5-9b44b423f645",
   "metadata": {},
   "source": [
    "### 4.4.1 경사법(경사 하강법)"
   ]
  },
  {
   "cell_type": "markdown",
   "id": "fd903e0c-02ac-41d1-a1b8-eaad7ffd2829",
   "metadata": {},
   "source": [
    "* 최적 : 손실 함수가 최솟값이 될 때의 매개변수"
   ]
  },
  {
   "cell_type": "markdown",
   "id": "1d55e3ba-fe24-4419-b561-92aad9129a8d",
   "metadata": {},
   "source": [
    "#### (주의점)\n",
    "* 함수의 극솟값, 최솟값, 안장점에서 기울기가 0이다(역은 반드시 성립하는 것은 아님)\n",
    "* 안장점 : 방향에 따라 극댓값이면서 극소값이 동시에 되는 점\n",
    "* 경사법은 기울기가 0인 점을 찾지만, 반드시 최솟값을 찾을 수 있는 것은 아님(극솟값or 안장점 가능성 존재)\n",
    "* 평평한 곳의 고원(plateau)에서 학습이 진행되지 않을 가능성 존재"
   ]
  },
  {
   "cell_type": "markdown",
   "id": "73e4ee24-662b-4931-acb9-1c980990800e",
   "metadata": {},
   "source": [
    "#### (경사하강법)\n",
    "* 현 위치에서 기울어진 방향으로 일정 거리만큼 이동\n",
    "* 이동한 곳에서 기울기를 구하고 기울기에 따라 손실함수를 최소화할 수 있는 방향으로 이동"
   ]
  },
  {
   "cell_type": "code",
   "execution_count": null,
   "id": "100100e3-486f-4944-b237-f97a7dc80d8a",
   "metadata": {},
   "outputs": [],
   "source": []
  },
  {
   "cell_type": "markdown",
   "id": "0afeb671-a0d0-4454-8792-00f594293e25",
   "metadata": {},
   "source": [
    "#### (경사하강법의 수식) 학습률 에타(η) : 적당한 값으로 정해야 한다."
   ]
  },
  {
   "cell_type": "markdown",
   "id": "e54c738e-6408-4db2-a2e0-34fa944b94e9",
   "metadata": {},
   "source": [
    "<img src=\"./images/4.7.png\" width=\"100\" height=\"100\"/>\n",
    "(4.7)"
   ]
  },
  {
   "cell_type": "code",
   "execution_count": null,
   "id": "2b974a3a-546e-47b4-b68f-696f098f14db",
   "metadata": {},
   "outputs": [],
   "source": []
  },
  {
   "cell_type": "code",
   "execution_count": 50,
   "id": "19d0e403-1459-4ff9-a12c-e0f403ca1e2a",
   "metadata": {
    "tags": []
   },
   "outputs": [],
   "source": [
    "def gradient_descent(f, init_x, lr = 0.01, step_num =100):\n",
    "    x = init_x\n",
    "    \n",
    "    for i in range(step_num):\n",
    "        grad = numerical_gradient(f,x)\n",
    "        x -= lr* grad\n",
    "        \n",
    "    return x"
   ]
  },
  {
   "cell_type": "code",
   "execution_count": null,
   "id": "72ed0726-588b-476c-9ba2-660cf55df02a",
   "metadata": {},
   "outputs": [],
   "source": []
  },
  {
   "cell_type": "markdown",
   "id": "c7258441-c394-4860-a5d9-484a362f9853",
   "metadata": {},
   "source": [
    "#### (문제) $f(x_0, x_1) = x_0^2+x_1^2$의 최솟값 구하기"
   ]
  },
  {
   "cell_type": "code",
   "execution_count": 51,
   "id": "b4a88385-79a6-432c-8417-4911604682e1",
   "metadata": {
    "tags": []
   },
   "outputs": [],
   "source": [
    "def function_2(x):\n",
    "    return x[0]**2 + x[1]**2"
   ]
  },
  {
   "cell_type": "code",
   "execution_count": 52,
   "id": "58352b09-24e4-467e-b92a-d963e13e73bb",
   "metadata": {
    "tags": []
   },
   "outputs": [
    {
     "data": {
      "text/plain": [
       "array([-6.11110793e-10,  8.14814391e-10])"
      ]
     },
     "execution_count": 52,
     "metadata": {},
     "output_type": "execute_result"
    }
   ],
   "source": [
    "init_x = np.array([-3.0, 4.0])\n",
    "gradient_descent(function_2, init_x=init_x, lr=0.1, step_num =100)"
   ]
  },
  {
   "cell_type": "markdown",
   "id": "4279db3e-8f03-4827-8bb9-bf8fc9037f66",
   "metadata": {},
   "source": [
    "<img src=\"./images/4-10.png\" width=\"300\" height=\"300\"/>\n",
    "[4-10]"
   ]
  },
  {
   "cell_type": "markdown",
   "id": "87c1ad75-c7ff-42d5-996b-eb3291cb699c",
   "metadata": {
    "tags": []
   },
   "source": [
    "### 적당한 학습률이 뭐야? => 하이퍼파라미터 조정...."
   ]
  },
  {
   "cell_type": "code",
   "execution_count": 53,
   "id": "337c9f38-251d-4a0c-99d6-415271df8ba4",
   "metadata": {
    "tags": []
   },
   "outputs": [],
   "source": [
    "# 학습률이 너무 클 때"
   ]
  },
  {
   "cell_type": "code",
   "execution_count": 54,
   "id": "97d3fcb5-f866-414a-bcc5-b35effdafaec",
   "metadata": {
    "tags": []
   },
   "outputs": [
    {
     "data": {
      "text/plain": [
       "array([-2.58983747e+13, -1.29524862e+12])"
      ]
     },
     "execution_count": 54,
     "metadata": {},
     "output_type": "execute_result"
    }
   ],
   "source": [
    "init_x = np.array([-3.0, 4.0])\n",
    "gradient_descent(function_2, init_x=init_x, lr=10.0, step_num =100)"
   ]
  },
  {
   "cell_type": "code",
   "execution_count": 55,
   "id": "74cfe834-db7f-4ea4-9b32-97caf1b62cf2",
   "metadata": {
    "tags": []
   },
   "outputs": [],
   "source": [
    "# 학습률이 너무 작을 때"
   ]
  },
  {
   "cell_type": "code",
   "execution_count": 56,
   "id": "0948d640-ff37-4a14-9f3e-7779cc4037b5",
   "metadata": {
    "tags": []
   },
   "outputs": [
    {
     "data": {
      "text/plain": [
       "array([-2.99999994,  3.99999992])"
      ]
     },
     "execution_count": 56,
     "metadata": {},
     "output_type": "execute_result"
    }
   ],
   "source": [
    "init_x = np.array([-3.0, 4.0])\n",
    "gradient_descent(function_2, init_x=init_x, lr=1e-10, step_num =100)"
   ]
  },
  {
   "cell_type": "markdown",
   "id": "bb3ecad8-03b8-467c-ba6c-684e323084e9",
   "metadata": {},
   "source": [
    "(해석)\n",
    "* 학습률이 너무 큰 경우 큰 값으로 발산해버렸다\n",
    "* 학습률이 너무 작은 경우 거의 갱신이 되지 않았다"
   ]
  },
  {
   "cell_type": "markdown",
   "id": "067d775d-1cc8-488f-806c-7c1e26e00591",
   "metadata": {},
   "source": [
    "#### (하이퍼 파라미터)\n",
    "* 사람이 직접 설정해야하는 매개변수로 학습률 같은 매개변수"
   ]
  },
  {
   "cell_type": "markdown",
   "id": "38ba6cc5-398d-4c66-8434-8cd9c3ad6b38",
   "metadata": {},
   "source": [
    "### 4.4.2 신경망에서의 기울기"
   ]
  },
  {
   "cell_type": "markdown",
   "id": "5a4e52d6-c696-4c74-9839-706eb8ff9be7",
   "metadata": {
    "tags": []
   },
   "source": [
    "<img src=\"./images/4.8.png\" width=\"200\" height=\"200\"/>\n",
    "(4.8)"
   ]
  },
  {
   "cell_type": "code",
   "execution_count": 57,
   "id": "c714adf2-c6c1-4184-a403-a492bd7286f9",
   "metadata": {
    "tags": []
   },
   "outputs": [],
   "source": [
    "# 신경망 학습의 기울기"
   ]
  },
  {
   "cell_type": "code",
   "execution_count": 58,
   "id": "839ba16f-feb8-4c5d-b619-9a0e536bf304",
   "metadata": {
    "tags": []
   },
   "outputs": [],
   "source": [
    "import sys, os\n",
    "sys.path.append(os.pardir)\n",
    "import numpy as np\n",
    "from common.functions import softmax, cross_entropy_error\n",
    "from common.gradient import numerical_gradient"
   ]
  },
  {
   "cell_type": "code",
   "execution_count": 59,
   "id": "0ff57061-9ca4-4345-86c6-e8603a865438",
   "metadata": {
    "tags": []
   },
   "outputs": [],
   "source": [
    "class simpleNet:\n",
    "    def __init__(self):\n",
    "        self.W = np.random.randn(2,3)\n",
    "    \n",
    "    def predict(self, x):\n",
    "        \n",
    "        return np.dot(x, self.W)\n",
    "    \n",
    "    def loss(self, x, t):\n",
    "        z = self.predict(x)\n",
    "        y = softmax(z)\n",
    "        loss = cross_entropy_error(y,t)\n",
    "        \n",
    "        return loss"
   ]
  },
  {
   "cell_type": "code",
   "execution_count": 60,
   "id": "5f385db9-7b10-41d2-a5cf-4c41ff58426a",
   "metadata": {
    "tags": []
   },
   "outputs": [],
   "source": [
    "net = simpleNet()"
   ]
  },
  {
   "cell_type": "code",
   "execution_count": 61,
   "id": "a7e67ca7-0ad5-481b-ad0f-243e8de13834",
   "metadata": {
    "tags": []
   },
   "outputs": [
    {
     "name": "stdout",
     "output_type": "stream",
     "text": [
      "[[ 0.52710882 -0.14483765 -1.6038739 ]\n",
      " [-0.90885584 -1.45719563  0.09078074]]\n"
     ]
    }
   ],
   "source": [
    "print(net.W)"
   ]
  },
  {
   "cell_type": "code",
   "execution_count": 62,
   "id": "c7c8bcc8-4d8a-4043-b45c-14b9d5b7f4a7",
   "metadata": {
    "tags": []
   },
   "outputs": [],
   "source": [
    "x = np.array([0.6, 0.9])\n",
    "p = net.predict(x)"
   ]
  },
  {
   "cell_type": "code",
   "execution_count": 63,
   "id": "79af63c3-66c1-4c4e-b538-7ecf501f1d33",
   "metadata": {
    "tags": []
   },
   "outputs": [
    {
     "data": {
      "text/plain": [
       "array([-0.50170497, -1.39837865, -0.88062167])"
      ]
     },
     "execution_count": 63,
     "metadata": {},
     "output_type": "execute_result"
    }
   ],
   "source": [
    "p"
   ]
  },
  {
   "cell_type": "code",
   "execution_count": 64,
   "id": "9ce3ed97-77ec-485a-b795-fd7bae381fb6",
   "metadata": {
    "tags": []
   },
   "outputs": [
    {
     "data": {
      "text/plain": [
       "0"
      ]
     },
     "execution_count": 64,
     "metadata": {},
     "output_type": "execute_result"
    }
   ],
   "source": [
    "np.argmax(p)"
   ]
  },
  {
   "cell_type": "code",
   "execution_count": 65,
   "id": "3e958b93-f8cd-443a-8c3b-af7df5706817",
   "metadata": {
    "tags": []
   },
   "outputs": [],
   "source": [
    "t = np.array([0, 0, 1])"
   ]
  },
  {
   "cell_type": "code",
   "execution_count": 66,
   "id": "361b16ee-a4f7-4e35-bb07-cdb1a15e5410",
   "metadata": {
    "tags": []
   },
   "outputs": [
    {
     "data": {
      "text/plain": [
       "1.117288789341996"
      ]
     },
     "execution_count": 66,
     "metadata": {},
     "output_type": "execute_result"
    }
   ],
   "source": [
    "net.loss(x,t)"
   ]
  },
  {
   "cell_type": "code",
   "execution_count": 67,
   "id": "65a9a666-8703-4ce0-836b-ce1d6d79a75d",
   "metadata": {
    "tags": []
   },
   "outputs": [],
   "source": [
    "def f(W):\n",
    "    return net.loss(x, t)"
   ]
  },
  {
   "cell_type": "code",
   "execution_count": 68,
   "id": "3ab7d240-b42c-4a41-b09b-fa0225e6b3e1",
   "metadata": {
    "tags": []
   },
   "outputs": [],
   "source": [
    "dW = numerical_gradient(f, net.W)  ###근데 책에서는 numberical_gradient를 약간 수정했다고 한다... 소스코드는 깃허브를 참고해야한다."
   ]
  },
  {
   "cell_type": "code",
   "execution_count": 69,
   "id": "6f2e4b80-f84a-4f6b-9999-0564372f6638",
   "metadata": {
    "tags": []
   },
   "outputs": [
    {
     "data": {
      "text/plain": [
       "array([[ 0.28673457,  0.116966  , -0.40370057],\n",
       "       [ 0.43010186,  0.175449  , -0.60555086]])"
      ]
     },
     "execution_count": 69,
     "metadata": {},
     "output_type": "execute_result"
    }
   ],
   "source": [
    "dW"
   ]
  },
  {
   "cell_type": "code",
   "execution_count": 70,
   "id": "00972f22-3395-4030-b13e-05c4b35f31d3",
   "metadata": {
    "tags": []
   },
   "outputs": [],
   "source": [
    "# 람다기법 활용한 함수 표현 : 간단하게 표현하기"
   ]
  },
  {
   "cell_type": "code",
   "execution_count": 71,
   "id": "1ed1d8f9-d200-49e7-884a-771a4cb5ce68",
   "metadata": {
    "tags": []
   },
   "outputs": [],
   "source": [
    "f = lambda w : net.loss(x, t)"
   ]
  },
  {
   "cell_type": "code",
   "execution_count": 72,
   "id": "31a3576d-ff67-4114-8dba-8869bf915759",
   "metadata": {
    "tags": []
   },
   "outputs": [],
   "source": [
    "dW = numerical_gradient(f, net.W)"
   ]
  },
  {
   "cell_type": "code",
   "execution_count": null,
   "id": "b5b0fe8d-a1b2-4140-bde5-e64bf4f6dedc",
   "metadata": {},
   "outputs": [],
   "source": []
  },
  {
   "cell_type": "markdown",
   "id": "5134bd19-14a1-439a-b730-dc5410c4ed54",
   "metadata": {},
   "source": [
    "## 4.5 학습 알고리즘 구현하기"
   ]
  },
  {
   "cell_type": "markdown",
   "id": "8599f997-0564-4728-9c1e-cc9da83fba36",
   "metadata": {
    "tags": []
   },
   "source": [
    "#### (신경망 학습의 절차)\n",
    "* 1단계 : 미니배치\n",
    "    * 훈련 데이터 중 일부를 무작위로 가져와서 해당 배치에서의 손실함수값을 줄이는 것을 목표로 함\n",
    "* 2단계 : 기울기 산출\n",
    "    * 미니배치의 손실 함수 값을 줄이기 위한 가중치 매개변수의 기울기를 구함\n",
    "* 3단계 : 매개변수 갱신 \n",
    "    * 가중치 매개변수를 기울기 방향으로 아주 조금 갱신\n",
    "* 4단계 : 1~3단계 반복"
   ]
  },
  {
   "cell_type": "markdown",
   "id": "038ba1a6-3147-44ab-9cc1-5cb907ed4e2f",
   "metadata": {
    "tags": []
   },
   "source": [
    "#### 확률적 경사 하강법(Stochastic Gradient Descent; SGD)\n",
    "* 미니배치를 무작위로 선정하기 때문에 '확률적' 이라고 부름"
   ]
  },
  {
   "cell_type": "markdown",
   "id": "a1dc5699-c504-4ca1-8738-3d1d2e02de8c",
   "metadata": {},
   "source": [
    "### 4.5.1 2층 신경망 클래스 구현하기"
   ]
  },
  {
   "cell_type": "code",
   "execution_count": 73,
   "id": "7dc56d76-e94e-4694-bdc3-8378de9b228e",
   "metadata": {
    "tags": []
   },
   "outputs": [],
   "source": [
    "import sys, os\n",
    "sys.path.append(os.pardir)\n",
    "from common.functions import *\n",
    "from common.gradient import numerical_gradient"
   ]
  },
  {
   "cell_type": "code",
   "execution_count": 74,
   "id": "cff8302e-a5b4-4584-b945-dcbde8aecfa2",
   "metadata": {
    "tags": []
   },
   "outputs": [],
   "source": [
    "class TwoLayerNet:\n",
    "    def __init__(self, input_size, hidden_size, output_size, weight_init_std =0.01):\n",
    "        # 가중치 초기화 => 아니 근데 random으로 초기화를 한다고?.....=> 추후(6.2절)에 이 문제에 대해 다룬다고 한다\n",
    "        self.params = {}\n",
    "        self.params['W1'] = weight_init_std * np.random.randn(input_size, hidden_size)\n",
    "        self.params['b1'] = np.zeros(hidden_size)\n",
    "        self.params['W2'] = weight_init_std * np.random.randn(hidden_size, output_size)\n",
    "        self.params['b2'] = np.zeros(output_size)\n",
    "        \n",
    "    def predict(self, x):\n",
    "        W1, W2 = self.params['W1'], self.params['W2']\n",
    "        b1, b2 = self.params['b1'], self.params['b2']\n",
    "        \n",
    "        a1 = np.dot(x, W1) + b1\n",
    "        z1 = sigmoid(a1)\n",
    "        a2 = np.dot(z1, W2)+ b2\n",
    "        y = softmax(a2)\n",
    "        \n",
    "        return y\n",
    "    \n",
    "    def loss(self, x, t):\n",
    "        y = self.predict(x)\n",
    "        \n",
    "        return cross_entropy_error(y, t)\n",
    "    \n",
    "    def accuracy(self, x, t):\n",
    "        y = self.predict(x)\n",
    "        y = np.argmax(y, aisx=1)\n",
    "        t = np.argmax(t, aisx=1)\n",
    "        \n",
    "        accuracy = np.sum(y==t) / float(x.shape[0])\n",
    "        \n",
    "        return accuracy\n",
    "    \n",
    "    def numerical_gradient(self, x, t):\n",
    "        loss_W = lambda W : self.loss(x, t)\n",
    "        \n",
    "        grads = {}\n",
    "        grads['W1'] = numerical_gradient(loss_W, self.params['W1'])\n",
    "        grads['b1'] = numerical_gradient(loss_W, self.params['b1'])\n",
    "        grads['W2'] = numerical_gradient(loss_W, self.params['W2'])\n",
    "        grads['b2'] = numerical_gradient(loss_W, self.params['b2'])\n",
    "        \n",
    "        return grads"
   ]
  },
  {
   "cell_type": "code",
   "execution_count": null,
   "id": "4dc79aac-ab88-47aa-a0b2-6321e4bdb060",
   "metadata": {},
   "outputs": [],
   "source": []
  },
  {
   "cell_type": "code",
   "execution_count": 75,
   "id": "83e87fc3-e905-4206-ae23-72b008c1e86e",
   "metadata": {
    "tags": []
   },
   "outputs": [],
   "source": [
    "net = TwoLayerNet(input_size=784, hidden_size=100, output_size=10)"
   ]
  },
  {
   "cell_type": "code",
   "execution_count": 76,
   "id": "548f6b00-7550-4a0d-9d56-6956f2bc0c61",
   "metadata": {
    "tags": []
   },
   "outputs": [
    {
     "data": {
      "text/plain": [
       "(784, 100)"
      ]
     },
     "execution_count": 76,
     "metadata": {},
     "output_type": "execute_result"
    }
   ],
   "source": [
    "net.params['W1'].shape"
   ]
  },
  {
   "cell_type": "code",
   "execution_count": 77,
   "id": "d536184f-8f8c-4c92-a4d2-a365f7f58077",
   "metadata": {
    "tags": []
   },
   "outputs": [
    {
     "data": {
      "text/plain": [
       "(100,)"
      ]
     },
     "execution_count": 77,
     "metadata": {},
     "output_type": "execute_result"
    }
   ],
   "source": [
    "net.params['b1'].shape"
   ]
  },
  {
   "cell_type": "code",
   "execution_count": 78,
   "id": "8cc60604-e74e-4be1-bf85-e8996e54500e",
   "metadata": {
    "tags": []
   },
   "outputs": [
    {
     "data": {
      "text/plain": [
       "(100, 10)"
      ]
     },
     "execution_count": 78,
     "metadata": {},
     "output_type": "execute_result"
    }
   ],
   "source": [
    "net.params['W2'].shape"
   ]
  },
  {
   "cell_type": "code",
   "execution_count": 79,
   "id": "c65f36b3-46c0-4aa1-b4c4-a82e5e453cb0",
   "metadata": {
    "tags": []
   },
   "outputs": [
    {
     "data": {
      "text/plain": [
       "(10,)"
      ]
     },
     "execution_count": 79,
     "metadata": {},
     "output_type": "execute_result"
    }
   ],
   "source": [
    "net.params['b2'].shape"
   ]
  },
  {
   "cell_type": "code",
   "execution_count": null,
   "id": "525fa7da-d022-49bd-b227-e2ceca83ed9f",
   "metadata": {},
   "outputs": [],
   "source": []
  },
  {
   "cell_type": "code",
   "execution_count": 80,
   "id": "5de63858-2018-4d3c-a3dd-1f5bcf3745a5",
   "metadata": {
    "tags": []
   },
   "outputs": [],
   "source": [
    "# 예측처리"
   ]
  },
  {
   "cell_type": "code",
   "execution_count": 81,
   "id": "4169f992-ea2e-47ba-bacf-9af8fc57c250",
   "metadata": {
    "tags": []
   },
   "outputs": [],
   "source": [
    "x = np.random.rand(100, 784)\n",
    "y = net.predict(x)"
   ]
  },
  {
   "cell_type": "code",
   "execution_count": 82,
   "id": "91511a00-1a7a-4e02-aceb-786114ed90b2",
   "metadata": {
    "tags": []
   },
   "outputs": [],
   "source": [
    "# grads는 params 변수에 대응하는 각 매개변수의 기울기 저장"
   ]
  },
  {
   "cell_type": "code",
   "execution_count": 83,
   "id": "13d1ce75-2dfa-4788-aedc-8f97ef557d4a",
   "metadata": {
    "tags": []
   },
   "outputs": [],
   "source": [
    "x = np.random.rand(100, 784)\n",
    "t = np.random.rand(100, 10)"
   ]
  },
  {
   "cell_type": "code",
   "execution_count": 84,
   "id": "aa960e9a-3798-4fe9-9552-dbe5d6e73702",
   "metadata": {
    "tags": []
   },
   "outputs": [],
   "source": [
    "grads = net.numerical_gradient(x, t)"
   ]
  },
  {
   "cell_type": "code",
   "execution_count": 85,
   "id": "c8ca024e-0255-4c61-b690-bddedbeed9b0",
   "metadata": {
    "tags": []
   },
   "outputs": [
    {
     "name": "stdout",
     "output_type": "stream",
     "text": [
      "(784, 100)\n",
      "(100,)\n",
      "(100, 10)\n",
      "(10,)\n"
     ]
    }
   ],
   "source": [
    "print(grads['W1'].shape)\n",
    "print(grads['b1'].shape)\n",
    "print(grads['W2'].shape)\n",
    "print(grads['b2'].shape)"
   ]
  },
  {
   "cell_type": "code",
   "execution_count": null,
   "id": "754165f2-df18-42d1-938e-cb28ef84de54",
   "metadata": {},
   "outputs": [],
   "source": []
  },
  {
   "cell_type": "markdown",
   "id": "64740243-c1e6-4c2a-b7cc-d1a07502042f",
   "metadata": {},
   "source": [
    "### 4.5.2 미니배치 학습 구현하기"
   ]
  },
  {
   "cell_type": "code",
   "execution_count": 99,
   "id": "f13b48cd-7b42-4ad5-9ed7-d9f677bf5157",
   "metadata": {
    "tags": []
   },
   "outputs": [],
   "source": [
    "import numpy as np\n",
    "from dataset.mnist import load_mnist\n",
    "from two_layer_net import TwoLayerNet"
   ]
  },
  {
   "cell_type": "code",
   "execution_count": 100,
   "id": "3fe81582-4500-4f4d-8286-a7246d728a67",
   "metadata": {
    "tags": []
   },
   "outputs": [],
   "source": [
    "(x_train, t_train), (x_test, t_test) = load_mnist(normalize= True, one_hot_label=True)"
   ]
  },
  {
   "cell_type": "code",
   "execution_count": 101,
   "id": "1ba148bb-b4b0-4c0e-a769-5b43de6304ab",
   "metadata": {
    "tags": []
   },
   "outputs": [],
   "source": [
    "network = TwoLayerNet(input_size=784, hidden_size=50, output_size=10)"
   ]
  },
  {
   "cell_type": "code",
   "execution_count": 102,
   "id": "9415c7a1-c601-4d1d-a3a5-6297e3a7b8fc",
   "metadata": {
    "tags": []
   },
   "outputs": [],
   "source": [
    "# 하이퍼파라미터\n",
    "iters_num = 10000\n",
    "train_size = x_train.shape[0]\n",
    "batch_size = 100 # 미니배치\n",
    "learning_rate = 0.1"
   ]
  },
  {
   "cell_type": "code",
   "execution_count": 103,
   "id": "39177a38-6e73-41d3-9830-bf7910d6af73",
   "metadata": {},
   "outputs": [],
   "source": [
    "train_loss_list = []"
   ]
  },
  {
   "cell_type": "code",
   "execution_count": null,
   "id": "dabed508-eb96-4d9b-954b-c066e1a02421",
   "metadata": {
    "tags": []
   },
   "outputs": [
    {
     "name": "stdout",
     "output_type": "stream",
     "text": [
      "0\n",
      "1\n",
      "2\n",
      "3\n",
      "4\n",
      "5\n",
      "6\n",
      "7\n",
      "8\n",
      "9\n",
      "10\n",
      "11\n"
     ]
    }
   ],
   "source": [
    "for i in range(iters_num):\n",
    "    print(i)\n",
    "    # 미니배치 획득\n",
    "    batch_mask = np.random.choice(train_size, batch_size)\n",
    "    x_batch = x_train[batch_mask]\n",
    "    t_batch = t_train[batch_mask]\n",
    "    \n",
    "    # 기울기 계산\n",
    "    grad = network.numerical_gradient(x_batch, t_batch)\n",
    "    \n",
    "    # 매개변수 갱신\n",
    "    for key in ('W1', 'b1', 'W2', 'b2'):\n",
    "        network.params[key] -= learning_rate * grad[key]\n",
    "        \n",
    "    # 학습결과 기록\n",
    "    loss = network.loss(x_batch, t_batch)\n",
    "    train_loss_list.append(loss)"
   ]
  },
  {
   "cell_type": "code",
   "execution_count": null,
   "id": "94dbfa20-5575-48e2-84d8-df5390cb5c5e",
   "metadata": {},
   "outputs": [],
   "source": []
  },
  {
   "cell_type": "markdown",
   "id": "fe28b9d7-a3ff-4f80-8108-6b872a96e863",
   "metadata": {},
   "source": [
    "### 4.5.3 시험 데이터로 평가하기"
   ]
  },
  {
   "cell_type": "markdown",
   "id": "6b266ae5-123e-4ae8-8fcf-e1e54fe9a2b5",
   "metadata": {},
   "source": [
    "* 오버피팅 : 예를 들면 훈련 데이터에 포함된 이미지만 제대로 구분하고, 그렇지 않은 이미지는 잘 식별하지 못하는 것\n",
    "* 에폭 : 1에폭은 학습에서 훈련 데이터를 모두 소진했을 때의 횟수<br>\n",
    "ex) 10000개의 데이터를 100개의 미니배치로 학습할 경우,확률적 경사 하강법을 100회 반복시 모든 훈련 데이터를 1회 소진. 즉 이 경우 100회가 1에폭."
   ]
  },
  {
   "cell_type": "code",
   "execution_count": null,
   "id": "de538457-e839-4fce-b05c-b78c9cbba530",
   "metadata": {},
   "outputs": [],
   "source": []
  },
  {
   "cell_type": "code",
   "execution_count": 1,
   "id": "11c8bdbd-caa2-4cbc-a289-f3fec5f04e47",
   "metadata": {},
   "outputs": [],
   "source": [
    "import numpy as np\n",
    "from dataset.mnist import load_mnist\n",
    "from two_layer_net import TwoLayerNet"
   ]
  },
  {
   "cell_type": "code",
   "execution_count": 2,
   "id": "5bbc1a20-e362-4c62-81ed-f54a10842f54",
   "metadata": {},
   "outputs": [],
   "source": [
    "(x_train, t_train), (x_test, t_test) = load_mnist(normalize= True, one_hot_label=True)"
   ]
  },
  {
   "cell_type": "code",
   "execution_count": 3,
   "id": "3783c6c1-ed0f-4b84-bc4a-f92db103b958",
   "metadata": {
    "tags": []
   },
   "outputs": [],
   "source": [
    "network = TwoLayerNet(input_size=784, hidden_size=50, output_size=10)"
   ]
  },
  {
   "cell_type": "code",
   "execution_count": 7,
   "id": "56a8818c-eb96-476c-9f3c-8959ce17ac74",
   "metadata": {
    "tags": []
   },
   "outputs": [],
   "source": [
    "# 하이퍼파라미터\n",
    "iters_num = 10000\n",
    "train_size = x_train.shape[0]\n",
    "batch_size = 100\n",
    "learning_rate = 0.1"
   ]
  },
  {
   "cell_type": "code",
   "execution_count": 8,
   "id": "2e94df8f-8fa0-45b3-809d-8a630a172c81",
   "metadata": {},
   "outputs": [],
   "source": [
    "train_loss_list = []\n",
    "train_acc_list = []\n",
    "test_acc_list = []"
   ]
  },
  {
   "cell_type": "code",
   "execution_count": 9,
   "id": "a97c11ec-02d9-49ad-8447-8068c8649741",
   "metadata": {},
   "outputs": [],
   "source": [
    "# 1에폭당 반복 수\n",
    "iter_per_epoch = max(train_size / batch_size, 1)"
   ]
  },
  {
   "cell_type": "code",
   "execution_count": null,
   "id": "a953d9c5-a71b-4a54-b7cf-d4f22a58ba30",
   "metadata": {},
   "outputs": [],
   "source": [
    "for i in range(iters_num):\n",
    "    # 미니배치 획득\n",
    "    batch_mask = np.random.choice(train_size, batch_size)\n",
    "    x_batch = x_train[batch_mask]\n",
    "    t_batch = t_train[batch_mask]\n",
    "    \n",
    "    # 기울기 계산\n",
    "    grad = network.numerical_gradient(x_batch, t_batch)\n",
    "    \n",
    "    # 매개변수 갱신\n",
    "    for key in ('W1', 'b1', 'W2', 'b2'):\n",
    "        network.params[key] -= learning_rate * grad[key]\n",
    "        \n",
    "    # 학습결과 기록\n",
    "    loss = network.loss(x_batch, t_batch)\n",
    "    train_loss_list.append(loss)\n",
    "    \n",
    "    # 1에폭당 정확도 계산\n",
    "    if i % iter_per_epoch == 0 :\n",
    "        train_acc = network.accuracy(x_train, t_train)\n",
    "        test_acc = network.accuracy(x_test, t_test)\n",
    "        train_acc_list.append(train_acc)\n",
    "        test_acc_list.append(test_acc)\n",
    "        print(\"train acc, test acc | \" + str(train_acc) + \", \" + str(test_acc))"
   ]
  },
  {
   "cell_type": "code",
   "execution_count": null,
   "id": "c951d0c6-f0bc-4dbc-a2f8-4d4ebf26ec76",
   "metadata": {},
   "outputs": [],
   "source": []
  }
 ],
 "metadata": {
  "kernelspec": {
   "display_name": "Python 3 (ipykernel)",
   "language": "python",
   "name": "python3"
  },
  "language_info": {
   "codemirror_mode": {
    "name": "ipython",
    "version": 3
   },
   "file_extension": ".py",
   "mimetype": "text/x-python",
   "name": "python",
   "nbconvert_exporter": "python",
   "pygments_lexer": "ipython3",
   "version": "3.11.3"
  }
 },
 "nbformat": 4,
 "nbformat_minor": 5
}
