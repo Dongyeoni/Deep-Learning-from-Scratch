{
 "cells": [
  {
   "cell_type": "markdown",
   "id": "23939fbd-35f8-42c3-ba6e-9dbf485cf9b7",
   "metadata": {},
   "source": [
    "# Chapter8. 딥러닝"
   ]
  },
  {
   "cell_type": "markdown",
   "id": "eff9c2a4-69f8-4713-bcd9-a5ad5b28ad64",
   "metadata": {},
   "source": [
    "## 8.1 더 깊게"
   ]
  },
  {
   "cell_type": "markdown",
   "id": "904c07fb-49cb-40d8-b319-ad951df4aded",
   "metadata": {},
   "source": [
    "### 8.1.1 더 깊은 신경망으로"
   ]
  },
  {
   "cell_type": "markdown",
   "id": "7d317cef-4315-4d51-a76e-9423b42f9459",
   "metadata": {},
   "source": [
    "<img src=\"./images/8-1.png\" width=\"450\" height=\"450\"/>\n",
    "[8-1]"
   ]
  },
  {
   "cell_type": "markdown",
   "id": "035b37a8-02c8-4c2c-972c-a92c115ab50b",
   "metadata": {},
   "source": [
    "#### (위 신경망의 특징)"
   ]
  },
  {
   "cell_type": "markdown",
   "id": "e0a36b89-3923-4deb-ab3b-2adcce50fdbb",
   "metadata": {},
   "source": [
    "* 합성곱 계층은 모두 3 x 3 크기의 필터를 사용하고, 층이 깊어질수록 채널 수를 늘림\n",
    "* 16, 16, 32, 32, 64, 64로 늘어남\n",
    "* 풀링 계층을 추가하여 중간 데이터 공간 크기를 줄임\n",
    "* 마지막 단 완전연결 계층에서 드롭아웃 계층 사용\n",
    "* 가중치 초깃값으로 He 초깃값 선택하고 Adam을 통해 가중치 매개변수 갱신\n",
    "* 활성화 함수는 ReLU"
   ]
  },
  {
   "cell_type": "markdown",
   "id": "93a8db61-97b5-4dea-87ef-654fb4b57524",
   "metadata": {},
   "source": [
    "### 8.1.2 정확도를 더 높이려면?"
   ]
  },
  {
   "cell_type": "markdown",
   "id": "2bee84e8-8c8e-4c1f-a900-ec56f3e2fb0c",
   "metadata": {},
   "source": [
    "* MNIST 데이터셋에 대한 기법들이 사용하는 CNN들은 그다지 깊지 않음 (합성곱 계층 2개에 완전연결 계층 2개 정도인 신경망)\n",
    "* 손글씨 숫자라는 문제가 단순해서 신경망의 표현력을 극한까지 높일 필요가 없기 때문\n",
    "* 더 복잡한 문제일수록 층을 깊게 해서 정확도를 크게 끌어올릴 수 있음"
   ]
  },
  {
   "cell_type": "markdown",
   "id": "463a9283-220f-4be1-b87a-24eb18491108",
   "metadata": {},
   "source": [
    "#### (데이터 확장 : Data Augmentation)"
   ]
  },
  {
   "cell_type": "markdown",
   "id": "9f6ae551-8301-4730-962f-b4fd97b2086c",
   "metadata": {},
   "source": [
    "* 입력 이미지를 알고리즘을 동원해 인위적으로 확장하는 것\n",
    "* 데이터가 적을 때 효과적인 수단"
   ]
  },
  {
   "cell_type": "markdown",
   "id": "3f236417-4279-4834-9e19-2e9b3d383e3d",
   "metadata": {},
   "source": [
    "<img src=\"./images/8-4.png\" width=\"400\" height=\"400\"/>\n",
    "[8-4]"
   ]
  },
  {
   "cell_type": "markdown",
   "id": "c47d8d47-3cc4-45b1-b218-42837879623e",
   "metadata": {},
   "source": [
    "* 이미지 일부를 잘라내는 crop이나 좌우를 뒤집는 flip 등도 활용\n",
    "* 단 flip은 뒤집었을 경우에도 상관없는 경우에만 쓸 수 있음"
   ]
  },
  {
   "cell_type": "markdown",
   "id": "89d1158f-8748-4f5a-b0d8-b83e8b925a2b",
   "metadata": {},
   "source": [
    "### 8.1.3 깊게 하는 이유"
   ]
  },
  {
   "cell_type": "markdown",
   "id": "9b207d91-3683-454f-84ae-e185ea9bfa55",
   "metadata": {},
   "source": [
    "* 사실 층을 깊게 하는 것에 대한 이론적인 근거가 부족한 상황\n",
    "* 층을 깊게 할 때 신경망의 매개변수 수가 줄어들기 때문에 적은 매개변수로 같은 수준의 표현력을 달성할 수 있음"
   ]
  },
  {
   "cell_type": "markdown",
   "id": "f9b98b55-e7bd-428f-b13c-8fe8cd01ec62",
   "metadata": {},
   "source": [
    "<img src=\"./images/8-5.png\" width=\"400\" height=\"400\"/>\n",
    "[8-5]"
   ]
  },
  {
   "cell_type": "markdown",
   "id": "d27092da-b59d-4c9e-a273-421b18f3859c",
   "metadata": {},
   "source": [
    "<img src=\"./images/8-6.png\" width=\"400\" height=\"400\"/>\n",
    "[8-6]"
   ]
  },
  {
   "cell_type": "markdown",
   "id": "b0a0210a-b4cc-4afa-93e9-04da61c96b99",
   "metadata": {},
   "source": [
    "* 작은 필터를 겹쳐 신경망을 깊게 할 때 장점은 매개변ㅅ누 수를 줄여 넓은 수용 영역을 소화할 수 있음\n",
    "* 층일 깊게 함으로써 학습 데이터의 양을 줄여 학습을 고속으로 수행\n",
    "* 층일 깊게 하면 정보를 계층적으로 전달할 수 있음"
   ]
  },
  {
   "cell_type": "markdown",
   "id": "6248683b-b3e9-45b2-97bf-80c4b4d1ab11",
   "metadata": {},
   "source": [
    "## 8.2 딥러닝의 초기 역사"
   ]
  },
  {
   "cell_type": "markdown",
   "id": "6b7a80fd-99db-4eae-a94f-20e95a921343",
   "metadata": {},
   "source": [
    "### 8.2.1 이미지넷"
   ]
  },
  {
   "cell_type": "markdown",
   "id": "80a49f02-e956-4679-a3e2-e314a02235c2",
   "metadata": {
    "tags": []
   },
   "source": [
    "* 이미지넷 : 100만 장이 넘는 이미지를 담고 있는 데이터셋"
   ]
  },
  {
   "cell_type": "markdown",
   "id": "d283a1ee-0e86-4036-a91a-744aeb839d7f",
   "metadata": {},
   "source": [
    "<img src=\"./images/8-7.png\" width=\"600\" height=\"600\"/>\n",
    "[8-7]"
   ]
  },
  {
   "cell_type": "markdown",
   "id": "da294ecf-778a-40a5-af73-648fe5b5143c",
   "metadata": {},
   "source": [
    "#### ILSVRC 대회 중 분류 시험"
   ]
  },
  {
   "cell_type": "markdown",
   "id": "ebb28f92-6f64-4ae7-b734-79f0b8b52a4c",
   "metadata": {},
   "source": [
    "<img src=\"./images/8-8.png\" width=\"400\" height=\"400\"/>\n",
    "[8-8]"
   ]
  },
  {
   "cell_type": "markdown",
   "id": "14a583ee-1878-431f-aa1d-b48c622f4cec",
   "metadata": {},
   "source": [
    "* 2012년 이후로 선두는 항상 딥러닝"
   ]
  },
  {
   "cell_type": "markdown",
   "id": "9e8545ac-e955-423a-8485-e67679b875fa",
   "metadata": {},
   "source": [
    "### 8.2.2 VGG"
   ]
  },
  {
   "cell_type": "markdown",
   "id": "66733bae-9e16-454d-b77f-2e82c064c78f",
   "metadata": {},
   "source": [
    "<img src=\"./images/8-9.png\" width=\"500\" height=\"500\"/>\n",
    "[8-9]"
   ]
  },
  {
   "cell_type": "markdown",
   "id": "e5c38ef8-a11e-4d8f-a7b5-16b90dcc0b5e",
   "metadata": {},
   "source": [
    "* 층의 깊이에 따라 VGG16, VGG19로 구분\n",
    "* 3 x 3의 필터를 상요한 합성곱 계층을 연속으로 거침\n",
    "* 풀링 계층을 두어 크기를 절반으로 줄이는 처리 반복하고 마지막 완전연결 계층을 통과시켜 결과 출력"
   ]
  },
  {
   "cell_type": "markdown",
   "id": "ebbb9b91-10da-485c-8fc4-412c625d4970",
   "metadata": {},
   "source": [
    "### 8.2.3 GoogLeNet (GoogleNet이 아니다!)"
   ]
  },
  {
   "cell_type": "markdown",
   "id": "e9e9c725-ab51-4cb9-bfd1-50bdd84b23f9",
   "metadata": {},
   "source": [
    "<img src=\"./images/8-10.png\" width=\"500\" height=\"500\"/>\n",
    "[8-10]"
   ]
  },
  {
   "cell_type": "markdown",
   "id": "143a1612-be57-467f-bc23-fb48d56612be",
   "metadata": {},
   "source": [
    "* 세로 방향 깊이 뿐만아니라 가로 방향도 깊다"
   ]
  },
  {
   "cell_type": "markdown",
   "id": "0b4bd8b5-a173-4b81-b97d-d79bb045814d",
   "metadata": {},
   "source": [
    "<img src=\"./images/8-11.png\" width=\"500\" height=\"500\"/>\n",
    "[8-11]"
   ]
  },
  {
   "cell_type": "markdown",
   "id": "786f9965-3894-4c79-8d39-e93a021c9e1b",
   "metadata": {},
   "source": [
    "* 가로 방향 폭을 인셉션 구조라 한다\n",
    "* 크기가 다른 필터와 풀링을 여러 개 적용하여 그 결과를 결합"
   ]
  },
  {
   "cell_type": "markdown",
   "id": "8987b0f2-408b-41d0-9eeb-e1d4e06b2233",
   "metadata": {},
   "source": [
    "### 8.2.4 ResNet"
   ]
  },
  {
   "cell_type": "markdown",
   "id": "11eb1f76-fe69-4ed9-824b-b393dedb62a4",
   "metadata": {},
   "source": [
    "* 마이크로소프트 팀이 개발한 네트워크\n",
    "* 지나치게 층이 깊으면 오히려 성능이 떨어지는 경우도 많기 때문에 이를 해결하기 위해 스킵 연결 도입\n",
    "* 스킵 연결 : 입력 데이터를 합성곱 계층을 건너뛰어 출력에 바로 더하는 구조"
   ]
  },
  {
   "cell_type": "markdown",
   "id": "e42f0dcd-4651-4bd7-8f56-10fdebeed649",
   "metadata": {},
   "source": [
    "<img src=\"./images/8-12.png\" width=\"400\" height=\"400\"/>\n",
    "[8-12]"
   ]
  },
  {
   "cell_type": "markdown",
   "id": "43f58e5b-2c94-409b-847d-f2a4c7f3029c",
   "metadata": {},
   "source": [
    "* VGG 기반으로 스킵 연결 도입하여 층을 깊게 함"
   ]
  },
  {
   "cell_type": "markdown",
   "id": "a52b176c-700b-4339-a24d-3bc413a812e4",
   "metadata": {},
   "source": [
    "<img src=\"./images/8-13.png\" width=\"700\" height=\"700\"/>\n",
    "[8-13]"
   ]
  },
  {
   "cell_type": "markdown",
   "id": "c7ddbb3e-c69f-4f8d-88e9-8262f5bdb234",
   "metadata": {},
   "source": [
    "* ResNet은 합성곱 계층을 2개 층마다 건너뛰면서 층을 깊게 함"
   ]
  },
  {
   "cell_type": "markdown",
   "id": "4b5cf391-41fc-430f-b990-bbc74412afe8",
   "metadata": {},
   "source": [
    "#### (전이학습)"
   ]
  },
  {
   "cell_type": "markdown",
   "id": "f25bc47f-6bb1-485b-a5d1-12f0530a3e59",
   "metadata": {},
   "source": [
    "* 학습된 가중치를 다른 신경망에 복사한 다음, 그 상태로 재학습 수행\n",
    "* 미리 학습된 가중치를 초깃값으로 설정한 후 새로운 데이터셋을 대상으로 재학습(fine tuning)을 수행\n",
    "* 데이터셋이 적을 때 특히 유용"
   ]
  },
  {
   "cell_type": "markdown",
   "id": "d6ff57f5-d8b5-4554-8226-6f63fe476e3e",
   "metadata": {},
   "source": [
    "## 8.3 더 빠르게(딥러닝 고속화)"
   ]
  },
  {
   "cell_type": "markdown",
   "id": "692a8087-1000-4c85-9ce6-1e3a7da677ed",
   "metadata": {},
   "source": [
    "### 8.3.1 풀어야 할 숙제"
   ]
  },
  {
   "cell_type": "markdown",
   "id": "3816dee8-1244-4cbd-83f4-15b8507c517b",
   "metadata": {},
   "source": [
    "<img src=\"./images/8-14.png\" width=\"600\" height=\"600\"/>\n",
    "[8-14]"
   ]
  },
  {
   "cell_type": "markdown",
   "id": "9e85fd6e-5426-43d3-a599-df810f20906e",
   "metadata": {},
   "source": [
    "* AlexNet의 forward(순전파) 처리에서 각 층이 소비하는 시간을 원 그래프로 표현\n",
    "* AlexNet은 합성곱 계층에서 시간 소요가 많음(GPU:95% CPU: 89%)\n",
    "* 합성곱 계층에서 이뤄지는 연산을 어떻게 고속으로 효율적으로 하느냐가 딥러닝의 과제\n",
    "* 합성곱 계층의 수행 연산은 7.2장 참고\n",
    "* 단일 곱셈-누산을 어떻게 효율적으로 하는지에 관한 것"
   ]
  },
  {
   "cell_type": "markdown",
   "id": "9066835f-74fc-49ee-bb79-9b6e89c755cf",
   "metadata": {
    "tags": []
   },
   "source": [
    "### 8.3.2 GPU를 활용한 고속화"
   ]
  },
  {
   "cell_type": "markdown",
   "id": "d3e0c81c-0180-46ee-8c1a-d0c062cedf38",
   "metadata": {},
   "source": [
    "* GPU 컴퓨팅 : GPU로 범용 수치 연산 수행"
   ]
  },
  {
   "cell_type": "markdown",
   "id": "ab560641-00ae-4754-838f-fac46e65649e",
   "metadata": {},
   "source": [
    "#### (CPU와 GPU의 차이)"
   ]
  },
  {
   "cell_type": "markdown",
   "id": "b1ceab6d-c528-47b5-b429-24efa5882aca",
   "metadata": {},
   "source": [
    "* CPU는 연속적인 복잡한 계산을 잘 처리\n",
    "* GPU는 대량 병렬 연산을 잘 처리"
   ]
  },
  {
   "cell_type": "markdown",
   "id": "edd50f6a-3f83-4f8f-8582-a7d4109aa139",
   "metadata": {},
   "source": [
    "<img src=\"./images/8-15.png\" width=\"300\" height=\"300\"/>\n",
    "[8-15]"
   ]
  },
  {
   "cell_type": "markdown",
   "id": "7e75a019-26ee-4f14-8d90-3d4b4ab8da92",
   "metadata": {},
   "source": [
    "* 8-15에서 CPU는 40여일이 걸리지만 GPU는 6일 소요\n",
    "* cuDNN : 딥러닝에 최적화된 라이브러리를 활용하면 더 빨라짐\n"
   ]
  },
  {
   "cell_type": "markdown",
   "id": "c29f1ad6-2a9a-4a05-9080-3ff8fbaeaab5",
   "metadata": {},
   "source": [
    "#### (그래픽카드 제조사 : 엔비디아 VS AMD)"
   ]
  },
  {
   "cell_type": "markdown",
   "id": "ae52b1d1-d443-4230-bf92-293bcc3b07e7",
   "metadata": {},
   "source": [
    "* 딥러닝과 더 친한 쪽은 엔비디아\n",
    "* 대부분의 딥러닝 프레임워크는 엔비디아 GPU만 혜택을 받음\n",
    "* 딥러닝 프레임워크들이 엔비디아 GPU 컴퓨팅용 통합 개발환경인 CUDA를 활용하기 때문\n",
    "* 앞서 cuDNN도 CUDA 위에서 동작하는 라이브러리"
   ]
  },
  {
   "cell_type": "markdown",
   "id": "c611f74f-f290-4c97-bb50-e1d329712556",
   "metadata": {},
   "source": [
    "### 8.3.3 분산 학습"
   ]
  },
  {
   "cell_type": "markdown",
   "id": "954fd364-db54-4e7d-a8e4-7069208d12b7",
   "metadata": {},
   "source": [
    "* 딥러닝 학습을 수평 확장하자는 아이디어"
   ]
  },
  {
   "cell_type": "markdown",
   "id": "e4da8aca-f39c-41e8-8624-758f0c66a116",
   "metadata": {},
   "source": [
    "<img src=\"./images/8-16.png\" width=\"500\" height=\"500\"/>\n",
    "[8-16]"
   ]
  },
  {
   "cell_type": "markdown",
   "id": "abbf067c-9095-4785-9df8-5e25c85548cc",
   "metadata": {},
   "source": [
    "* tensorflow는 GPU 수가 늘어남에 따라 학습 속도가 빨라짐"
   ]
  },
  {
   "cell_type": "markdown",
   "id": "fd85b2ce-0e7a-4300-a9af-71415c67bfc3",
   "metadata": {},
   "source": [
    "### 8.3.4 연산 정밀도와 비트 줄이기"
   ]
  },
  {
   "cell_type": "markdown",
   "id": "4a2a93c1-7fc1-4edc-a608-860cf2d52e7c",
   "metadata": {
    "tags": []
   },
   "source": [
    "* 메모리 용량/ 버스대역폭 등 딥러닝 고속화의 병목이 될 수 있음"
   ]
  },
  {
   "cell_type": "markdown",
   "id": "f24345ae-d111-4598-a5ae-17f7366a75f8",
   "metadata": {},
   "source": [
    "* 컴퓨터의 실수 표현 방식\n",
    "    * 32비트 단정밀도\n",
    "    * 64비트 배정밀도\n",
    "    * 16비트 반정밀도 => 이것만 써도 딥러닝 힉습시에 문제가 없다고 알려져 있음"
   ]
  },
  {
   "cell_type": "markdown",
   "id": "6a37df24-c449-4e9a-a156-da1cc782ad4e",
   "metadata": {},
   "source": [
    "## 8.4 딥러닝의 활용"
   ]
  },
  {
   "cell_type": "markdown",
   "id": "545343df-e02c-4891-b6a1-6325188dbdef",
   "metadata": {},
   "source": [
    "### 8.4.1 사물 검출"
   ]
  },
  {
   "cell_type": "markdown",
   "id": "74ff970c-47eb-43e9-88c0-131ce069d3de",
   "metadata": {},
   "source": [
    "<img src=\"./images/8-17.png\" width=\"600\" height=\"600\"/>\n",
    "[8-17]"
   ]
  },
  {
   "cell_type": "markdown",
   "id": "3a199a26-f04f-4dbb-9265-a150cf13327f",
   "metadata": {},
   "source": [
    "* 사물 검출은 사물 인식보다 어려운 문제로 CNN을 활용한 R-CNN이 유명"
   ]
  },
  {
   "cell_type": "markdown",
   "id": "ee9cf4dc-7e8e-4bcb-9afb-b2735a4456b7",
   "metadata": {},
   "source": [
    "<img src=\"./images/8-18.png\" width=\"600\" height=\"600\"/>\n",
    "[8-18]"
   ]
  },
  {
   "cell_type": "markdown",
   "id": "bc3a5948-1a78-4add-b5ff-1e1d7997033c",
   "metadata": {},
   "source": [
    "* 후보 영역 추출\n",
    "    * 어떠한 방법으로 사물이 위치한 영역을 찾아내기\n",
    "* CNN 특징 계산\n",
    "    * 추출한 영역에 CNN을 적용하여 클래스를 분류\n",
    "    \n",
    "* 후보 영역 추출에는 컴퓨터 비전 분야에서 발전해온 다양한 기법을 사용하고, R-CNN은 Selective Search 기법 사용\n",
    "* 후보 영역 추출까지 CNN으로 처리한느 Faseter R-CNN 기법 등장"
   ]
  },
  {
   "cell_type": "markdown",
   "id": "754edbd7-5e5a-49c2-87a2-c2fdd39f63e4",
   "metadata": {},
   "source": [
    "### 8.4.2 분할"
   ]
  },
  {
   "cell_type": "markdown",
   "id": "30d2fd1e-5209-40c2-8f1e-4ca10b42f43b",
   "metadata": {},
   "source": [
    "* 분할 : 이미지를 픽셀 수준에서 분류하는 문제\n",
    "* 픽셀 단위로 객체마다 채색된 지도 데이터를 사용해 학습하고 추론할 때 입력 이미지의 모든 픽셀을 분류"
   ]
  },
  {
   "cell_type": "markdown",
   "id": "49ebdf81-910a-4b59-9a7a-641ad4cc9275",
   "metadata": {},
   "source": [
    "#### (픽셀 수준에서 어떻게 적용?)"
   ]
  },
  {
   "cell_type": "markdown",
   "id": "35cca30f-3760-4996-aac2-1ed717ce1f1b",
   "metadata": {},
   "source": [
    "* 간단한 방법은 모든 픽셀 각각을 추론하기\n",
    "    * 어떤 직사각형 영역의 중심 픽셀의 클래스를 분류하는 신경망을 만들어서, 모든 픽셀을 대상으로 하나씩 추론\n",
    "    * 픽셀 수만큼 forward(순전파) 처리를 해야 하여 긴 시간 소요\n",
    "    * 정확히는 합성곱 연산에서 많은 영역을 쓸데없이 다시 계산하는 것이 문제\n",
    "    * 이러한 낭비를 줄여주는 FCN(Fully Convoluntional Network) 기법 고안\n",
    "    * 단 한 번의 forward처리로 모든 픽셀의 클래스를 분류"
   ]
  },
  {
   "cell_type": "markdown",
   "id": "a3d967b3-d548-44a8-9b19-5204f42b6904",
   "metadata": {},
   "source": [
    "<img src=\"./images/8-20.png\" width=\"400\" height=\"400\"/>\n",
    "[8-20]"
   ]
  },
  {
   "cell_type": "markdown",
   "id": "fd9e4199-3605-4678-b547-e63b9cff1624",
   "metadata": {
    "tags": []
   },
   "source": [
    "* 일반적인 CNN이 완전연결계층을 이용하는 반면 FCN은 완전연결 계층을 같은 기능을 하는 합성곱 계층으로 바꿈(FCN은 합성곱 계층으로만 구성된 네트워크)\n",
    "* FCN은 마지막에 공간 크기를 확대하는 처리를 도입했다는 특징\n",
    "    * 이 때 이중 선형 보간을 활용한 선형 확대\n",
    "    * 선형 확대를 역합성곱 연산으로 구현"
   ]
  },
  {
   "cell_type": "markdown",
   "id": "d52174d5-f975-4868-9023-562f7210b61e",
   "metadata": {},
   "source": [
    "#### (완전연결계층을 어떻게 합성곱 계층으로 바꾸는가?)"
   ]
  },
  {
   "cell_type": "markdown",
   "id": "d22948d3-7fa3-46db-b193-96274c37d1f2",
   "metadata": {},
   "source": [
    "* 입력 크기가 32 x 10 x 10 인 데이터에 대한 완전연결 계층은 필터 크기가 32 x 10 x 10 인 합성곱 계층으로 대체할 수 있음\n",
    "* 완전연결 계층의 출력 노드가 100개라면 해당 필터를 100개 준비하면 완전히 같은 처리 구현 가능"
   ]
  },
  {
   "cell_type": "markdown",
   "id": "57e4367d-aa61-49dd-9a3c-78f2342e3e9b",
   "metadata": {},
   "source": [
    "### 8.4.3 사진 캡션 생성"
   ]
  },
  {
   "cell_type": "markdown",
   "id": "e0a130c8-b981-416b-98e1-79922791c86b",
   "metadata": {},
   "source": [
    "* 사진을 주면 사진을 설명하는 글을 생성하는 연구"
   ]
  },
  {
   "cell_type": "markdown",
   "id": "fdd219fa-6914-4bef-9639-a021cfa73fc9",
   "metadata": {},
   "source": [
    "<img src=\"./images/8-21.png\" width=\"500\" height=\"500\"/>\n",
    "[8-21]"
   ]
  },
  {
   "cell_type": "markdown",
   "id": "1196660d-d090-412f-ac13-880211872a77",
   "metadata": {},
   "source": [
    "* NIC(Neural Image Caption)모델 : 딥러닝으로 사진 캡션을 생성하는 모델로 심층 CNN과 자연어를 다루는 순환 신경망으로 구성\n",
    "* RNN(Recurrent Neural Network)은 순환적 관계를 갖는 신경망으로 자연어나 시계열 데이터 등 연속된 데이터를 다룰 때 많이 활용"
   ]
  },
  {
   "cell_type": "markdown",
   "id": "8ef4c397-c117-4335-b0f0-f7aaea640152",
   "metadata": {},
   "source": [
    "<img src=\"./images/8-22.png\" width=\"500\" height=\"500\"/>\n",
    "[8-22]"
   ]
  },
  {
   "cell_type": "markdown",
   "id": "cc71b4a0-5f70-4a59-a64c-134b7ed4b2f2",
   "metadata": {},
   "source": [
    "* NIC는 CNN으로 사진에서 특징을 추출하고 RNN으로 넘김\n",
    "* RNN은 CNN이 추출한 특징을 초깃값으로 해서 텍스트를 순환적으로 생성\n",
    "* 즉, NIC는 CNN과 RNN이라는 2개의 신경망을 조합한 구성\n",
    "* 멀티모달 처리 : 사진이나 자연어와 같은 여러 종류의 정보를 조합하고 처리하는 것"
   ]
  },
  {
   "cell_type": "markdown",
   "id": "06487835-31be-413a-8817-673b04d57b23",
   "metadata": {},
   "source": [
    "## 8.5 딥러닝의 미래"
   ]
  },
  {
   "cell_type": "markdown",
   "id": "a87042e2-fb5d-46d5-b8b1-9c0d39bef179",
   "metadata": {},
   "source": [
    "### 8.5.1 이미지 스타일(화풍) 변환"
   ]
  },
  {
   "cell_type": "markdown",
   "id": "658dd1e3-c6cd-46d7-8c0a-0017d5caeee2",
   "metadata": {},
   "source": [
    "<img src=\"./images/8-23.png\" width=\"500\" height=\"500\"/>\n",
    "[8-23]"
   ]
  },
  {
   "cell_type": "markdown",
   "id": "85bf74c0-938b-40d1-baf3-a2f4a61c12e3",
   "metadata": {},
   "source": [
    "* 딥러닝을 활용한 그림을 그리는 연구\n",
    "* 네트워크 중간 데이터가 콘텐츠 이미지의 중간 데이터와 비슷해지도록 학습\n",
    "* 스타일 이미지의 화풍을 흡수하기 위해 스타일 행렬 이라는 개념 도입"
   ]
  },
  {
   "cell_type": "markdown",
   "id": "bb6ea089-4a93-4553-8cb3-7f18d8b7ed29",
   "metadata": {},
   "source": [
    "### 8.5.2 이미지 생성"
   ]
  },
  {
   "cell_type": "markdown",
   "id": "d4eb931f-b5d4-4bbc-aea7-abc65d0cb9e2",
   "metadata": {},
   "source": [
    "* 화풍 변환과는 다르게 입력 이미지 없이 새로운 이미지를 그리는 연구 진행 중\n",
    "* DCGAN으로 생성한 이미지"
   ]
  },
  {
   "cell_type": "markdown",
   "id": "1fdf2c78-9fcd-44d4-ac62-7dce7f2e84d5",
   "metadata": {},
   "source": [
    "<img src=\"./images/8-24.png\" width=\"500\" height=\"500\"/>\n",
    "[8-24]"
   ]
  },
  {
   "cell_type": "markdown",
   "id": "29abea2e-c209-4756-8d22-964907e2ca6f",
   "metadata": {},
   "source": [
    "* DCGAN 기술의 핵심은 생성자(Generator)와 식별자(Discriminator)의 2개의 신경망을 이용\n",
    "* 생성자가 진짜와 같은 이미지를 생성하고 식별자는 그것이 진짜인지를 판정\n",
    "* 둘을 경쟁시켜 생성자는 더 정교한 가짜 이미지를 생성하는 기술을 학습하고 식별자는 더 정확하게 판별할 수 있도록 학습\n",
    "* GAN(Generative Adversarial Network) 의 개념"
   ]
  },
  {
   "cell_type": "markdown",
   "id": "8dc914f5-c3fa-412e-a471-c6fe361415b1",
   "metadata": {},
   "source": [
    "### 8.5.3 자율 주행"
   ]
  },
  {
   "cell_type": "markdown",
   "id": "d0d0dd1e-9066-4a28-8293-8ac848cd46f0",
   "metadata": {},
   "source": [
    "* SegNEt은 CNN 기반 신경망으로 주변 환경 인식"
   ]
  },
  {
   "cell_type": "markdown",
   "id": "b1a025e7-1c80-4f0e-a7b4-015afd91c587",
   "metadata": {},
   "source": [
    "<img src=\"./images/8-25.png\" width=\"500\" height=\"500\"/>\n",
    "[8-25]"
   ]
  },
  {
   "cell_type": "markdown",
   "id": "d075cf77-a0b4-409d-b235-4893b26c7140",
   "metadata": {},
   "source": [
    "### 8.5.4 Deep Q-Network(강화학습)"
   ]
  },
  {
   "cell_type": "markdown",
   "id": "77231710-f5f5-4ca3-805c-6e17cfea6372",
   "metadata": {},
   "source": [
    "* 강화학습 : 에이전트가 환경에 맞는 행동을 선택하고 그 행동에 의해서 환경이 변함\n",
    "    * 환경이 변화하면 에이전트는 보상을 얻음\n",
    "    * 더 나은 보상을 받는 쪽으로 에이전트의 행동을 바로잡는 것이 목적"
   ]
  },
  {
   "cell_type": "markdown",
   "id": "ac7ddaed-6300-4686-b28e-25d0a7985c0f",
   "metadata": {},
   "source": [
    "<img src=\"./images/8-26.png\" width=\"200\" height=\"200\"/>\n",
    "[8-26]"
   ]
  },
  {
   "cell_type": "markdown",
   "id": "8c233ebc-c0d2-4199-bc4a-388a2b52d69c",
   "metadata": {},
   "source": [
    "* Deep Q-Network(DQN) : Q학습이라는 강화학습 알고리즘을 기초로 함\n",
    "    * Q학습에서 최적 행동 가치 함수로 최적인 행동 설정\n",
    "    * 이 함수를 딥러닝(CNN)으로 비슷하게 흉내 내어 사용\n",
    "    \n",
    "* (사례)\n",
    "    * 비디오 게임을 자율 학습시키기\n",
    "    * DQN에서 사용하는 CNN은 게임 영상 프레임(4개의 연속 프레임)을 입력하여 최종적으로 게임을 제어한는 움직임에 대해 가치를 출력"
   ]
  },
  {
   "cell_type": "markdown",
   "id": "53f0a871-b257-4fc1-91b4-2c3797f8d4a9",
   "metadata": {},
   "source": [
    "<img src=\"./images/8-27.png\" width=\"500\" height=\"500\"/>\n",
    "[8-27]"
   ]
  }
 ],
 "metadata": {
  "kernelspec": {
   "display_name": "Python 3 (ipykernel)",
   "language": "python",
   "name": "python3"
  },
  "language_info": {
   "codemirror_mode": {
    "name": "ipython",
    "version": 3
   },
   "file_extension": ".py",
   "mimetype": "text/x-python",
   "name": "python",
   "nbconvert_exporter": "python",
   "pygments_lexer": "ipython3",
   "version": "3.11.3"
  }
 },
 "nbformat": 4,
 "nbformat_minor": 5
}
